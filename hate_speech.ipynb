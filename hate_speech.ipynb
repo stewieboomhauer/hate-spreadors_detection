{
  "nbformat": 4,
  "nbformat_minor": 0,
  "metadata": {
    "accelerator": "GPU",
    "colab": {
      "name": "hate_speech.ipynb",
      "provenance": [],
      "collapsed_sections": [],
      "include_colab_link": true
    },
    "kernelspec": {
      "display_name": "Python 3",
      "language": "python",
      "name": "python3"
    },
    "language_info": {
      "codemirror_mode": {
        "name": "ipython",
        "version": 3
      },
      "file_extension": ".py",
      "mimetype": "text/x-python",
      "name": "python",
      "nbconvert_exporter": "python",
      "pygments_lexer": "ipython3",
      "version": "3.8.5"
    }
  },
  "cells": [
    {
      "cell_type": "markdown",
      "metadata": {
        "id": "view-in-github",
        "colab_type": "text"
      },
      "source": [
        "<a href=\"https://colab.research.google.com/github/stewieboomhauer/hate-spreadors_detection/blob/main/hate_speech.ipynb\" target=\"_parent\"><img src=\"https://colab.research.google.com/assets/colab-badge.svg\" alt=\"Open In Colab\"/></a>"
      ]
    },
    {
      "cell_type": "code",
      "metadata": {
        "colab": {
          "base_uri": "https://localhost:8080/"
        },
        "id": "fVZo4dN2oRcx",
        "outputId": "18636b54-cb8a-46dc-aae0-e8941d502967"
      },
      "source": [
        "!pip install vaderSentiment\n",
        "!pip install textstat\n",
        "!pip install textblob\n",
        "!pip install demoji"
      ],
      "execution_count": 1,
      "outputs": [
        {
          "output_type": "stream",
          "text": [
            "Collecting vaderSentiment\n",
            "\u001b[?25l  Downloading https://files.pythonhosted.org/packages/76/fc/310e16254683c1ed35eeb97386986d6c00bc29df17ce280aed64d55537e9/vaderSentiment-3.3.2-py2.py3-none-any.whl (125kB)\n",
            "\r\u001b[K     |██▋                             | 10kB 14.2MB/s eta 0:00:01\r\u001b[K     |█████▏                          | 20kB 18.1MB/s eta 0:00:01\r\u001b[K     |███████▉                        | 30kB 14.5MB/s eta 0:00:01\r\u001b[K     |██████████▍                     | 40kB 13.7MB/s eta 0:00:01\r\u001b[K     |█████████████                   | 51kB 12.0MB/s eta 0:00:01\r\u001b[K     |███████████████▋                | 61kB 11.0MB/s eta 0:00:01\r\u001b[K     |██████████████████▏             | 71kB 10.3MB/s eta 0:00:01\r\u001b[K     |████████████████████▉           | 81kB 10.9MB/s eta 0:00:01\r\u001b[K     |███████████████████████▍        | 92kB 10.7MB/s eta 0:00:01\r\u001b[K     |██████████████████████████      | 102kB 10.4MB/s eta 0:00:01\r\u001b[K     |████████████████████████████▋   | 112kB 10.4MB/s eta 0:00:01\r\u001b[K     |███████████████████████████████▏| 122kB 10.4MB/s eta 0:00:01\r\u001b[K     |████████████████████████████████| 133kB 10.4MB/s \n",
            "\u001b[?25hRequirement already satisfied: requests in /usr/local/lib/python3.7/dist-packages (from vaderSentiment) (2.23.0)\n",
            "Requirement already satisfied: certifi>=2017.4.17 in /usr/local/lib/python3.7/dist-packages (from requests->vaderSentiment) (2020.12.5)\n",
            "Requirement already satisfied: chardet<4,>=3.0.2 in /usr/local/lib/python3.7/dist-packages (from requests->vaderSentiment) (3.0.4)\n",
            "Requirement already satisfied: idna<3,>=2.5 in /usr/local/lib/python3.7/dist-packages (from requests->vaderSentiment) (2.10)\n",
            "Requirement already satisfied: urllib3!=1.25.0,!=1.25.1,<1.26,>=1.21.1 in /usr/local/lib/python3.7/dist-packages (from requests->vaderSentiment) (1.24.3)\n",
            "Installing collected packages: vaderSentiment\n",
            "Successfully installed vaderSentiment-3.3.2\n",
            "Collecting textstat\n",
            "\u001b[?25l  Downloading https://files.pythonhosted.org/packages/ca/b1/ab40a00b727a0d209402d1be6aa3f1bc75bd03678b59ace8507b08bf12f5/textstat-0.7.0-py3-none-any.whl (99kB)\n",
            "\u001b[K     |████████████████████████████████| 102kB 6.4MB/s \n",
            "\u001b[?25hCollecting pyphen\n",
            "\u001b[?25l  Downloading https://files.pythonhosted.org/packages/7c/5a/5bc036e01389bc6a6667a932bac3e388de6e7fa5777a6ff50e652f60ec79/Pyphen-0.10.0-py3-none-any.whl (1.9MB)\n",
            "\u001b[K     |████████████████████████████████| 1.9MB 19.1MB/s \n",
            "\u001b[?25hInstalling collected packages: pyphen, textstat\n",
            "Successfully installed pyphen-0.10.0 textstat-0.7.0\n",
            "Requirement already satisfied: textblob in /usr/local/lib/python3.7/dist-packages (0.15.3)\n",
            "Requirement already satisfied: nltk>=3.1 in /usr/local/lib/python3.7/dist-packages (from textblob) (3.2.5)\n",
            "Requirement already satisfied: six in /usr/local/lib/python3.7/dist-packages (from nltk>=3.1->textblob) (1.15.0)\n",
            "Collecting demoji\n",
            "  Downloading https://files.pythonhosted.org/packages/88/6a/34379abe01c9c36fe9fddc4181dd935332e7d0159ec3fae76f712e49bcea/demoji-0.4.0-py2.py3-none-any.whl\n",
            "Requirement already satisfied: requests<3.0.0 in /usr/local/lib/python3.7/dist-packages (from demoji) (2.23.0)\n",
            "Collecting colorama\n",
            "  Downloading https://files.pythonhosted.org/packages/44/98/5b86278fbbf250d239ae0ecb724f8572af1c91f4a11edf4d36a206189440/colorama-0.4.4-py2.py3-none-any.whl\n",
            "Requirement already satisfied: certifi>=2017.4.17 in /usr/local/lib/python3.7/dist-packages (from requests<3.0.0->demoji) (2020.12.5)\n",
            "Requirement already satisfied: idna<3,>=2.5 in /usr/local/lib/python3.7/dist-packages (from requests<3.0.0->demoji) (2.10)\n",
            "Requirement already satisfied: urllib3!=1.25.0,!=1.25.1,<1.26,>=1.21.1 in /usr/local/lib/python3.7/dist-packages (from requests<3.0.0->demoji) (1.24.3)\n",
            "Requirement already satisfied: chardet<4,>=3.0.2 in /usr/local/lib/python3.7/dist-packages (from requests<3.0.0->demoji) (3.0.4)\n",
            "Installing collected packages: colorama, demoji\n",
            "Successfully installed colorama-0.4.4 demoji-0.4.0\n"
          ],
          "name": "stdout"
        }
      ]
    },
    {
      "cell_type": "code",
      "metadata": {
        "colab": {
          "base_uri": "https://localhost:8080/"
        },
        "id": "2s5c91PsEQCA",
        "outputId": "6594ac8f-874e-4cb8-cf45-3fc364e4f46b"
      },
      "source": [
        "import pandas as pd\n",
        "from pandas import DataFrame\n",
        "import numpy as np\n",
        "import pickle\n",
        "import sys\n",
        "import re\n",
        "import os\n",
        "import xml.etree.ElementTree as et\n",
        "from collections import Counter\n",
        "from textstat.textstat import *\n",
        "from textblob import TextBlob\n",
        "import demoji\n",
        "demoji.download_codes()\n",
        "\n",
        "import nltk\n",
        "nltk.download('stopwords')\n",
        "nltk.download('averaged_perceptron_tagger')\n",
        "nltk.download('punkt')\n",
        "nltk.download('vader_lexicon')\n",
        "from nltk.corpus import stopwords\n",
        "from nltk.stem.porter import *\n",
        "from nltk.sentiment.vader import SentimentIntensityAnalyzer\n",
        "from nltk.stem.snowball import SnowballStemmer \n",
        "from nltk.util import ngrams\n",
        "\n",
        "import sklearn as sk\n",
        "from sklearn.feature_extraction.text import CountVectorizer\n",
        "from sklearn.feature_extraction.text import TfidfVectorizer\n",
        "from sklearn.model_selection import train_test_split\n",
        "from sklearn import svm\n",
        "from sklearn.neural_network import MLPClassifier\n",
        "from sklearn.linear_model import SGDClassifier\n",
        "from sklearn.linear_model import LogisticRegression\n",
        "from sklearn.feature_selection import SelectFromModel\n",
        "from sklearn.ensemble import RandomForestClassifier\n",
        "from sklearn.svm import LinearSVC\n",
        "from sklearn.neighbors import KNeighborsClassifier\n",
        "from sklearn.preprocessing import StandardScaler\n",
        "from sklearn.pipeline import make_pipeline\n",
        "from sklearn.metrics import classification_report\n",
        "from sklearn.metrics import f1_score, accuracy_score\n",
        "from sklearn.metrics import plot_confusion_matrix\n",
        "from sklearn.metrics import confusion_matrix\n",
        "from sklearn.model_selection import StratifiedKFold, GridSearchCV\n",
        "from sklearn.pipeline import Pipeline\n",
        "\n",
        "import seaborn as sns\n",
        "import matplotlib.pylab as plt\n",
        "%matplotlib inline"
      ],
      "execution_count": 2,
      "outputs": [
        {
          "output_type": "stream",
          "text": [
            "Downloading emoji data ...\n",
            "... OK (Got response in 0.37 seconds)\n",
            "Writing emoji data to /root/.demoji/codes.json ...\n",
            "... OK\n",
            "[nltk_data] Downloading package stopwords to /root/nltk_data...\n",
            "[nltk_data]   Unzipping corpora/stopwords.zip.\n",
            "[nltk_data] Downloading package averaged_perceptron_tagger to\n",
            "[nltk_data]     /root/nltk_data...\n",
            "[nltk_data]   Unzipping taggers/averaged_perceptron_tagger.zip.\n",
            "[nltk_data] Downloading package punkt to /root/nltk_data...\n",
            "[nltk_data]   Unzipping tokenizers/punkt.zip.\n",
            "[nltk_data] Downloading package vader_lexicon to /root/nltk_data...\n"
          ],
          "name": "stdout"
        },
        {
          "output_type": "stream",
          "text": [
            "/usr/local/lib/python3.7/dist-packages/nltk/twitter/__init__.py:20: UserWarning: The twython library has not been installed. Some functionality from the twitter package will not be available.\n",
            "  warnings.warn(\"The twython library has not been installed. \"\n"
          ],
          "name": "stderr"
        }
      ]
    },
    {
      "cell_type": "markdown",
      "metadata": {
        "id": "jEKsBtiR1x3u"
      },
      "source": [
        "-------------------------------------------------------\n",
        "# **1. Loading Data**\n",
        "-------------------------------------------------------\n"
      ]
    },
    {
      "cell_type": "code",
      "metadata": {
        "colab": {
          "base_uri": "https://localhost:8080/"
        },
        "id": "qqZ2DM66f6F4",
        "outputId": "99bf2532-8b01-4c6d-fcc6-ad4376b06f28"
      },
      "source": [
        "from google.colab import drive\n",
        "drive.mount('/content/drive', force_remount=True)"
      ],
      "execution_count": 3,
      "outputs": [
        {
          "output_type": "stream",
          "text": [
            "Mounted at /content/drive\n"
          ],
          "name": "stdout"
        }
      ]
    },
    {
      "cell_type": "code",
      "metadata": {
        "id": "eTf0vrNmgOO5"
      },
      "source": [
        "def iter_docs(author):\n",
        "    author_attr = author.attrib\n",
        "    for doc in author.iter('document'):\n",
        "        doc_dict = author_attr.copy()\n",
        "        doc_dict.update(doc.attrib)\n",
        "        doc_dict['tweets'] = doc.text\n",
        "        yield doc_dict"
      ],
      "execution_count": 4,
      "outputs": []
    },
    {
      "cell_type": "code",
      "metadata": {
        "id": "5oinsTodE8Hj"
      },
      "source": [
        "xml ='xml'\n",
        "df = []\n",
        "for filename in os.listdir('/content/drive/MyDrive/pan21-author-profiling-training-2021-03-14/en'):\n",
        "  test_xml = open('/content/drive/MyDrive/pan21-author-profiling-training-2021-03-14/en/{filename}'.format(filename=filename), \"r\", encoding='utf8')\n",
        "  etree = et.parse(test_xml) #create an ElementTree object \n",
        "  data = pd.DataFrame(list(iter_docs(etree.getroot())))\n",
        "  data['filename'] = filename\n",
        "  df.append(data)"
      ],
      "execution_count": 5,
      "outputs": []
    },
    {
      "cell_type": "code",
      "metadata": {
        "id": "8zPArwAia7Uh"
      },
      "source": [
        "def iter_docs(author):\n",
        "    author_attr = author.attrib\n",
        "    for doc in author.iter('documents'):\n",
        "        doc_dict = author_attr.copy()\n",
        "        doc_dict.update(doc.attrib)\n",
        "        doc_dict['tweets'] = doc.text\n",
        "        yield doc_dict"
      ],
      "execution_count": 6,
      "outputs": []
    },
    {
      "cell_type": "code",
      "metadata": {
        "id": "bR3Qqv5Xa9L-"
      },
      "source": [
        "xml ='xml'\n",
        "df_new = []\n",
        "for filename in os.listdir('/content/drive/MyDrive/pan21-author-profiling-training-2021-03-14/en'):\n",
        "  test_xml = open('/content/drive/MyDrive/pan21-author-profiling-training-2021-03-14/en/{filename}'.format(filename=filename), \"r\", encoding='utf8')\n",
        "  #mylist = test_xml.readlines()\n",
        "  etree = et.parse(test_xml) #create an ElementTree object \n",
        "  data = pd.DataFrame(list(iter_docs(etree.getroot())))\n",
        "  data['filename'] = filename\n",
        "  df_new.append(data)\n",
        "  #df = pdx.read_xml(mylist, ['author'], ['documents'])"
      ],
      "execution_count": 7,
      "outputs": []
    },
    {
      "cell_type": "markdown",
      "metadata": {
        "id": "IjetJ4GkLaWR"
      },
      "source": [
        "# **2. Preprocessing**"
      ]
    },
    {
      "cell_type": "markdown",
      "metadata": {
        "id": "4A226rUbLERs"
      },
      "source": [
        "## **2.1 Automatic Sentiment Analyses of Tweets**"
      ]
    },
    {
      "cell_type": "code",
      "metadata": {
        "colab": {
          "base_uri": "https://localhost:8080/",
          "height": 416
        },
        "id": "M2L6cqQAK_wS",
        "outputId": "24999af8-2701-4683-b2e0-b227e7cb9d34"
      },
      "source": [
        "analyzer = SentimentIntensityAnalyzer()\n",
        "\n",
        "dfs = pd.concat(df, ignore_index=True)\n",
        "\n",
        "dfs['neg'] = dfs['tweets'].apply(lambda x:analyzer.polarity_scores(x)['neg'])\n",
        "dfs['neu'] = dfs['tweets'].apply(lambda x:analyzer.polarity_scores(x)['neu'])\n",
        "dfs['pos'] = dfs['tweets'].apply(lambda x:analyzer.polarity_scores(x)['pos'])\n",
        "dfs['compound'] = dfs['tweets'].apply(lambda x:analyzer.polarity_scores(x)['compound'])\n",
        "dfs"
      ],
      "execution_count": 8,
      "outputs": [
        {
          "output_type": "execute_result",
          "data": {
            "text/html": [
              "<div>\n",
              "<style scoped>\n",
              "    .dataframe tbody tr th:only-of-type {\n",
              "        vertical-align: middle;\n",
              "    }\n",
              "\n",
              "    .dataframe tbody tr th {\n",
              "        vertical-align: top;\n",
              "    }\n",
              "\n",
              "    .dataframe thead th {\n",
              "        text-align: right;\n",
              "    }\n",
              "</style>\n",
              "<table border=\"1\" class=\"dataframe\">\n",
              "  <thead>\n",
              "    <tr style=\"text-align: right;\">\n",
              "      <th></th>\n",
              "      <th>lang</th>\n",
              "      <th>class</th>\n",
              "      <th>tweets</th>\n",
              "      <th>filename</th>\n",
              "      <th>neg</th>\n",
              "      <th>neu</th>\n",
              "      <th>pos</th>\n",
              "      <th>compound</th>\n",
              "    </tr>\n",
              "  </thead>\n",
              "  <tbody>\n",
              "    <tr>\n",
              "      <th>0</th>\n",
              "      <td>en</td>\n",
              "      <td>0</td>\n",
              "      <td>RT #USER#: #USER# VECTIV™ technology is here. ...</td>\n",
              "      <td>88d8ac4ae2d91e681ee8a8d3b60fd911.xml</td>\n",
              "      <td>0.000</td>\n",
              "      <td>1.000</td>\n",
              "      <td>0.000</td>\n",
              "      <td>0.0000</td>\n",
              "    </tr>\n",
              "    <tr>\n",
              "      <th>1</th>\n",
              "      <td>en</td>\n",
              "      <td>0</td>\n",
              "      <td>In order to expand the possibilities vs the ou...</td>\n",
              "      <td>88d8ac4ae2d91e681ee8a8d3b60fd911.xml</td>\n",
              "      <td>0.000</td>\n",
              "      <td>0.905</td>\n",
              "      <td>0.095</td>\n",
              "      <td>0.3182</td>\n",
              "    </tr>\n",
              "    <tr>\n",
              "      <th>2</th>\n",
              "      <td>en</td>\n",
              "      <td>0</td>\n",
              "      <td>#USER# should find me on LinkedIn</td>\n",
              "      <td>88d8ac4ae2d91e681ee8a8d3b60fd911.xml</td>\n",
              "      <td>0.000</td>\n",
              "      <td>1.000</td>\n",
              "      <td>0.000</td>\n",
              "      <td>0.0000</td>\n",
              "    </tr>\n",
              "    <tr>\n",
              "      <th>3</th>\n",
              "      <td>en</td>\n",
              "      <td>0</td>\n",
              "      <td>RT #USER#: Happy Founder’s Day #USER# from #US...</td>\n",
              "      <td>88d8ac4ae2d91e681ee8a8d3b60fd911.xml</td>\n",
              "      <td>0.000</td>\n",
              "      <td>0.709</td>\n",
              "      <td>0.291</td>\n",
              "      <td>0.5719</td>\n",
              "    </tr>\n",
              "    <tr>\n",
              "      <th>4</th>\n",
              "      <td>en</td>\n",
              "      <td>0</td>\n",
              "      <td>RT #USER#: Loona debuted the electrifying musi...</td>\n",
              "      <td>88d8ac4ae2d91e681ee8a8d3b60fd911.xml</td>\n",
              "      <td>0.000</td>\n",
              "      <td>1.000</td>\n",
              "      <td>0.000</td>\n",
              "      <td>0.0000</td>\n",
              "    </tr>\n",
              "    <tr>\n",
              "      <th>...</th>\n",
              "      <td>...</td>\n",
              "      <td>...</td>\n",
              "      <td>...</td>\n",
              "      <td>...</td>\n",
              "      <td>...</td>\n",
              "      <td>...</td>\n",
              "      <td>...</td>\n",
              "      <td>...</td>\n",
              "    </tr>\n",
              "    <tr>\n",
              "      <th>39995</th>\n",
              "      <td>en</td>\n",
              "      <td>1</td>\n",
              "      <td>RT #USER#: This savage needs to be locked in a...</td>\n",
              "      <td>65042b6a94addf20c6fafd782c5d4347.xml</td>\n",
              "      <td>0.412</td>\n",
              "      <td>0.588</td>\n",
              "      <td>0.000</td>\n",
              "      <td>-0.8271</td>\n",
              "    </tr>\n",
              "    <tr>\n",
              "      <th>39996</th>\n",
              "      <td>en</td>\n",
              "      <td>1</td>\n",
              "      <td>RT #USER#: Is it really a \"conspiracy theory\" ...</td>\n",
              "      <td>65042b6a94addf20c6fafd782c5d4347.xml</td>\n",
              "      <td>0.209</td>\n",
              "      <td>0.791</td>\n",
              "      <td>0.000</td>\n",
              "      <td>-0.5709</td>\n",
              "    </tr>\n",
              "    <tr>\n",
              "      <th>39997</th>\n",
              "      <td>en</td>\n",
              "      <td>1</td>\n",
              "      <td>#USER# Jews brought them here</td>\n",
              "      <td>65042b6a94addf20c6fafd782c5d4347.xml</td>\n",
              "      <td>0.000</td>\n",
              "      <td>1.000</td>\n",
              "      <td>0.000</td>\n",
              "      <td>0.0000</td>\n",
              "    </tr>\n",
              "    <tr>\n",
              "      <th>39998</th>\n",
              "      <td>en</td>\n",
              "      <td>1</td>\n",
              "      <td>RT #USER#: Black men harass and assault White ...</td>\n",
              "      <td>65042b6a94addf20c6fafd782c5d4347.xml</td>\n",
              "      <td>0.333</td>\n",
              "      <td>0.667</td>\n",
              "      <td>0.000</td>\n",
              "      <td>-0.7906</td>\n",
              "    </tr>\n",
              "    <tr>\n",
              "      <th>39999</th>\n",
              "      <td>en</td>\n",
              "      <td>1</td>\n",
              "      <td>RT #USER#: They hate you, White man. #URL#</td>\n",
              "      <td>65042b6a94addf20c6fafd782c5d4347.xml</td>\n",
              "      <td>0.346</td>\n",
              "      <td>0.654</td>\n",
              "      <td>0.000</td>\n",
              "      <td>-0.5719</td>\n",
              "    </tr>\n",
              "  </tbody>\n",
              "</table>\n",
              "<p>40000 rows × 8 columns</p>\n",
              "</div>"
            ],
            "text/plain": [
              "      lang class  ...    pos compound\n",
              "0       en     0  ...  0.000   0.0000\n",
              "1       en     0  ...  0.095   0.3182\n",
              "2       en     0  ...  0.000   0.0000\n",
              "3       en     0  ...  0.291   0.5719\n",
              "4       en     0  ...  0.000   0.0000\n",
              "...    ...   ...  ...    ...      ...\n",
              "39995   en     1  ...  0.000  -0.8271\n",
              "39996   en     1  ...  0.000  -0.5709\n",
              "39997   en     1  ...  0.000   0.0000\n",
              "39998   en     1  ...  0.000  -0.7906\n",
              "39999   en     1  ...  0.000  -0.5719\n",
              "\n",
              "[40000 rows x 8 columns]"
            ]
          },
          "metadata": {
            "tags": []
          },
          "execution_count": 8
        }
      ]
    },
    {
      "cell_type": "markdown",
      "metadata": {
        "id": "y-QcwvnYVYOl"
      },
      "source": [
        "## **2.2 Tokens Distribution**"
      ]
    },
    {
      "cell_type": "code",
      "metadata": {
        "id": "hZZpC8US68X1"
      },
      "source": [
        "all_tweets =dfs[\"tweets\"]\n"
      ],
      "execution_count": 9,
      "outputs": []
    },
    {
      "cell_type": "code",
      "metadata": {
        "id": "d_xINQsb82yT"
      },
      "source": [
        "count = 0\n",
        "num_token_inSentence = []\n",
        "for sent in all_tweets:\n",
        "  count = count+1\n",
        "  word_list = len(sent.split())\n",
        "  num_token_inSentence.append(word_list)"
      ],
      "execution_count": 10,
      "outputs": []
    },
    {
      "cell_type": "code",
      "metadata": {
        "colab": {
          "base_uri": "https://localhost:8080/"
        },
        "id": "kJ-UHL09-eLx",
        "outputId": "050f81b4-4855-40e7-833a-6aae503b4726"
      },
      "source": [
        "avg_tokens =sum(num_token_inSentence)/count\n",
        "print(avg_tokens)"
      ],
      "execution_count": 11,
      "outputs": [
        {
          "output_type": "stream",
          "text": [
            "12.273925\n"
          ],
          "name": "stdout"
        }
      ]
    },
    {
      "cell_type": "code",
      "metadata": {
        "id": "SCHbQVvQAFOy"
      },
      "source": [
        "dfs[\"tokens\"] = dfs[\"tweets\"].map(lambda text: re.sub(r\"[^a-zA-Z0-9' ]\", ' ', text)).map(lambda text: text.split())"
      ],
      "execution_count": 12,
      "outputs": []
    },
    {
      "cell_type": "code",
      "metadata": {
        "id": "KeIb6eJrAzLj"
      },
      "source": [
        "num = dfs.shape[0]"
      ],
      "execution_count": 13,
      "outputs": []
    },
    {
      "cell_type": "code",
      "metadata": {
        "colab": {
          "base_uri": "https://localhost:8080/",
          "height": 225
        },
        "id": "M4BBQwsjAPpQ",
        "outputId": "436e0516-f28b-4517-8eac-c36843f4c8d9"
      },
      "source": [
        "dfs[\"num_tokens\"] = dfs[\"tokens\"].map(len)\n",
        "ax = dfs[\"num_tokens\"].hist(bins=20, \n",
        "                                 figsize=(4,3),\n",
        "                                 weights=np.ones(num)/num)\n",
        "ax.set_xlabel(\"Number of Tokens\")\n",
        "ax.set_ylabel(\"Ratio\")\n",
        "plt.show()"
      ],
      "execution_count": 14,
      "outputs": [
        {
          "output_type": "display_data",
          "data": {
            "image/png": "[encoded data removed]",
            "text/plain": [
              "<Figure size 288x216 with 1 Axes>"
            ]
          },
          "metadata": {
            "tags": [],
            "needs_background": "light"
          }
        }
      ]
    },
    {
      "cell_type": "code",
      "metadata": {
        "id": "orBlmJFsBeic"
      },
      "source": [
        "#dfs.to_csv(r'/content/drive/MyDrive/pan21-author-profiling-training-2021-03-14/sentiment_analyses.csv')"
      ],
      "execution_count": 15,
      "outputs": []
    },
    {
      "cell_type": "markdown",
      "metadata": {
        "id": "RDM3ja54LiaE"
      },
      "source": [
        "## **2.3 Creating Dataframe**"
      ]
    },
    {
      "cell_type": "code",
      "metadata": {
        "id": "xj644Ih1Vehl"
      },
      "source": [
        "col_one_list = []\n",
        "for d in df:\n",
        "  #print(dfs['tweets'])\n",
        "  col_one_list.append(d['tweets'].tolist())"
      ],
      "execution_count": 16,
      "outputs": []
    },
    {
      "cell_type": "code",
      "metadata": {
        "colab": {
          "base_uri": "https://localhost:8080/",
          "height": 416
        },
        "id": "quCCGnbUbjGU",
        "outputId": "70850c14-c145-4fba-f759-4f7a045f0196"
      },
      "source": [
        "data = pd.concat(df_new, ignore_index=True)\n",
        "data.drop(['tweets'], axis=1)"
      ],
      "execution_count": 17,
      "outputs": [
        {
          "output_type": "execute_result",
          "data": {
            "text/html": [
              "<div>\n",
              "<style scoped>\n",
              "    .dataframe tbody tr th:only-of-type {\n",
              "        vertical-align: middle;\n",
              "    }\n",
              "\n",
              "    .dataframe tbody tr th {\n",
              "        vertical-align: top;\n",
              "    }\n",
              "\n",
              "    .dataframe thead th {\n",
              "        text-align: right;\n",
              "    }\n",
              "</style>\n",
              "<table border=\"1\" class=\"dataframe\">\n",
              "  <thead>\n",
              "    <tr style=\"text-align: right;\">\n",
              "      <th></th>\n",
              "      <th>lang</th>\n",
              "      <th>class</th>\n",
              "      <th>filename</th>\n",
              "    </tr>\n",
              "  </thead>\n",
              "  <tbody>\n",
              "    <tr>\n",
              "      <th>0</th>\n",
              "      <td>en</td>\n",
              "      <td>0</td>\n",
              "      <td>88d8ac4ae2d91e681ee8a8d3b60fd911.xml</td>\n",
              "    </tr>\n",
              "    <tr>\n",
              "      <th>1</th>\n",
              "      <td>en</td>\n",
              "      <td>0</td>\n",
              "      <td>86a7f84c2dd126dac46270b6c912952c.xml</td>\n",
              "    </tr>\n",
              "    <tr>\n",
              "      <th>2</th>\n",
              "      <td>en</td>\n",
              "      <td>0</td>\n",
              "      <td>9d58d6313bfb2fba9e1e45bb9d65cf0b.xml</td>\n",
              "    </tr>\n",
              "    <tr>\n",
              "      <th>3</th>\n",
              "      <td>en</td>\n",
              "      <td>0</td>\n",
              "      <td>f2b1fc84c500c38a93522efbd422b559.xml</td>\n",
              "    </tr>\n",
              "    <tr>\n",
              "      <th>4</th>\n",
              "      <td>en</td>\n",
              "      <td>0</td>\n",
              "      <td>26644d1348fc1122e8c5ef45d6bc84fa.xml</td>\n",
              "    </tr>\n",
              "    <tr>\n",
              "      <th>...</th>\n",
              "      <td>...</td>\n",
              "      <td>...</td>\n",
              "      <td>...</td>\n",
              "    </tr>\n",
              "    <tr>\n",
              "      <th>195</th>\n",
              "      <td>en</td>\n",
              "      <td>1</td>\n",
              "      <td>c129b2cf075e1872a86ce8f7473819af.xml</td>\n",
              "    </tr>\n",
              "    <tr>\n",
              "      <th>196</th>\n",
              "      <td>en</td>\n",
              "      <td>1</td>\n",
              "      <td>8b7608a503048538181399629fe67913.xml</td>\n",
              "    </tr>\n",
              "    <tr>\n",
              "      <th>197</th>\n",
              "      <td>en</td>\n",
              "      <td>1</td>\n",
              "      <td>5d4a0908d433733c14c38261fc4f4250.xml</td>\n",
              "    </tr>\n",
              "    <tr>\n",
              "      <th>198</th>\n",
              "      <td>en</td>\n",
              "      <td>1</td>\n",
              "      <td>a41db55c14ec3878c055eb1ece4e5866.xml</td>\n",
              "    </tr>\n",
              "    <tr>\n",
              "      <th>199</th>\n",
              "      <td>en</td>\n",
              "      <td>1</td>\n",
              "      <td>65042b6a94addf20c6fafd782c5d4347.xml</td>\n",
              "    </tr>\n",
              "  </tbody>\n",
              "</table>\n",
              "<p>200 rows × 3 columns</p>\n",
              "</div>"
            ],
            "text/plain": [
              "    lang class                              filename\n",
              "0     en     0  88d8ac4ae2d91e681ee8a8d3b60fd911.xml\n",
              "1     en     0  86a7f84c2dd126dac46270b6c912952c.xml\n",
              "2     en     0  9d58d6313bfb2fba9e1e45bb9d65cf0b.xml\n",
              "3     en     0  f2b1fc84c500c38a93522efbd422b559.xml\n",
              "4     en     0  26644d1348fc1122e8c5ef45d6bc84fa.xml\n",
              "..   ...   ...                                   ...\n",
              "195   en     1  c129b2cf075e1872a86ce8f7473819af.xml\n",
              "196   en     1  8b7608a503048538181399629fe67913.xml\n",
              "197   en     1  5d4a0908d433733c14c38261fc4f4250.xml\n",
              "198   en     1  a41db55c14ec3878c055eb1ece4e5866.xml\n",
              "199   en     1  65042b6a94addf20c6fafd782c5d4347.xml\n",
              "\n",
              "[200 rows x 3 columns]"
            ]
          },
          "metadata": {
            "tags": []
          },
          "execution_count": 17
        }
      ]
    },
    {
      "cell_type": "code",
      "metadata": {
        "id": "ElwYQWxMWPex"
      },
      "source": [
        "tweets_to_string = []\n",
        "\n",
        "for elem in col_one_list:\n",
        "    string = ''.join(elem)\n",
        "    tweets_to_string.append(string)\n",
        "    \n",
        "dataframe = pd.DataFrame(tweets_to_string, columns=[\"tweets\"])"
      ],
      "execution_count": 18,
      "outputs": []
    },
    {
      "cell_type": "code",
      "metadata": {
        "id": "qkg8fqz-ecSH"
      },
      "source": [
        "#Create the dataframe, that will be used\n",
        "data.update(dataframe)"
      ],
      "execution_count": 19,
      "outputs": []
    },
    {
      "cell_type": "code",
      "metadata": {
        "colab": {
          "base_uri": "https://localhost:8080/",
          "height": 416
        },
        "id": "MBfWhKORkq9G",
        "outputId": "76534e5c-d99f-4692-d59a-aa8a12336f43"
      },
      "source": [
        "#data = shuffle(data)\n",
        "data"
      ],
      "execution_count": 20,
      "outputs": [
        {
          "output_type": "execute_result",
          "data": {
            "text/html": [
              "<div>\n",
              "<style scoped>\n",
              "    .dataframe tbody tr th:only-of-type {\n",
              "        vertical-align: middle;\n",
              "    }\n",
              "\n",
              "    .dataframe tbody tr th {\n",
              "        vertical-align: top;\n",
              "    }\n",
              "\n",
              "    .dataframe thead th {\n",
              "        text-align: right;\n",
              "    }\n",
              "</style>\n",
              "<table border=\"1\" class=\"dataframe\">\n",
              "  <thead>\n",
              "    <tr style=\"text-align: right;\">\n",
              "      <th></th>\n",
              "      <th>lang</th>\n",
              "      <th>class</th>\n",
              "      <th>tweets</th>\n",
              "      <th>filename</th>\n",
              "    </tr>\n",
              "  </thead>\n",
              "  <tbody>\n",
              "    <tr>\n",
              "      <th>0</th>\n",
              "      <td>en</td>\n",
              "      <td>0</td>\n",
              "      <td>RT #USER#: #USER# VECTIV™ technology is here. ...</td>\n",
              "      <td>88d8ac4ae2d91e681ee8a8d3b60fd911.xml</td>\n",
              "    </tr>\n",
              "    <tr>\n",
              "      <th>1</th>\n",
              "      <td>en</td>\n",
              "      <td>0</td>\n",
              "      <td>Who wants this accAnd to all the people who su...</td>\n",
              "      <td>86a7f84c2dd126dac46270b6c912952c.xml</td>\n",
              "    </tr>\n",
              "    <tr>\n",
              "      <th>2</th>\n",
              "      <td>en</td>\n",
              "      <td>0</td>\n",
              "      <td>#USER# Wait till you get out...it gets worseIt...</td>\n",
              "      <td>9d58d6313bfb2fba9e1e45bb9d65cf0b.xml</td>\n",
              "    </tr>\n",
              "    <tr>\n",
              "      <th>3</th>\n",
              "      <td>en</td>\n",
              "      <td>0</td>\n",
              "      <td>If you havent tried Parler yet please give it ...</td>\n",
              "      <td>f2b1fc84c500c38a93522efbd422b559.xml</td>\n",
              "    </tr>\n",
              "    <tr>\n",
              "      <th>4</th>\n",
              "      <td>en</td>\n",
              "      <td>0</td>\n",
              "      <td>#USER# #USER# \"tell people what to do...\" hmm,...</td>\n",
              "      <td>26644d1348fc1122e8c5ef45d6bc84fa.xml</td>\n",
              "    </tr>\n",
              "    <tr>\n",
              "      <th>...</th>\n",
              "      <td>...</td>\n",
              "      <td>...</td>\n",
              "      <td>...</td>\n",
              "      <td>...</td>\n",
              "    </tr>\n",
              "    <tr>\n",
              "      <th>195</th>\n",
              "      <td>en</td>\n",
              "      <td>1</td>\n",
              "      <td>RT #USER#: The four most dangerous people in t...</td>\n",
              "      <td>c129b2cf075e1872a86ce8f7473819af.xml</td>\n",
              "    </tr>\n",
              "    <tr>\n",
              "      <th>196</th>\n",
              "      <td>en</td>\n",
              "      <td>1</td>\n",
              "      <td>Check out my broadcast from my PlayStation 4! ...</td>\n",
              "      <td>8b7608a503048538181399629fe67913.xml</td>\n",
              "    </tr>\n",
              "    <tr>\n",
              "      <th>197</th>\n",
              "      <td>en</td>\n",
              "      <td>1</td>\n",
              "      <td>RT #USER#: So Lebron had 30 13 13 goat lmaoWom...</td>\n",
              "      <td>5d4a0908d433733c14c38261fc4f4250.xml</td>\n",
              "    </tr>\n",
              "    <tr>\n",
              "      <th>198</th>\n",
              "      <td>en</td>\n",
              "      <td>1</td>\n",
              "      <td>Also not frozen or it will explode. #URL#Same ...</td>\n",
              "      <td>a41db55c14ec3878c055eb1ece4e5866.xml</td>\n",
              "    </tr>\n",
              "    <tr>\n",
              "      <th>199</th>\n",
              "      <td>en</td>\n",
              "      <td>1</td>\n",
              "      <td>RT #USER#: &amp;gt;\"Billions in COVID relief for b...</td>\n",
              "      <td>65042b6a94addf20c6fafd782c5d4347.xml</td>\n",
              "    </tr>\n",
              "  </tbody>\n",
              "</table>\n",
              "<p>200 rows × 4 columns</p>\n",
              "</div>"
            ],
            "text/plain": [
              "    lang  ...                              filename\n",
              "0     en  ...  88d8ac4ae2d91e681ee8a8d3b60fd911.xml\n",
              "1     en  ...  86a7f84c2dd126dac46270b6c912952c.xml\n",
              "2     en  ...  9d58d6313bfb2fba9e1e45bb9d65cf0b.xml\n",
              "3     en  ...  f2b1fc84c500c38a93522efbd422b559.xml\n",
              "4     en  ...  26644d1348fc1122e8c5ef45d6bc84fa.xml\n",
              "..   ...  ...                                   ...\n",
              "195   en  ...  c129b2cf075e1872a86ce8f7473819af.xml\n",
              "196   en  ...  8b7608a503048538181399629fe67913.xml\n",
              "197   en  ...  5d4a0908d433733c14c38261fc4f4250.xml\n",
              "198   en  ...  a41db55c14ec3878c055eb1ece4e5866.xml\n",
              "199   en  ...  65042b6a94addf20c6fafd782c5d4347.xml\n",
              "\n",
              "[200 rows x 4 columns]"
            ]
          },
          "metadata": {
            "tags": []
          },
          "execution_count": 20
        }
      ]
    },
    {
      "cell_type": "code",
      "metadata": {
        "colab": {
          "base_uri": "https://localhost:8080/",
          "height": 172
        },
        "id": "Ri67RuP9rquT",
        "outputId": "7a23a0ca-51b6-4f06-a866-3397897fa243"
      },
      "source": [
        "data.describe()"
      ],
      "execution_count": 21,
      "outputs": [
        {
          "output_type": "execute_result",
          "data": {
            "text/html": [
              "<div>\n",
              "<style scoped>\n",
              "    .dataframe tbody tr th:only-of-type {\n",
              "        vertical-align: middle;\n",
              "    }\n",
              "\n",
              "    .dataframe tbody tr th {\n",
              "        vertical-align: top;\n",
              "    }\n",
              "\n",
              "    .dataframe thead th {\n",
              "        text-align: right;\n",
              "    }\n",
              "</style>\n",
              "<table border=\"1\" class=\"dataframe\">\n",
              "  <thead>\n",
              "    <tr style=\"text-align: right;\">\n",
              "      <th></th>\n",
              "      <th>lang</th>\n",
              "      <th>class</th>\n",
              "      <th>tweets</th>\n",
              "      <th>filename</th>\n",
              "    </tr>\n",
              "  </thead>\n",
              "  <tbody>\n",
              "    <tr>\n",
              "      <th>count</th>\n",
              "      <td>200</td>\n",
              "      <td>200</td>\n",
              "      <td>200</td>\n",
              "      <td>200</td>\n",
              "    </tr>\n",
              "    <tr>\n",
              "      <th>unique</th>\n",
              "      <td>1</td>\n",
              "      <td>2</td>\n",
              "      <td>200</td>\n",
              "      <td>200</td>\n",
              "    </tr>\n",
              "    <tr>\n",
              "      <th>top</th>\n",
              "      <td>en</td>\n",
              "      <td>1</td>\n",
              "      <td>Anti-#HASHTAG# mayor of #HASHTAG#, Ore., has t...</td>\n",
              "      <td>2c38fc584f7566f7010d220c102d6b56.xml</td>\n",
              "    </tr>\n",
              "    <tr>\n",
              "      <th>freq</th>\n",
              "      <td>200</td>\n",
              "      <td>100</td>\n",
              "      <td>1</td>\n",
              "      <td>1</td>\n",
              "    </tr>\n",
              "  </tbody>\n",
              "</table>\n",
              "</div>"
            ],
            "text/plain": [
              "       lang  ...                              filename\n",
              "count   200  ...                                   200\n",
              "unique    1  ...                                   200\n",
              "top      en  ...  2c38fc584f7566f7010d220c102d6b56.xml\n",
              "freq    200  ...                                     1\n",
              "\n",
              "[4 rows x 4 columns]"
            ]
          },
          "metadata": {
            "tags": []
          },
          "execution_count": 21
        }
      ]
    },
    {
      "cell_type": "code",
      "metadata": {
        "colab": {
          "base_uri": "https://localhost:8080/",
          "height": 282
        },
        "id": "7qHSRQsFnn7C",
        "outputId": "75c1dea3-dda7-433e-c8b3-bf99f4997ca2"
      },
      "source": [
        "\n",
        "data['class'].hist()"
      ],
      "execution_count": 22,
      "outputs": [
        {
          "output_type": "execute_result",
          "data": {
            "text/plain": [
              "<matplotlib.axes._subplots.AxesSubplot at 0x7febf57fca10>"
            ]
          },
          "metadata": {
            "tags": []
          },
          "execution_count": 22
        },
        {
          "output_type": "display_data",
          "data": {
            "image/png": "[encoded data removed]",
            "text/plain": [
              "<Figure size 432x288 with 1 Axes>"
            ]
          },
          "metadata": {
            "tags": [],
            "needs_background": "light"
          }
        }
      ]
    },
    {
      "cell_type": "code",
      "metadata": {
        "id": "qHdG5TlqoBTk"
      },
      "source": [
        "tweets = data[\"tweets\"].copy()"
      ],
      "execution_count": 23,
      "outputs": []
    },
    {
      "cell_type": "markdown",
      "metadata": {
        "id": "Qyk9dkf4IoQa"
      },
      "source": [
        "# **3. Methods**"
      ]
    },
    {
      "cell_type": "markdown",
      "metadata": {
        "id": "t7VvlX3C2-Nw"
      },
      "source": [
        "------------------------------------------\n",
        "## **3.1. Feature Engineering**\n",
        "\n",
        "**Vectorization**\n",
        "\n",
        "The following settings for vectorization were used:\n",
        "\n",
        "\n",
        "\n",
        "*   Word representation: TFIDFVectorizer;\n",
        "*   N-grams: unigram & bigram & trigram;\n",
        "*   Convert to lowercase;\n",
        "*   Try binary counter;\n",
        "*   Use stop words;\n",
        "\n",
        "------------------------------------------"
      ]
    },
    {
      "cell_type": "markdown",
      "metadata": {
        "id": "vhXuovOJMB5l"
      },
      "source": [
        "### **3.1.1 Creating List with \"Stopwords\"**"
      ]
    },
    {
      "cell_type": "code",
      "metadata": {
        "colab": {
          "base_uri": "https://localhost:8080/"
        },
        "id": "oOeTkDgGL2o7",
        "outputId": "981a89b5-ec38-41f5-e350-26c6d893b17c"
      },
      "source": [
        "\n",
        "#Tokenize tweets to count words\n",
        "s = ''.join(tweets_to_string)\n",
        "#get rid of punctuation\n",
        "sentence = re.sub(r'[^\\w\\s]','',s.lower())\n",
        "tokens = nltk.word_tokenize(sentence)\n",
        "\n",
        "#Tokens Distribution (word occurrences)\n",
        "occurrences = Counter(tokens).most_common(63)\n",
        "dictOftokens = dict(occurrences)\n",
        "\n",
        "#Tokens with occurrences more than 1000\n",
        "most_common_tokens = []\n",
        "for k,v in dictOftokens.items():\n",
        "  most_common_tokens.append(k)\n",
        "\n",
        "#Get most common tokens to add them to stopwords\n",
        "print(most_common_tokens) "
      ],
      "execution_count": 24,
      "outputs": [
        {
          "output_type": "stream",
          "text": [
            "['user', 'the', 'to', 'a', 'i', 'you', 'is', 'and', 'urlrt', 'hashtag', 'of', 'in', 'for', 'this', 'on', 'my', 'it', 'that', 'be', 'urluser', 'me', 'are', 'not', 'with', 'like', 'they', 'just', 'im', 'have', 'your', 'all', 'so', 'dont', 'we', 'its', 'was', 'rt', 'what', 'if', 'do', 'no', 'but', 'get', 'at', 'url', 'up', 'people', 'he', 'by', 'as', 'out', 'will', 'about', 'can', 'from', 'got', 'when', 'how', 'one', 'who', 'know', 'more', 'amp']\n"
          ],
          "name": "stdout"
        }
      ]
    },
    {
      "cell_type": "code",
      "metadata": {
        "id": "hoPDgctAP0Jz"
      },
      "source": [
        "#Creating a list with stopwords\n",
        "stopwords=stopwords = nltk.corpus.stopwords.words(\"english\")\n",
        "stopwords.extend(most_common_tokens)\n",
        "stopwords = list(set(stopwords))"
      ],
      "execution_count": 25,
      "outputs": []
    },
    {
      "cell_type": "markdown",
      "metadata": {
        "id": "6IG8sc578Lst"
      },
      "source": [
        "### **3.1.2 Preprocess Methods**"
      ]
    },
    {
      "cell_type": "code",
      "metadata": {
        "id": "tfElrM0_n3Ai"
      },
      "source": [
        "\n",
        "#Add preprocess Method\n",
        "def preprocess(text_string):\n",
        "    \"\"\"\n",
        "    Accepts a text string and replaces:\n",
        "    1) urls with URLHERE\n",
        "    2) lots of whitespace with one instance\n",
        "    3) mentions with MENTIONHERE\n",
        "\n",
        "    This allows us to get standardized counts of urls and mentions\n",
        "    Without caring about specific people mentioned\n",
        "    \"\"\"\n",
        "    space_pattern = '\\s+'\n",
        "    giant_url_regex = ('http[s]?://(?:[a-zA-Z]|[0-9]|[$-_@.&+]|'\n",
        "        '[!*\\(\\),]|(?:%[0-9a-fA-F][0-9a-fA-F]))+')\n",
        "    mention_regex = '@[\\w\\-]+'\n",
        "    parsed_text = re.sub(space_pattern, ' ', text_string)\n",
        "    parsed_text = re.sub(giant_url_regex, '', parsed_text)\n",
        "    parsed_text = re.sub(mention_regex, '', parsed_text)\n",
        "    return parsed_text\n",
        "\n",
        "#Add method to get rid of Emojis\n",
        "def remove_emoji(string):\n",
        "    emoji_pattern = re.compile(\"[\"\n",
        "                               u\"\\U0001F600-\\U0001F64F\"  # emoticons\n",
        "                               u\"\\U0001F300-\\U0001F5FF\"  # symbols & pictographs\n",
        "                               u\"\\U0001F680-\\U0001F6FF\"  # transport & map symbols\n",
        "                               u\"\\U0001F1E0-\\U0001F1FF\"  # flags (iOS)\n",
        "                               u\"\\U00002500-\\U00002BEF\"  # chinese char\n",
        "                               u\"\\U00002702-\\U000027B0\"\n",
        "                               u\"\\U00002702-\\U000027B0\"\n",
        "                               u\"\\U000024C2-\\U0001F251\"\n",
        "                               u\"\\U0001f926-\\U0001f937\"\n",
        "                               u\"\\U00010000-\\U0010ffff\"\n",
        "                               u\"\\u2640-\\u2642\"\n",
        "                               u\"\\u2600-\\u2B55\"\n",
        "                               u\"\\u200d\"\n",
        "                               u\"\\u23cf\"\n",
        "                               u\"\\u23e9\"\n",
        "                               u\"\\u231a\"\n",
        "                               u\"\\ufe0f\"  # dingbats\n",
        "                               u\"\\u3030\"\n",
        "                               \"]+\", flags=re.UNICODE)\n",
        "    return emoji_pattern.sub(r'', string)\n",
        "\n",
        "#Add Word Tokenizer without Stemming\n",
        "def basic_tokenize(tweet):\n",
        "    \"\"\"Removes punctuation & excess whitespace, sets to lowercase.\n",
        "      Returns a list of tokens.\"\"\"\n",
        "    list_tokens = []\n",
        "    for t in tweet:\n",
        "      sentence = re.sub(r'[^\\w\\s]','',t.lower())\n",
        "      list_tokens.append(nltk.word_tokenize(sentence))\n",
        "    tokens = [item for sublist in list_tokens for item in sublist]\n",
        "    return tokens\n",
        "\n",
        "counter = CountVectorizer()\n",
        "data1 = counter.fit_transform(tweets)\n",
        "count = pd.DataFrame(data = data1.toarray(), columns = counter.get_feature_names())\n",
        "unique_words = count.columns[count.sum(axis = 0) == 1]\n",
        "\n",
        "#Add method to ged rid of unique words\n",
        "def kick_the_word(s):\n",
        "    p = re.compile(r\"\\w+(?:'\\w+)*|[^\\w\\s]\")\n",
        "    b = p.findall(s)\n",
        "    for word in b:\n",
        "        if word in unique_words:\n",
        "            s = s.replace(word, '')\n",
        "    return s\n",
        "\n",
        "\n",
        "def analyzer(text):\n",
        "    text = text.lower()\n",
        "    tokens = basic_tokenize(text)    \n",
        "    return [''.join(ngram) for token in tokens for ngram in ngrams(token, 2)]\n"
      ],
      "execution_count": 26,
      "outputs": []
    },
    {
      "cell_type": "code",
      "metadata": {
        "id": "8lBvDkwmNJ3d"
      },
      "source": [
        "#Application of methods\n",
        "tweets = tweets.apply(lambda x: x.replace('#USER#', '').lower())\n",
        "tweets = tweets.apply(remove_emoji)\n",
        "tweets = tweets.apply(kick_the_word)\n",
        "tweets = tweets.str.replace('[^\\w\\s]','')"
      ],
      "execution_count": 27,
      "outputs": []
    },
    {
      "cell_type": "markdown",
      "metadata": {
        "id": "KY8pdTiqFXft"
      },
      "source": [
        "## **3.2 N-gram Method**"
      ]
    },
    {
      "cell_type": "markdown",
      "metadata": {
        "id": "kKx3b3A-GNvI"
      },
      "source": [
        "### **3.2.1 Word N-gram Vectorizer**"
      ]
    },
    {
      "cell_type": "code",
      "metadata": {
        "id": "pRubp_KDnjNX"
      },
      "source": [
        "tfidf_word = TfidfVectorizer(\n",
        "    analyzer='word',\n",
        "    stop_words=stopwords,\n",
        "    preprocessor=preprocess,\n",
        "    ngram_range=(1, 3),\n",
        "    use_idf=True,\n",
        "    smooth_idf=False,\n",
        "    norm=None,\n",
        "    decode_error='replace',\n",
        "    max_features=10000,\n",
        "    min_df=5,\n",
        "    max_df=0.75)"
      ],
      "execution_count": 28,
      "outputs": []
    },
    {
      "cell_type": "code",
      "metadata": {
        "id": "6Vx60AuKogSe"
      },
      "source": [
        "#Construct tfidf matrix and get relevant scores\n",
        "tfidf_words =tfidf_word.fit_transform(tweets).toarray()\n",
        "vocab_words = {v:i for i, v in enumerate(tfidf_word.get_feature_names())}\n",
        "idf_vals = tfidf_word.idf_\n",
        "idf_dict = {i:idf_vals[i] for i in vocab_words.values()} #keys are indices; values are IDF scores\n"
      ],
      "execution_count": 29,
      "outputs": []
    },
    {
      "cell_type": "markdown",
      "metadata": {
        "id": "4EgIMZ6qGhxr"
      },
      "source": [
        "### **3.2.2 Char N-gram Vectorizer**"
      ]
    },
    {
      "cell_type": "code",
      "metadata": {
        "id": "mktohBFWGnqG"
      },
      "source": [
        "tfidf_char = TfidfVectorizer(\n",
        "    analyzer='char',\n",
        "    stop_words=stopwords,\n",
        "    preprocessor=preprocess,\n",
        "    ngram_range=(3, 6),\n",
        "    use_idf=True,\n",
        "    smooth_idf=False,\n",
        "    norm=None,\n",
        "    decode_error='replace',\n",
        "    max_features=10000,\n",
        "    min_df=5,\n",
        "    max_df=0.75)"
      ],
      "execution_count": 30,
      "outputs": []
    },
    {
      "cell_type": "code",
      "metadata": {
        "id": "fgaNNYf3Gu7x"
      },
      "source": [
        "#Construct tfidf matrix and get relevant scores\n",
        "tfidf_chars =tfidf_char.fit_transform(tweets).toarray()\n",
        "vocab_chars = {v:i for i, v in enumerate(tfidf_char.get_feature_names())}\n",
        "idf_vals = tfidf_char.idf_\n",
        "idf_dict = {i:idf_vals[i] for i in vocab_chars.values()} #keys are indices; values are IDF scores\n"
      ],
      "execution_count": 31,
      "outputs": []
    },
    {
      "cell_type": "markdown",
      "metadata": {
        "id": "yt9BMeZbNgbK"
      },
      "source": [
        "### **3.2.3 POS-TF-IDF Vectorizer**"
      ]
    },
    {
      "cell_type": "code",
      "metadata": {
        "id": "BKbC1u6_4oH_"
      },
      "source": [
        "#We can use the TFIDF vectorizer to get a token matrix for the POS tags\n",
        "pos_vectorizer = TfidfVectorizer(\n",
        "    tokenizer=None,\n",
        "    lowercase=False,\n",
        "    preprocessor=None,\n",
        "    ngram_range=(1, 3),\n",
        "    stop_words=None,\n",
        "    use_idf=False,\n",
        "    smooth_idf=False,\n",
        "    norm=None,\n",
        "    decode_error='replace',\n",
        "    max_features=5000,\n",
        "    min_df=5,\n",
        "    max_df=0.75,\n",
        "    )"
      ],
      "execution_count": 32,
      "outputs": []
    },
    {
      "cell_type": "code",
      "metadata": {
        "id": "TZwFPpxNNnag"
      },
      "source": [
        "#Get POS tags for tweets and save as a string\n",
        "tweet_tags = []\n",
        "list_tokens = []\n",
        "for t in tweets:\n",
        "    sentence = re.sub(r'[^\\w\\s]','',t.lower())\n",
        "    tokens = nltk.word_tokenize(preprocess(sentence))\n",
        "    tags = nltk.pos_tag(tokens)\n",
        "    tag_list = [x[1] for x in tags]\n",
        "    tag_str = \" \".join(tag_list)\n",
        "    tweet_tags.append(tag_str)"
      ],
      "execution_count": 33,
      "outputs": []
    },
    {
      "cell_type": "code",
      "metadata": {
        "id": "W2xkferj4uct"
      },
      "source": [
        "#Construct POS TF matrix and get vocab dict\n",
        "pos = pos_vectorizer.fit_transform(pd.Series(tweet_tags)).toarray()\n",
        "pos_vocab = {v:i for i, v in enumerate(pos_vectorizer.get_feature_names())}"
      ],
      "execution_count": 34,
      "outputs": []
    },
    {
      "cell_type": "markdown",
      "metadata": {
        "id": "CeipR-maRrb1"
      },
      "source": [
        "## **3.3 Key phrase-based Method**"
      ]
    },
    {
      "cell_type": "code",
      "metadata": {
        "id": "Q-w_nuMnJR43"
      },
      "source": [
        "def containsAny(str, set):\n",
        "    \"\"\" Check whether sequence str contains ANY of the items in set. \"\"\"\n",
        "    return 1 in [c in str for c in set]\n",
        "    \n",
        "\n",
        "def proccestxts(col_one_list,txt):\n",
        "    s=set(())\n",
        "    for i in open(txt, 'r'):\n",
        "        s.add(i[:-1])\n",
        "    vectorizer = CountVectorizer(analyzer='char',ngram_range=(3, 3))\n",
        "    x = list(s)\n",
        "    X = vectorizer.fit_transform(x)\n",
        "    gram=vectorizer.get_feature_names()\n",
        "    s=set(())\n",
        "    for i in gram:\n",
        "        s.add(i)\n",
        "    #print(s)\n",
        "    ar=[]\n",
        "    for i in col_one_list:\n",
        "        x=0\n",
        "        for tw in i:\n",
        "            if TextBlob(tw).polarity<-0.2:\n",
        "                if containsAny(tw,s):\n",
        "                    x=x+1\n",
        "        ar.append(x)\n",
        "    return ar \n",
        "\n",
        "\n",
        "\n",
        "hate_words_list=proccestxts(col_one_list, '/content/drive/MyDrive/pan21-author-profiling-training-2021-03-14/hate_words.txt')\n",
        "nation_words_list=proccestxts(col_one_list, '/content/drive/MyDrive/pan21-author-profiling-training-2021-03-14/nations.txt')\n",
        "lgbt_words_list=proccestxts(col_one_list, '/content/drive/MyDrive/pan21-author-profiling-training-2021-03-14/lgbt.txt')\n",
        "religion_words_list=proccestxts(col_one_list, '/content/drive/MyDrive/pan21-author-profiling-training-2021-03-14/religion.txt')\n",
        "genders_words_list=proccestxts(col_one_list, '/content/drive/MyDrive/pan21-author-profiling-training-2021-03-14/genders.txt')\n",
        "\n",
        "myM=[]\n",
        "\n",
        "myM.append(genders_words_list)\n",
        "myM.append(lgbt_words_list)\n",
        "myM.append(religion_words_list)\n",
        "myM.append(nation_words_list)\n",
        "myM.append(hate_words_list)\n"
      ],
      "execution_count": 35,
      "outputs": []
    },
    {
      "cell_type": "markdown",
      "metadata": {
        "id": "z4kxfC6N4ZIy"
      },
      "source": [
        "## **3.4 Splitting Datasets for Machine Learning Models**"
      ]
    },
    {
      "cell_type": "code",
      "metadata": {
        "id": "H1VWSsJCqfbO",
        "colab": {
          "base_uri": "https://localhost:8080/"
        },
        "outputId": "c3c0f314-9230-4dcb-d298-7be2d8095a59"
      },
      "source": [
        "key_list = np.array(myM)\n",
        "print(key_list.shape)\n",
        "\n",
        "ngramm_word = np.concatenate([tfidf_words,pos],axis=1)\n",
        "print(ngramm_word.shape)\n",
        "ngramm_char = np.concatenate([tfidf_chars,pos],axis=1)\n",
        "print(ngramm_char.shape)\n"
      ],
      "execution_count": 36,
      "outputs": [
        {
          "output_type": "stream",
          "text": [
            "(5, 200)\n",
            "(200, 11346)\n",
            "(200, 14735)\n"
          ],
          "name": "stdout"
        }
      ]
    },
    {
      "cell_type": "code",
      "metadata": {
        "id": "ZTG_kKsu0Iy8"
      },
      "source": [
        "#Finally get a list of variable names\n",
        "variables_words = ['']*len(vocab_words)\n",
        "for k,v in vocab_words.items():\n",
        "    variables_words[v] = k\n",
        "\n",
        "variables_chars = ['']*len(vocab_chars)\n",
        "for k,v in vocab_chars.items():\n",
        "    variables_chars[v] = k\n",
        "\n",
        "pos_variables = ['']*len(pos_vocab)\n",
        "for k,v in pos_vocab.items():\n",
        "    pos_variables[v] = k\n",
        "\n",
        "feature_names_words = variables_words+pos_variables\n",
        "feature_names_chars = variables_chars+pos_variables"
      ],
      "execution_count": 37,
      "outputs": []
    },
    {
      "cell_type": "code",
      "metadata": {
        "id": "6eOHBOUWq1c8"
      },
      "source": [
        "X_word = pd.DataFrame(ngramm_word)\n",
        "X_char = pd.DataFrame(ngramm_char)\n",
        "X_keyList = pd.DataFrame(key_list.T)\n",
        "\n",
        "y = data['class'].astype(int)\n",
        "\n"
      ],
      "execution_count": 38,
      "outputs": []
    },
    {
      "cell_type": "code",
      "metadata": {
        "id": "wBOHzB5ZOWB1",
        "colab": {
          "base_uri": "https://localhost:8080/",
          "height": 427
        },
        "outputId": "6c1d0d2e-838c-4c8b-b5e9-cab1d36ef5ba"
      },
      "source": [
        "X_train_word, X_test_word, y_train_word, y_test_word = train_test_split(X_word, y, test_size = 0.3, random_state = 42, shuffle=True)\n",
        "X_train_word"
      ],
      "execution_count": 39,
      "outputs": [
        {
          "output_type": "execute_result",
          "data": {
            "text/html": [
              "<div>\n",
              "<style scoped>\n",
              "    .dataframe tbody tr th:only-of-type {\n",
              "        vertical-align: middle;\n",
              "    }\n",
              "\n",
              "    .dataframe tbody tr th {\n",
              "        vertical-align: top;\n",
              "    }\n",
              "\n",
              "    .dataframe thead th {\n",
              "        text-align: right;\n",
              "    }\n",
              "</style>\n",
              "<table border=\"1\" class=\"dataframe\">\n",
              "  <thead>\n",
              "    <tr style=\"text-align: right;\">\n",
              "      <th></th>\n",
              "      <th>0</th>\n",
              "      <th>1</th>\n",
              "      <th>2</th>\n",
              "      <th>3</th>\n",
              "      <th>4</th>\n",
              "      <th>5</th>\n",
              "      <th>6</th>\n",
              "      <th>7</th>\n",
              "      <th>8</th>\n",
              "      <th>9</th>\n",
              "      <th>10</th>\n",
              "      <th>11</th>\n",
              "      <th>12</th>\n",
              "      <th>13</th>\n",
              "      <th>14</th>\n",
              "      <th>15</th>\n",
              "      <th>16</th>\n",
              "      <th>17</th>\n",
              "      <th>18</th>\n",
              "      <th>19</th>\n",
              "      <th>20</th>\n",
              "      <th>21</th>\n",
              "      <th>22</th>\n",
              "      <th>23</th>\n",
              "      <th>24</th>\n",
              "      <th>25</th>\n",
              "      <th>26</th>\n",
              "      <th>27</th>\n",
              "      <th>28</th>\n",
              "      <th>29</th>\n",
              "      <th>30</th>\n",
              "      <th>31</th>\n",
              "      <th>32</th>\n",
              "      <th>33</th>\n",
              "      <th>34</th>\n",
              "      <th>35</th>\n",
              "      <th>36</th>\n",
              "      <th>37</th>\n",
              "      <th>38</th>\n",
              "      <th>39</th>\n",
              "      <th>...</th>\n",
              "      <th>11306</th>\n",
              "      <th>11307</th>\n",
              "      <th>11308</th>\n",
              "      <th>11309</th>\n",
              "      <th>11310</th>\n",
              "      <th>11311</th>\n",
              "      <th>11312</th>\n",
              "      <th>11313</th>\n",
              "      <th>11314</th>\n",
              "      <th>11315</th>\n",
              "      <th>11316</th>\n",
              "      <th>11317</th>\n",
              "      <th>11318</th>\n",
              "      <th>11319</th>\n",
              "      <th>11320</th>\n",
              "      <th>11321</th>\n",
              "      <th>11322</th>\n",
              "      <th>11323</th>\n",
              "      <th>11324</th>\n",
              "      <th>11325</th>\n",
              "      <th>11326</th>\n",
              "      <th>11327</th>\n",
              "      <th>11328</th>\n",
              "      <th>11329</th>\n",
              "      <th>11330</th>\n",
              "      <th>11331</th>\n",
              "      <th>11332</th>\n",
              "      <th>11333</th>\n",
              "      <th>11334</th>\n",
              "      <th>11335</th>\n",
              "      <th>11336</th>\n",
              "      <th>11337</th>\n",
              "      <th>11338</th>\n",
              "      <th>11339</th>\n",
              "      <th>11340</th>\n",
              "      <th>11341</th>\n",
              "      <th>11342</th>\n",
              "      <th>11343</th>\n",
              "      <th>11344</th>\n",
              "      <th>11345</th>\n",
              "    </tr>\n",
              "  </thead>\n",
              "  <tbody>\n",
              "    <tr>\n",
              "      <th>169</th>\n",
              "      <td>0.000000</td>\n",
              "      <td>2.007858</td>\n",
              "      <td>0.0</td>\n",
              "      <td>0.0</td>\n",
              "      <td>0.000000</td>\n",
              "      <td>1.903868</td>\n",
              "      <td>0.000000</td>\n",
              "      <td>0.000000</td>\n",
              "      <td>0.0</td>\n",
              "      <td>0.0</td>\n",
              "      <td>0.0</td>\n",
              "      <td>0.0</td>\n",
              "      <td>0.000000</td>\n",
              "      <td>0.0</td>\n",
              "      <td>0.0</td>\n",
              "      <td>0.0</td>\n",
              "      <td>0.00000</td>\n",
              "      <td>0.000000</td>\n",
              "      <td>0.000000</td>\n",
              "      <td>0.000000</td>\n",
              "      <td>0.000000</td>\n",
              "      <td>0.0</td>\n",
              "      <td>3.302585</td>\n",
              "      <td>0.0</td>\n",
              "      <td>0.0</td>\n",
              "      <td>0.0</td>\n",
              "      <td>0.000000</td>\n",
              "      <td>0.000000</td>\n",
              "      <td>0.00000</td>\n",
              "      <td>0.000000</td>\n",
              "      <td>0.0</td>\n",
              "      <td>0.0</td>\n",
              "      <td>3.525729</td>\n",
              "      <td>0.0</td>\n",
              "      <td>0.0</td>\n",
              "      <td>0.0</td>\n",
              "      <td>0.0</td>\n",
              "      <td>0.0</td>\n",
              "      <td>0.000000</td>\n",
              "      <td>0.000000</td>\n",
              "      <td>...</td>\n",
              "      <td>0.0</td>\n",
              "      <td>0.0</td>\n",
              "      <td>0.0</td>\n",
              "      <td>0.0</td>\n",
              "      <td>0.0</td>\n",
              "      <td>0.0</td>\n",
              "      <td>2.0</td>\n",
              "      <td>1.0</td>\n",
              "      <td>0.0</td>\n",
              "      <td>0.0</td>\n",
              "      <td>0.0</td>\n",
              "      <td>0.0</td>\n",
              "      <td>0.0</td>\n",
              "      <td>0.0</td>\n",
              "      <td>0.0</td>\n",
              "      <td>0.0</td>\n",
              "      <td>0.0</td>\n",
              "      <td>1.0</td>\n",
              "      <td>0.0</td>\n",
              "      <td>0.0</td>\n",
              "      <td>0.0</td>\n",
              "      <td>1.0</td>\n",
              "      <td>0.0</td>\n",
              "      <td>0.0</td>\n",
              "      <td>0.0</td>\n",
              "      <td>0.0</td>\n",
              "      <td>0.0</td>\n",
              "      <td>1.0</td>\n",
              "      <td>0.0</td>\n",
              "      <td>0.0</td>\n",
              "      <td>2.0</td>\n",
              "      <td>0.0</td>\n",
              "      <td>1.0</td>\n",
              "      <td>0.0</td>\n",
              "      <td>0.0</td>\n",
              "      <td>0.0</td>\n",
              "      <td>1.0</td>\n",
              "      <td>0.0</td>\n",
              "      <td>0.0</td>\n",
              "      <td>0.0</td>\n",
              "    </tr>\n",
              "    <tr>\n",
              "      <th>97</th>\n",
              "      <td>0.000000</td>\n",
              "      <td>4.015716</td>\n",
              "      <td>0.0</td>\n",
              "      <td>0.0</td>\n",
              "      <td>0.000000</td>\n",
              "      <td>0.000000</td>\n",
              "      <td>0.000000</td>\n",
              "      <td>0.000000</td>\n",
              "      <td>0.0</td>\n",
              "      <td>0.0</td>\n",
              "      <td>0.0</td>\n",
              "      <td>0.0</td>\n",
              "      <td>2.328025</td>\n",
              "      <td>0.0</td>\n",
              "      <td>0.0</td>\n",
              "      <td>0.0</td>\n",
              "      <td>0.00000</td>\n",
              "      <td>0.000000</td>\n",
              "      <td>0.000000</td>\n",
              "      <td>0.000000</td>\n",
              "      <td>4.101093</td>\n",
              "      <td>0.0</td>\n",
              "      <td>0.000000</td>\n",
              "      <td>0.0</td>\n",
              "      <td>0.0</td>\n",
              "      <td>0.0</td>\n",
              "      <td>0.000000</td>\n",
              "      <td>0.000000</td>\n",
              "      <td>4.24786</td>\n",
              "      <td>0.000000</td>\n",
              "      <td>0.0</td>\n",
              "      <td>0.0</td>\n",
              "      <td>3.525729</td>\n",
              "      <td>0.0</td>\n",
              "      <td>0.0</td>\n",
              "      <td>0.0</td>\n",
              "      <td>0.0</td>\n",
              "      <td>0.0</td>\n",
              "      <td>0.000000</td>\n",
              "      <td>0.000000</td>\n",
              "      <td>...</td>\n",
              "      <td>0.0</td>\n",
              "      <td>0.0</td>\n",
              "      <td>0.0</td>\n",
              "      <td>0.0</td>\n",
              "      <td>0.0</td>\n",
              "      <td>0.0</td>\n",
              "      <td>0.0</td>\n",
              "      <td>0.0</td>\n",
              "      <td>0.0</td>\n",
              "      <td>0.0</td>\n",
              "      <td>0.0</td>\n",
              "      <td>0.0</td>\n",
              "      <td>0.0</td>\n",
              "      <td>0.0</td>\n",
              "      <td>0.0</td>\n",
              "      <td>0.0</td>\n",
              "      <td>0.0</td>\n",
              "      <td>0.0</td>\n",
              "      <td>0.0</td>\n",
              "      <td>0.0</td>\n",
              "      <td>0.0</td>\n",
              "      <td>1.0</td>\n",
              "      <td>0.0</td>\n",
              "      <td>0.0</td>\n",
              "      <td>0.0</td>\n",
              "      <td>0.0</td>\n",
              "      <td>0.0</td>\n",
              "      <td>1.0</td>\n",
              "      <td>0.0</td>\n",
              "      <td>0.0</td>\n",
              "      <td>0.0</td>\n",
              "      <td>0.0</td>\n",
              "      <td>0.0</td>\n",
              "      <td>0.0</td>\n",
              "      <td>0.0</td>\n",
              "      <td>0.0</td>\n",
              "      <td>0.0</td>\n",
              "      <td>0.0</td>\n",
              "      <td>0.0</td>\n",
              "      <td>0.0</td>\n",
              "    </tr>\n",
              "    <tr>\n",
              "      <th>31</th>\n",
              "      <td>4.352407</td>\n",
              "      <td>2.007858</td>\n",
              "      <td>0.0</td>\n",
              "      <td>0.0</td>\n",
              "      <td>3.900422</td>\n",
              "      <td>0.000000</td>\n",
              "      <td>0.000000</td>\n",
              "      <td>0.000000</td>\n",
              "      <td>0.0</td>\n",
              "      <td>0.0</td>\n",
              "      <td>0.0</td>\n",
              "      <td>0.0</td>\n",
              "      <td>0.000000</td>\n",
              "      <td>0.0</td>\n",
              "      <td>0.0</td>\n",
              "      <td>0.0</td>\n",
              "      <td>0.00000</td>\n",
              "      <td>2.427116</td>\n",
              "      <td>4.688879</td>\n",
              "      <td>0.000000</td>\n",
              "      <td>0.000000</td>\n",
              "      <td>0.0</td>\n",
              "      <td>0.000000</td>\n",
              "      <td>0.0</td>\n",
              "      <td>0.0</td>\n",
              "      <td>0.0</td>\n",
              "      <td>0.000000</td>\n",
              "      <td>0.000000</td>\n",
              "      <td>0.00000</td>\n",
              "      <td>0.000000</td>\n",
              "      <td>0.0</td>\n",
              "      <td>0.0</td>\n",
              "      <td>0.000000</td>\n",
              "      <td>0.0</td>\n",
              "      <td>0.0</td>\n",
              "      <td>0.0</td>\n",
              "      <td>0.0</td>\n",
              "      <td>0.0</td>\n",
              "      <td>0.000000</td>\n",
              "      <td>0.000000</td>\n",
              "      <td>...</td>\n",
              "      <td>0.0</td>\n",
              "      <td>0.0</td>\n",
              "      <td>0.0</td>\n",
              "      <td>0.0</td>\n",
              "      <td>0.0</td>\n",
              "      <td>1.0</td>\n",
              "      <td>0.0</td>\n",
              "      <td>0.0</td>\n",
              "      <td>0.0</td>\n",
              "      <td>0.0</td>\n",
              "      <td>0.0</td>\n",
              "      <td>0.0</td>\n",
              "      <td>0.0</td>\n",
              "      <td>0.0</td>\n",
              "      <td>0.0</td>\n",
              "      <td>0.0</td>\n",
              "      <td>0.0</td>\n",
              "      <td>0.0</td>\n",
              "      <td>0.0</td>\n",
              "      <td>0.0</td>\n",
              "      <td>0.0</td>\n",
              "      <td>0.0</td>\n",
              "      <td>0.0</td>\n",
              "      <td>0.0</td>\n",
              "      <td>0.0</td>\n",
              "      <td>0.0</td>\n",
              "      <td>0.0</td>\n",
              "      <td>0.0</td>\n",
              "      <td>0.0</td>\n",
              "      <td>0.0</td>\n",
              "      <td>1.0</td>\n",
              "      <td>0.0</td>\n",
              "      <td>1.0</td>\n",
              "      <td>0.0</td>\n",
              "      <td>0.0</td>\n",
              "      <td>0.0</td>\n",
              "      <td>0.0</td>\n",
              "      <td>0.0</td>\n",
              "      <td>0.0</td>\n",
              "      <td>0.0</td>\n",
              "    </tr>\n",
              "    <tr>\n",
              "      <th>12</th>\n",
              "      <td>0.000000</td>\n",
              "      <td>2.007858</td>\n",
              "      <td>0.0</td>\n",
              "      <td>0.0</td>\n",
              "      <td>0.000000</td>\n",
              "      <td>0.000000</td>\n",
              "      <td>0.000000</td>\n",
              "      <td>0.000000</td>\n",
              "      <td>0.0</td>\n",
              "      <td>0.0</td>\n",
              "      <td>0.0</td>\n",
              "      <td>0.0</td>\n",
              "      <td>0.000000</td>\n",
              "      <td>0.0</td>\n",
              "      <td>0.0</td>\n",
              "      <td>0.0</td>\n",
              "      <td>0.00000</td>\n",
              "      <td>0.000000</td>\n",
              "      <td>0.000000</td>\n",
              "      <td>0.000000</td>\n",
              "      <td>0.000000</td>\n",
              "      <td>0.0</td>\n",
              "      <td>0.000000</td>\n",
              "      <td>0.0</td>\n",
              "      <td>0.0</td>\n",
              "      <td>0.0</td>\n",
              "      <td>0.000000</td>\n",
              "      <td>3.040221</td>\n",
              "      <td>0.00000</td>\n",
              "      <td>0.000000</td>\n",
              "      <td>0.0</td>\n",
              "      <td>0.0</td>\n",
              "      <td>0.000000</td>\n",
              "      <td>0.0</td>\n",
              "      <td>0.0</td>\n",
              "      <td>0.0</td>\n",
              "      <td>0.0</td>\n",
              "      <td>0.0</td>\n",
              "      <td>0.000000</td>\n",
              "      <td>6.815891</td>\n",
              "      <td>...</td>\n",
              "      <td>0.0</td>\n",
              "      <td>0.0</td>\n",
              "      <td>0.0</td>\n",
              "      <td>0.0</td>\n",
              "      <td>0.0</td>\n",
              "      <td>0.0</td>\n",
              "      <td>1.0</td>\n",
              "      <td>1.0</td>\n",
              "      <td>0.0</td>\n",
              "      <td>0.0</td>\n",
              "      <td>0.0</td>\n",
              "      <td>0.0</td>\n",
              "      <td>0.0</td>\n",
              "      <td>0.0</td>\n",
              "      <td>0.0</td>\n",
              "      <td>0.0</td>\n",
              "      <td>0.0</td>\n",
              "      <td>0.0</td>\n",
              "      <td>0.0</td>\n",
              "      <td>0.0</td>\n",
              "      <td>0.0</td>\n",
              "      <td>0.0</td>\n",
              "      <td>0.0</td>\n",
              "      <td>0.0</td>\n",
              "      <td>0.0</td>\n",
              "      <td>0.0</td>\n",
              "      <td>0.0</td>\n",
              "      <td>0.0</td>\n",
              "      <td>0.0</td>\n",
              "      <td>0.0</td>\n",
              "      <td>0.0</td>\n",
              "      <td>0.0</td>\n",
              "      <td>0.0</td>\n",
              "      <td>0.0</td>\n",
              "      <td>0.0</td>\n",
              "      <td>0.0</td>\n",
              "      <td>0.0</td>\n",
              "      <td>0.0</td>\n",
              "      <td>0.0</td>\n",
              "      <td>0.0</td>\n",
              "    </tr>\n",
              "    <tr>\n",
              "      <th>35</th>\n",
              "      <td>0.000000</td>\n",
              "      <td>0.000000</td>\n",
              "      <td>0.0</td>\n",
              "      <td>0.0</td>\n",
              "      <td>0.000000</td>\n",
              "      <td>1.903868</td>\n",
              "      <td>3.253795</td>\n",
              "      <td>0.000000</td>\n",
              "      <td>0.0</td>\n",
              "      <td>0.0</td>\n",
              "      <td>0.0</td>\n",
              "      <td>0.0</td>\n",
              "      <td>0.000000</td>\n",
              "      <td>0.0</td>\n",
              "      <td>0.0</td>\n",
              "      <td>0.0</td>\n",
              "      <td>0.00000</td>\n",
              "      <td>2.427116</td>\n",
              "      <td>0.000000</td>\n",
              "      <td>4.506558</td>\n",
              "      <td>0.000000</td>\n",
              "      <td>0.0</td>\n",
              "      <td>0.000000</td>\n",
              "      <td>0.0</td>\n",
              "      <td>0.0</td>\n",
              "      <td>0.0</td>\n",
              "      <td>0.000000</td>\n",
              "      <td>0.000000</td>\n",
              "      <td>0.00000</td>\n",
              "      <td>0.000000</td>\n",
              "      <td>0.0</td>\n",
              "      <td>0.0</td>\n",
              "      <td>0.000000</td>\n",
              "      <td>0.0</td>\n",
              "      <td>0.0</td>\n",
              "      <td>0.0</td>\n",
              "      <td>0.0</td>\n",
              "      <td>0.0</td>\n",
              "      <td>0.000000</td>\n",
              "      <td>0.000000</td>\n",
              "      <td>...</td>\n",
              "      <td>0.0</td>\n",
              "      <td>0.0</td>\n",
              "      <td>0.0</td>\n",
              "      <td>0.0</td>\n",
              "      <td>0.0</td>\n",
              "      <td>0.0</td>\n",
              "      <td>1.0</td>\n",
              "      <td>1.0</td>\n",
              "      <td>1.0</td>\n",
              "      <td>0.0</td>\n",
              "      <td>1.0</td>\n",
              "      <td>1.0</td>\n",
              "      <td>0.0</td>\n",
              "      <td>0.0</td>\n",
              "      <td>0.0</td>\n",
              "      <td>0.0</td>\n",
              "      <td>1.0</td>\n",
              "      <td>0.0</td>\n",
              "      <td>0.0</td>\n",
              "      <td>0.0</td>\n",
              "      <td>0.0</td>\n",
              "      <td>0.0</td>\n",
              "      <td>0.0</td>\n",
              "      <td>0.0</td>\n",
              "      <td>0.0</td>\n",
              "      <td>0.0</td>\n",
              "      <td>0.0</td>\n",
              "      <td>0.0</td>\n",
              "      <td>0.0</td>\n",
              "      <td>0.0</td>\n",
              "      <td>0.0</td>\n",
              "      <td>0.0</td>\n",
              "      <td>0.0</td>\n",
              "      <td>0.0</td>\n",
              "      <td>0.0</td>\n",
              "      <td>0.0</td>\n",
              "      <td>0.0</td>\n",
              "      <td>0.0</td>\n",
              "      <td>0.0</td>\n",
              "      <td>0.0</td>\n",
              "    </tr>\n",
              "    <tr>\n",
              "      <th>...</th>\n",
              "      <td>...</td>\n",
              "      <td>...</td>\n",
              "      <td>...</td>\n",
              "      <td>...</td>\n",
              "      <td>...</td>\n",
              "      <td>...</td>\n",
              "      <td>...</td>\n",
              "      <td>...</td>\n",
              "      <td>...</td>\n",
              "      <td>...</td>\n",
              "      <td>...</td>\n",
              "      <td>...</td>\n",
              "      <td>...</td>\n",
              "      <td>...</td>\n",
              "      <td>...</td>\n",
              "      <td>...</td>\n",
              "      <td>...</td>\n",
              "      <td>...</td>\n",
              "      <td>...</td>\n",
              "      <td>...</td>\n",
              "      <td>...</td>\n",
              "      <td>...</td>\n",
              "      <td>...</td>\n",
              "      <td>...</td>\n",
              "      <td>...</td>\n",
              "      <td>...</td>\n",
              "      <td>...</td>\n",
              "      <td>...</td>\n",
              "      <td>...</td>\n",
              "      <td>...</td>\n",
              "      <td>...</td>\n",
              "      <td>...</td>\n",
              "      <td>...</td>\n",
              "      <td>...</td>\n",
              "      <td>...</td>\n",
              "      <td>...</td>\n",
              "      <td>...</td>\n",
              "      <td>...</td>\n",
              "      <td>...</td>\n",
              "      <td>...</td>\n",
              "      <td>...</td>\n",
              "      <td>...</td>\n",
              "      <td>...</td>\n",
              "      <td>...</td>\n",
              "      <td>...</td>\n",
              "      <td>...</td>\n",
              "      <td>...</td>\n",
              "      <td>...</td>\n",
              "      <td>...</td>\n",
              "      <td>...</td>\n",
              "      <td>...</td>\n",
              "      <td>...</td>\n",
              "      <td>...</td>\n",
              "      <td>...</td>\n",
              "      <td>...</td>\n",
              "      <td>...</td>\n",
              "      <td>...</td>\n",
              "      <td>...</td>\n",
              "      <td>...</td>\n",
              "      <td>...</td>\n",
              "      <td>...</td>\n",
              "      <td>...</td>\n",
              "      <td>...</td>\n",
              "      <td>...</td>\n",
              "      <td>...</td>\n",
              "      <td>...</td>\n",
              "      <td>...</td>\n",
              "      <td>...</td>\n",
              "      <td>...</td>\n",
              "      <td>...</td>\n",
              "      <td>...</td>\n",
              "      <td>...</td>\n",
              "      <td>...</td>\n",
              "      <td>...</td>\n",
              "      <td>...</td>\n",
              "      <td>...</td>\n",
              "      <td>...</td>\n",
              "      <td>...</td>\n",
              "      <td>...</td>\n",
              "      <td>...</td>\n",
              "      <td>...</td>\n",
              "    </tr>\n",
              "    <tr>\n",
              "      <th>106</th>\n",
              "      <td>0.000000</td>\n",
              "      <td>2.007858</td>\n",
              "      <td>0.0</td>\n",
              "      <td>0.0</td>\n",
              "      <td>0.000000</td>\n",
              "      <td>0.000000</td>\n",
              "      <td>0.000000</td>\n",
              "      <td>0.000000</td>\n",
              "      <td>0.0</td>\n",
              "      <td>0.0</td>\n",
              "      <td>0.0</td>\n",
              "      <td>0.0</td>\n",
              "      <td>0.000000</td>\n",
              "      <td>0.0</td>\n",
              "      <td>0.0</td>\n",
              "      <td>0.0</td>\n",
              "      <td>0.00000</td>\n",
              "      <td>0.000000</td>\n",
              "      <td>0.000000</td>\n",
              "      <td>0.000000</td>\n",
              "      <td>0.000000</td>\n",
              "      <td>0.0</td>\n",
              "      <td>0.000000</td>\n",
              "      <td>0.0</td>\n",
              "      <td>0.0</td>\n",
              "      <td>0.0</td>\n",
              "      <td>3.353878</td>\n",
              "      <td>0.000000</td>\n",
              "      <td>0.00000</td>\n",
              "      <td>0.000000</td>\n",
              "      <td>0.0</td>\n",
              "      <td>0.0</td>\n",
              "      <td>0.000000</td>\n",
              "      <td>0.0</td>\n",
              "      <td>0.0</td>\n",
              "      <td>0.0</td>\n",
              "      <td>0.0</td>\n",
              "      <td>0.0</td>\n",
              "      <td>0.000000</td>\n",
              "      <td>0.000000</td>\n",
              "      <td>...</td>\n",
              "      <td>0.0</td>\n",
              "      <td>0.0</td>\n",
              "      <td>0.0</td>\n",
              "      <td>0.0</td>\n",
              "      <td>0.0</td>\n",
              "      <td>0.0</td>\n",
              "      <td>1.0</td>\n",
              "      <td>1.0</td>\n",
              "      <td>0.0</td>\n",
              "      <td>0.0</td>\n",
              "      <td>0.0</td>\n",
              "      <td>0.0</td>\n",
              "      <td>0.0</td>\n",
              "      <td>0.0</td>\n",
              "      <td>0.0</td>\n",
              "      <td>0.0</td>\n",
              "      <td>0.0</td>\n",
              "      <td>0.0</td>\n",
              "      <td>0.0</td>\n",
              "      <td>0.0</td>\n",
              "      <td>0.0</td>\n",
              "      <td>1.0</td>\n",
              "      <td>0.0</td>\n",
              "      <td>0.0</td>\n",
              "      <td>0.0</td>\n",
              "      <td>0.0</td>\n",
              "      <td>0.0</td>\n",
              "      <td>0.0</td>\n",
              "      <td>1.0</td>\n",
              "      <td>0.0</td>\n",
              "      <td>2.0</td>\n",
              "      <td>0.0</td>\n",
              "      <td>1.0</td>\n",
              "      <td>0.0</td>\n",
              "      <td>0.0</td>\n",
              "      <td>0.0</td>\n",
              "      <td>1.0</td>\n",
              "      <td>0.0</td>\n",
              "      <td>0.0</td>\n",
              "      <td>0.0</td>\n",
              "    </tr>\n",
              "    <tr>\n",
              "      <th>14</th>\n",
              "      <td>0.000000</td>\n",
              "      <td>0.000000</td>\n",
              "      <td>0.0</td>\n",
              "      <td>0.0</td>\n",
              "      <td>0.000000</td>\n",
              "      <td>0.000000</td>\n",
              "      <td>0.000000</td>\n",
              "      <td>0.000000</td>\n",
              "      <td>0.0</td>\n",
              "      <td>0.0</td>\n",
              "      <td>0.0</td>\n",
              "      <td>0.0</td>\n",
              "      <td>0.000000</td>\n",
              "      <td>0.0</td>\n",
              "      <td>0.0</td>\n",
              "      <td>0.0</td>\n",
              "      <td>0.00000</td>\n",
              "      <td>0.000000</td>\n",
              "      <td>0.000000</td>\n",
              "      <td>0.000000</td>\n",
              "      <td>0.000000</td>\n",
              "      <td>0.0</td>\n",
              "      <td>0.000000</td>\n",
              "      <td>0.0</td>\n",
              "      <td>0.0</td>\n",
              "      <td>0.0</td>\n",
              "      <td>0.000000</td>\n",
              "      <td>0.000000</td>\n",
              "      <td>0.00000</td>\n",
              "      <td>0.000000</td>\n",
              "      <td>0.0</td>\n",
              "      <td>0.0</td>\n",
              "      <td>0.000000</td>\n",
              "      <td>0.0</td>\n",
              "      <td>0.0</td>\n",
              "      <td>0.0</td>\n",
              "      <td>0.0</td>\n",
              "      <td>0.0</td>\n",
              "      <td>0.000000</td>\n",
              "      <td>0.000000</td>\n",
              "      <td>...</td>\n",
              "      <td>0.0</td>\n",
              "      <td>0.0</td>\n",
              "      <td>0.0</td>\n",
              "      <td>0.0</td>\n",
              "      <td>0.0</td>\n",
              "      <td>0.0</td>\n",
              "      <td>0.0</td>\n",
              "      <td>0.0</td>\n",
              "      <td>0.0</td>\n",
              "      <td>0.0</td>\n",
              "      <td>0.0</td>\n",
              "      <td>1.0</td>\n",
              "      <td>0.0</td>\n",
              "      <td>0.0</td>\n",
              "      <td>1.0</td>\n",
              "      <td>0.0</td>\n",
              "      <td>0.0</td>\n",
              "      <td>0.0</td>\n",
              "      <td>0.0</td>\n",
              "      <td>0.0</td>\n",
              "      <td>0.0</td>\n",
              "      <td>1.0</td>\n",
              "      <td>0.0</td>\n",
              "      <td>0.0</td>\n",
              "      <td>0.0</td>\n",
              "      <td>0.0</td>\n",
              "      <td>1.0</td>\n",
              "      <td>0.0</td>\n",
              "      <td>0.0</td>\n",
              "      <td>0.0</td>\n",
              "      <td>0.0</td>\n",
              "      <td>0.0</td>\n",
              "      <td>0.0</td>\n",
              "      <td>0.0</td>\n",
              "      <td>0.0</td>\n",
              "      <td>0.0</td>\n",
              "      <td>0.0</td>\n",
              "      <td>0.0</td>\n",
              "      <td>0.0</td>\n",
              "      <td>0.0</td>\n",
              "    </tr>\n",
              "    <tr>\n",
              "      <th>92</th>\n",
              "      <td>0.000000</td>\n",
              "      <td>0.000000</td>\n",
              "      <td>0.0</td>\n",
              "      <td>0.0</td>\n",
              "      <td>0.000000</td>\n",
              "      <td>3.807736</td>\n",
              "      <td>0.000000</td>\n",
              "      <td>4.101093</td>\n",
              "      <td>0.0</td>\n",
              "      <td>0.0</td>\n",
              "      <td>0.0</td>\n",
              "      <td>0.0</td>\n",
              "      <td>0.000000</td>\n",
              "      <td>0.0</td>\n",
              "      <td>0.0</td>\n",
              "      <td>0.0</td>\n",
              "      <td>17.32552</td>\n",
              "      <td>0.000000</td>\n",
              "      <td>0.000000</td>\n",
              "      <td>0.000000</td>\n",
              "      <td>0.000000</td>\n",
              "      <td>0.0</td>\n",
              "      <td>0.000000</td>\n",
              "      <td>0.0</td>\n",
              "      <td>0.0</td>\n",
              "      <td>0.0</td>\n",
              "      <td>0.000000</td>\n",
              "      <td>0.000000</td>\n",
              "      <td>0.00000</td>\n",
              "      <td>0.000000</td>\n",
              "      <td>0.0</td>\n",
              "      <td>0.0</td>\n",
              "      <td>0.000000</td>\n",
              "      <td>0.0</td>\n",
              "      <td>0.0</td>\n",
              "      <td>0.0</td>\n",
              "      <td>0.0</td>\n",
              "      <td>0.0</td>\n",
              "      <td>0.000000</td>\n",
              "      <td>0.000000</td>\n",
              "      <td>...</td>\n",
              "      <td>0.0</td>\n",
              "      <td>1.0</td>\n",
              "      <td>0.0</td>\n",
              "      <td>0.0</td>\n",
              "      <td>0.0</td>\n",
              "      <td>0.0</td>\n",
              "      <td>1.0</td>\n",
              "      <td>1.0</td>\n",
              "      <td>0.0</td>\n",
              "      <td>0.0</td>\n",
              "      <td>0.0</td>\n",
              "      <td>2.0</td>\n",
              "      <td>0.0</td>\n",
              "      <td>1.0</td>\n",
              "      <td>1.0</td>\n",
              "      <td>0.0</td>\n",
              "      <td>0.0</td>\n",
              "      <td>0.0</td>\n",
              "      <td>0.0</td>\n",
              "      <td>0.0</td>\n",
              "      <td>0.0</td>\n",
              "      <td>1.0</td>\n",
              "      <td>1.0</td>\n",
              "      <td>0.0</td>\n",
              "      <td>0.0</td>\n",
              "      <td>0.0</td>\n",
              "      <td>0.0</td>\n",
              "      <td>0.0</td>\n",
              "      <td>0.0</td>\n",
              "      <td>0.0</td>\n",
              "      <td>0.0</td>\n",
              "      <td>0.0</td>\n",
              "      <td>0.0</td>\n",
              "      <td>0.0</td>\n",
              "      <td>0.0</td>\n",
              "      <td>0.0</td>\n",
              "      <td>0.0</td>\n",
              "      <td>0.0</td>\n",
              "      <td>0.0</td>\n",
              "      <td>0.0</td>\n",
              "    </tr>\n",
              "    <tr>\n",
              "      <th>179</th>\n",
              "      <td>0.000000</td>\n",
              "      <td>0.000000</td>\n",
              "      <td>0.0</td>\n",
              "      <td>0.0</td>\n",
              "      <td>0.000000</td>\n",
              "      <td>0.000000</td>\n",
              "      <td>0.000000</td>\n",
              "      <td>0.000000</td>\n",
              "      <td>0.0</td>\n",
              "      <td>0.0</td>\n",
              "      <td>0.0</td>\n",
              "      <td>0.0</td>\n",
              "      <td>0.000000</td>\n",
              "      <td>0.0</td>\n",
              "      <td>0.0</td>\n",
              "      <td>0.0</td>\n",
              "      <td>0.00000</td>\n",
              "      <td>2.427116</td>\n",
              "      <td>0.000000</td>\n",
              "      <td>0.000000</td>\n",
              "      <td>0.000000</td>\n",
              "      <td>0.0</td>\n",
              "      <td>0.000000</td>\n",
              "      <td>0.0</td>\n",
              "      <td>0.0</td>\n",
              "      <td>0.0</td>\n",
              "      <td>0.000000</td>\n",
              "      <td>0.000000</td>\n",
              "      <td>2.12393</td>\n",
              "      <td>4.688879</td>\n",
              "      <td>0.0</td>\n",
              "      <td>0.0</td>\n",
              "      <td>0.000000</td>\n",
              "      <td>0.0</td>\n",
              "      <td>0.0</td>\n",
              "      <td>0.0</td>\n",
              "      <td>0.0</td>\n",
              "      <td>0.0</td>\n",
              "      <td>3.995732</td>\n",
              "      <td>0.000000</td>\n",
              "      <td>...</td>\n",
              "      <td>0.0</td>\n",
              "      <td>0.0</td>\n",
              "      <td>0.0</td>\n",
              "      <td>0.0</td>\n",
              "      <td>0.0</td>\n",
              "      <td>0.0</td>\n",
              "      <td>0.0</td>\n",
              "      <td>0.0</td>\n",
              "      <td>0.0</td>\n",
              "      <td>0.0</td>\n",
              "      <td>0.0</td>\n",
              "      <td>0.0</td>\n",
              "      <td>0.0</td>\n",
              "      <td>0.0</td>\n",
              "      <td>0.0</td>\n",
              "      <td>0.0</td>\n",
              "      <td>0.0</td>\n",
              "      <td>0.0</td>\n",
              "      <td>0.0</td>\n",
              "      <td>0.0</td>\n",
              "      <td>0.0</td>\n",
              "      <td>1.0</td>\n",
              "      <td>0.0</td>\n",
              "      <td>0.0</td>\n",
              "      <td>0.0</td>\n",
              "      <td>0.0</td>\n",
              "      <td>0.0</td>\n",
              "      <td>1.0</td>\n",
              "      <td>0.0</td>\n",
              "      <td>0.0</td>\n",
              "      <td>0.0</td>\n",
              "      <td>0.0</td>\n",
              "      <td>0.0</td>\n",
              "      <td>0.0</td>\n",
              "      <td>0.0</td>\n",
              "      <td>0.0</td>\n",
              "      <td>0.0</td>\n",
              "      <td>0.0</td>\n",
              "      <td>0.0</td>\n",
              "      <td>2.0</td>\n",
              "    </tr>\n",
              "    <tr>\n",
              "      <th>102</th>\n",
              "      <td>0.000000</td>\n",
              "      <td>2.007858</td>\n",
              "      <td>0.0</td>\n",
              "      <td>0.0</td>\n",
              "      <td>0.000000</td>\n",
              "      <td>0.000000</td>\n",
              "      <td>0.000000</td>\n",
              "      <td>0.000000</td>\n",
              "      <td>0.0</td>\n",
              "      <td>0.0</td>\n",
              "      <td>0.0</td>\n",
              "      <td>0.0</td>\n",
              "      <td>0.000000</td>\n",
              "      <td>0.0</td>\n",
              "      <td>0.0</td>\n",
              "      <td>0.0</td>\n",
              "      <td>0.00000</td>\n",
              "      <td>0.000000</td>\n",
              "      <td>0.000000</td>\n",
              "      <td>0.000000</td>\n",
              "      <td>0.000000</td>\n",
              "      <td>0.0</td>\n",
              "      <td>3.302585</td>\n",
              "      <td>0.0</td>\n",
              "      <td>0.0</td>\n",
              "      <td>0.0</td>\n",
              "      <td>0.000000</td>\n",
              "      <td>0.000000</td>\n",
              "      <td>2.12393</td>\n",
              "      <td>0.000000</td>\n",
              "      <td>0.0</td>\n",
              "      <td>0.0</td>\n",
              "      <td>0.000000</td>\n",
              "      <td>0.0</td>\n",
              "      <td>0.0</td>\n",
              "      <td>0.0</td>\n",
              "      <td>0.0</td>\n",
              "      <td>0.0</td>\n",
              "      <td>0.000000</td>\n",
              "      <td>0.000000</td>\n",
              "      <td>...</td>\n",
              "      <td>0.0</td>\n",
              "      <td>0.0</td>\n",
              "      <td>0.0</td>\n",
              "      <td>0.0</td>\n",
              "      <td>0.0</td>\n",
              "      <td>2.0</td>\n",
              "      <td>1.0</td>\n",
              "      <td>1.0</td>\n",
              "      <td>0.0</td>\n",
              "      <td>0.0</td>\n",
              "      <td>0.0</td>\n",
              "      <td>0.0</td>\n",
              "      <td>0.0</td>\n",
              "      <td>0.0</td>\n",
              "      <td>0.0</td>\n",
              "      <td>0.0</td>\n",
              "      <td>0.0</td>\n",
              "      <td>0.0</td>\n",
              "      <td>0.0</td>\n",
              "      <td>0.0</td>\n",
              "      <td>0.0</td>\n",
              "      <td>0.0</td>\n",
              "      <td>0.0</td>\n",
              "      <td>0.0</td>\n",
              "      <td>0.0</td>\n",
              "      <td>0.0</td>\n",
              "      <td>0.0</td>\n",
              "      <td>0.0</td>\n",
              "      <td>0.0</td>\n",
              "      <td>0.0</td>\n",
              "      <td>0.0</td>\n",
              "      <td>0.0</td>\n",
              "      <td>0.0</td>\n",
              "      <td>0.0</td>\n",
              "      <td>0.0</td>\n",
              "      <td>0.0</td>\n",
              "      <td>0.0</td>\n",
              "      <td>0.0</td>\n",
              "      <td>0.0</td>\n",
              "      <td>0.0</td>\n",
              "    </tr>\n",
              "  </tbody>\n",
              "</table>\n",
              "<p>140 rows × 11346 columns</p>\n",
              "</div>"
            ],
            "text/plain": [
              "        0         1      2      3      ...  11342  11343  11344  11345\n",
              "169  0.000000  2.007858    0.0    0.0  ...    1.0    0.0    0.0    0.0\n",
              "97   0.000000  4.015716    0.0    0.0  ...    0.0    0.0    0.0    0.0\n",
              "31   4.352407  2.007858    0.0    0.0  ...    0.0    0.0    0.0    0.0\n",
              "12   0.000000  2.007858    0.0    0.0  ...    0.0    0.0    0.0    0.0\n",
              "35   0.000000  0.000000    0.0    0.0  ...    0.0    0.0    0.0    0.0\n",
              "..        ...       ...    ...    ...  ...    ...    ...    ...    ...\n",
              "106  0.000000  2.007858    0.0    0.0  ...    1.0    0.0    0.0    0.0\n",
              "14   0.000000  0.000000    0.0    0.0  ...    0.0    0.0    0.0    0.0\n",
              "92   0.000000  0.000000    0.0    0.0  ...    0.0    0.0    0.0    0.0\n",
              "179  0.000000  0.000000    0.0    0.0  ...    0.0    0.0    0.0    2.0\n",
              "102  0.000000  2.007858    0.0    0.0  ...    0.0    0.0    0.0    0.0\n",
              "\n",
              "[140 rows x 11346 columns]"
            ]
          },
          "metadata": {
            "tags": []
          },
          "execution_count": 39
        }
      ]
    },
    {
      "cell_type": "code",
      "metadata": {
        "id": "oZGLk47zLZqI",
        "colab": {
          "base_uri": "https://localhost:8080/",
          "height": 427
        },
        "outputId": "3584ef5c-d26f-4645-95e4-793428704ce4"
      },
      "source": [
        "X_train_char, X_test_char, y_train_char, y_test_char = train_test_split(X_char, y, test_size = 0.3, random_state = 42, shuffle=True)\n",
        "X_train_char"
      ],
      "execution_count": 40,
      "outputs": [
        {
          "output_type": "execute_result",
          "data": {
            "text/html": [
              "<div>\n",
              "<style scoped>\n",
              "    .dataframe tbody tr th:only-of-type {\n",
              "        vertical-align: middle;\n",
              "    }\n",
              "\n",
              "    .dataframe tbody tr th {\n",
              "        vertical-align: top;\n",
              "    }\n",
              "\n",
              "    .dataframe thead th {\n",
              "        text-align: right;\n",
              "    }\n",
              "</style>\n",
              "<table border=\"1\" class=\"dataframe\">\n",
              "  <thead>\n",
              "    <tr style=\"text-align: right;\">\n",
              "      <th></th>\n",
              "      <th>0</th>\n",
              "      <th>1</th>\n",
              "      <th>2</th>\n",
              "      <th>3</th>\n",
              "      <th>4</th>\n",
              "      <th>5</th>\n",
              "      <th>6</th>\n",
              "      <th>7</th>\n",
              "      <th>8</th>\n",
              "      <th>9</th>\n",
              "      <th>10</th>\n",
              "      <th>11</th>\n",
              "      <th>12</th>\n",
              "      <th>13</th>\n",
              "      <th>14</th>\n",
              "      <th>15</th>\n",
              "      <th>16</th>\n",
              "      <th>17</th>\n",
              "      <th>18</th>\n",
              "      <th>19</th>\n",
              "      <th>20</th>\n",
              "      <th>21</th>\n",
              "      <th>22</th>\n",
              "      <th>23</th>\n",
              "      <th>24</th>\n",
              "      <th>25</th>\n",
              "      <th>26</th>\n",
              "      <th>27</th>\n",
              "      <th>28</th>\n",
              "      <th>29</th>\n",
              "      <th>30</th>\n",
              "      <th>31</th>\n",
              "      <th>32</th>\n",
              "      <th>33</th>\n",
              "      <th>34</th>\n",
              "      <th>35</th>\n",
              "      <th>36</th>\n",
              "      <th>37</th>\n",
              "      <th>38</th>\n",
              "      <th>39</th>\n",
              "      <th>...</th>\n",
              "      <th>14695</th>\n",
              "      <th>14696</th>\n",
              "      <th>14697</th>\n",
              "      <th>14698</th>\n",
              "      <th>14699</th>\n",
              "      <th>14700</th>\n",
              "      <th>14701</th>\n",
              "      <th>14702</th>\n",
              "      <th>14703</th>\n",
              "      <th>14704</th>\n",
              "      <th>14705</th>\n",
              "      <th>14706</th>\n",
              "      <th>14707</th>\n",
              "      <th>14708</th>\n",
              "      <th>14709</th>\n",
              "      <th>14710</th>\n",
              "      <th>14711</th>\n",
              "      <th>14712</th>\n",
              "      <th>14713</th>\n",
              "      <th>14714</th>\n",
              "      <th>14715</th>\n",
              "      <th>14716</th>\n",
              "      <th>14717</th>\n",
              "      <th>14718</th>\n",
              "      <th>14719</th>\n",
              "      <th>14720</th>\n",
              "      <th>14721</th>\n",
              "      <th>14722</th>\n",
              "      <th>14723</th>\n",
              "      <th>14724</th>\n",
              "      <th>14725</th>\n",
              "      <th>14726</th>\n",
              "      <th>14727</th>\n",
              "      <th>14728</th>\n",
              "      <th>14729</th>\n",
              "      <th>14730</th>\n",
              "      <th>14731</th>\n",
              "      <th>14732</th>\n",
              "      <th>14733</th>\n",
              "      <th>14734</th>\n",
              "    </tr>\n",
              "  </thead>\n",
              "  <tbody>\n",
              "    <tr>\n",
              "      <th>169</th>\n",
              "      <td>4.793511</td>\n",
              "      <td>2.575364</td>\n",
              "      <td>1.588787</td>\n",
              "      <td>1.903868</td>\n",
              "      <td>0.000000</td>\n",
              "      <td>1.400478</td>\n",
              "      <td>0.000000</td>\n",
              "      <td>6.319274</td>\n",
              "      <td>1.980829</td>\n",
              "      <td>2.035637</td>\n",
              "      <td>0.000000</td>\n",
              "      <td>0.000000</td>\n",
              "      <td>0.000000</td>\n",
              "      <td>0.000000</td>\n",
              "      <td>0.000000</td>\n",
              "      <td>0.000000</td>\n",
              "      <td>3.213939</td>\n",
              "      <td>0.000000</td>\n",
              "      <td>4.482889</td>\n",
              "      <td>0.000000</td>\n",
              "      <td>0.000000</td>\n",
              "      <td>0.000000</td>\n",
              "      <td>1.891598</td>\n",
              "      <td>2.021651</td>\n",
              "      <td>0.000000</td>\n",
              "      <td>0.000000</td>\n",
              "      <td>0.000000</td>\n",
              "      <td>2.021651</td>\n",
              "      <td>4.507580</td>\n",
              "      <td>5.754020</td>\n",
              "      <td>5.53191</td>\n",
              "      <td>0.000000</td>\n",
              "      <td>2.615770</td>\n",
              "      <td>1.941609</td>\n",
              "      <td>2.07881</td>\n",
              "      <td>0.000000</td>\n",
              "      <td>0.000000</td>\n",
              "      <td>1.879477</td>\n",
              "      <td>1.430783</td>\n",
              "      <td>1.84397</td>\n",
              "      <td>...</td>\n",
              "      <td>0.0</td>\n",
              "      <td>0.0</td>\n",
              "      <td>0.0</td>\n",
              "      <td>0.0</td>\n",
              "      <td>0.0</td>\n",
              "      <td>0.0</td>\n",
              "      <td>2.0</td>\n",
              "      <td>1.0</td>\n",
              "      <td>0.0</td>\n",
              "      <td>0.0</td>\n",
              "      <td>0.0</td>\n",
              "      <td>0.0</td>\n",
              "      <td>0.0</td>\n",
              "      <td>0.0</td>\n",
              "      <td>0.0</td>\n",
              "      <td>0.0</td>\n",
              "      <td>0.0</td>\n",
              "      <td>1.0</td>\n",
              "      <td>0.0</td>\n",
              "      <td>0.0</td>\n",
              "      <td>0.0</td>\n",
              "      <td>1.0</td>\n",
              "      <td>0.0</td>\n",
              "      <td>0.0</td>\n",
              "      <td>0.0</td>\n",
              "      <td>0.0</td>\n",
              "      <td>0.0</td>\n",
              "      <td>1.0</td>\n",
              "      <td>0.0</td>\n",
              "      <td>0.0</td>\n",
              "      <td>2.0</td>\n",
              "      <td>0.0</td>\n",
              "      <td>1.0</td>\n",
              "      <td>0.0</td>\n",
              "      <td>0.0</td>\n",
              "      <td>0.0</td>\n",
              "      <td>1.0</td>\n",
              "      <td>0.0</td>\n",
              "      <td>0.0</td>\n",
              "      <td>0.0</td>\n",
              "    </tr>\n",
              "    <tr>\n",
              "      <th>97</th>\n",
              "      <td>1.597837</td>\n",
              "      <td>2.575364</td>\n",
              "      <td>0.000000</td>\n",
              "      <td>0.000000</td>\n",
              "      <td>2.035637</td>\n",
              "      <td>22.407641</td>\n",
              "      <td>0.000000</td>\n",
              "      <td>0.000000</td>\n",
              "      <td>0.000000</td>\n",
              "      <td>0.000000</td>\n",
              "      <td>6.355149</td>\n",
              "      <td>0.000000</td>\n",
              "      <td>0.000000</td>\n",
              "      <td>5.497228</td>\n",
              "      <td>1.855666</td>\n",
              "      <td>0.000000</td>\n",
              "      <td>4.820908</td>\n",
              "      <td>1.867501</td>\n",
              "      <td>0.000000</td>\n",
              "      <td>0.000000</td>\n",
              "      <td>3.488881</td>\n",
              "      <td>1.941609</td>\n",
              "      <td>0.000000</td>\n",
              "      <td>0.000000</td>\n",
              "      <td>3.288714</td>\n",
              "      <td>3.641961</td>\n",
              "      <td>0.000000</td>\n",
              "      <td>2.021651</td>\n",
              "      <td>1.502527</td>\n",
              "      <td>2.877010</td>\n",
              "      <td>3.68794</td>\n",
              "      <td>0.000000</td>\n",
              "      <td>2.615770</td>\n",
              "      <td>1.941609</td>\n",
              "      <td>2.07881</td>\n",
              "      <td>2.203973</td>\n",
              "      <td>2.491655</td>\n",
              "      <td>0.000000</td>\n",
              "      <td>1.430783</td>\n",
              "      <td>1.84397</td>\n",
              "      <td>...</td>\n",
              "      <td>0.0</td>\n",
              "      <td>0.0</td>\n",
              "      <td>0.0</td>\n",
              "      <td>0.0</td>\n",
              "      <td>0.0</td>\n",
              "      <td>0.0</td>\n",
              "      <td>0.0</td>\n",
              "      <td>0.0</td>\n",
              "      <td>0.0</td>\n",
              "      <td>0.0</td>\n",
              "      <td>0.0</td>\n",
              "      <td>0.0</td>\n",
              "      <td>0.0</td>\n",
              "      <td>0.0</td>\n",
              "      <td>0.0</td>\n",
              "      <td>0.0</td>\n",
              "      <td>0.0</td>\n",
              "      <td>0.0</td>\n",
              "      <td>0.0</td>\n",
              "      <td>0.0</td>\n",
              "      <td>0.0</td>\n",
              "      <td>1.0</td>\n",
              "      <td>0.0</td>\n",
              "      <td>0.0</td>\n",
              "      <td>0.0</td>\n",
              "      <td>0.0</td>\n",
              "      <td>0.0</td>\n",
              "      <td>1.0</td>\n",
              "      <td>0.0</td>\n",
              "      <td>0.0</td>\n",
              "      <td>0.0</td>\n",
              "      <td>0.0</td>\n",
              "      <td>0.0</td>\n",
              "      <td>0.0</td>\n",
              "      <td>0.0</td>\n",
              "      <td>0.0</td>\n",
              "      <td>0.0</td>\n",
              "      <td>0.0</td>\n",
              "      <td>0.0</td>\n",
              "      <td>0.0</td>\n",
              "    </tr>\n",
              "    <tr>\n",
              "      <th>31</th>\n",
              "      <td>0.000000</td>\n",
              "      <td>1.287682</td>\n",
              "      <td>0.000000</td>\n",
              "      <td>0.000000</td>\n",
              "      <td>2.035637</td>\n",
              "      <td>0.000000</td>\n",
              "      <td>0.000000</td>\n",
              "      <td>1.579818</td>\n",
              "      <td>1.980829</td>\n",
              "      <td>2.035637</td>\n",
              "      <td>1.588787</td>\n",
              "      <td>0.000000</td>\n",
              "      <td>1.733969</td>\n",
              "      <td>1.832409</td>\n",
              "      <td>1.855666</td>\n",
              "      <td>1.776529</td>\n",
              "      <td>3.213939</td>\n",
              "      <td>0.000000</td>\n",
              "      <td>0.000000</td>\n",
              "      <td>4.099644</td>\n",
              "      <td>0.000000</td>\n",
              "      <td>0.000000</td>\n",
              "      <td>1.891598</td>\n",
              "      <td>0.000000</td>\n",
              "      <td>1.644357</td>\n",
              "      <td>1.820981</td>\n",
              "      <td>0.000000</td>\n",
              "      <td>2.021651</td>\n",
              "      <td>1.502527</td>\n",
              "      <td>0.000000</td>\n",
              "      <td>0.00000</td>\n",
              "      <td>3.250977</td>\n",
              "      <td>0.000000</td>\n",
              "      <td>0.000000</td>\n",
              "      <td>0.00000</td>\n",
              "      <td>0.000000</td>\n",
              "      <td>0.000000</td>\n",
              "      <td>1.879477</td>\n",
              "      <td>0.000000</td>\n",
              "      <td>0.00000</td>\n",
              "      <td>...</td>\n",
              "      <td>0.0</td>\n",
              "      <td>0.0</td>\n",
              "      <td>0.0</td>\n",
              "      <td>0.0</td>\n",
              "      <td>0.0</td>\n",
              "      <td>1.0</td>\n",
              "      <td>0.0</td>\n",
              "      <td>0.0</td>\n",
              "      <td>0.0</td>\n",
              "      <td>0.0</td>\n",
              "      <td>0.0</td>\n",
              "      <td>0.0</td>\n",
              "      <td>0.0</td>\n",
              "      <td>0.0</td>\n",
              "      <td>0.0</td>\n",
              "      <td>0.0</td>\n",
              "      <td>0.0</td>\n",
              "      <td>0.0</td>\n",
              "      <td>0.0</td>\n",
              "      <td>0.0</td>\n",
              "      <td>0.0</td>\n",
              "      <td>0.0</td>\n",
              "      <td>0.0</td>\n",
              "      <td>0.0</td>\n",
              "      <td>0.0</td>\n",
              "      <td>0.0</td>\n",
              "      <td>0.0</td>\n",
              "      <td>0.0</td>\n",
              "      <td>0.0</td>\n",
              "      <td>0.0</td>\n",
              "      <td>1.0</td>\n",
              "      <td>0.0</td>\n",
              "      <td>1.0</td>\n",
              "      <td>0.0</td>\n",
              "      <td>0.0</td>\n",
              "      <td>0.0</td>\n",
              "      <td>0.0</td>\n",
              "      <td>0.0</td>\n",
              "      <td>0.0</td>\n",
              "      <td>0.0</td>\n",
              "    </tr>\n",
              "    <tr>\n",
              "      <th>12</th>\n",
              "      <td>0.000000</td>\n",
              "      <td>1.287682</td>\n",
              "      <td>0.000000</td>\n",
              "      <td>0.000000</td>\n",
              "      <td>0.000000</td>\n",
              "      <td>0.000000</td>\n",
              "      <td>4.043302</td>\n",
              "      <td>0.000000</td>\n",
              "      <td>0.000000</td>\n",
              "      <td>0.000000</td>\n",
              "      <td>1.588787</td>\n",
              "      <td>2.007858</td>\n",
              "      <td>1.733969</td>\n",
              "      <td>0.000000</td>\n",
              "      <td>0.000000</td>\n",
              "      <td>1.776529</td>\n",
              "      <td>6.427878</td>\n",
              "      <td>0.000000</td>\n",
              "      <td>1.494296</td>\n",
              "      <td>2.049822</td>\n",
              "      <td>0.000000</td>\n",
              "      <td>1.941609</td>\n",
              "      <td>1.891598</td>\n",
              "      <td>4.043302</td>\n",
              "      <td>3.288714</td>\n",
              "      <td>3.641961</td>\n",
              "      <td>0.000000</td>\n",
              "      <td>0.000000</td>\n",
              "      <td>1.502527</td>\n",
              "      <td>4.315515</td>\n",
              "      <td>5.53191</td>\n",
              "      <td>0.000000</td>\n",
              "      <td>6.539424</td>\n",
              "      <td>1.941609</td>\n",
              "      <td>2.07881</td>\n",
              "      <td>8.815891</td>\n",
              "      <td>7.474965</td>\n",
              "      <td>0.000000</td>\n",
              "      <td>0.000000</td>\n",
              "      <td>0.00000</td>\n",
              "      <td>...</td>\n",
              "      <td>0.0</td>\n",
              "      <td>0.0</td>\n",
              "      <td>0.0</td>\n",
              "      <td>0.0</td>\n",
              "      <td>0.0</td>\n",
              "      <td>0.0</td>\n",
              "      <td>1.0</td>\n",
              "      <td>1.0</td>\n",
              "      <td>0.0</td>\n",
              "      <td>0.0</td>\n",
              "      <td>0.0</td>\n",
              "      <td>0.0</td>\n",
              "      <td>0.0</td>\n",
              "      <td>0.0</td>\n",
              "      <td>0.0</td>\n",
              "      <td>0.0</td>\n",
              "      <td>0.0</td>\n",
              "      <td>0.0</td>\n",
              "      <td>0.0</td>\n",
              "      <td>0.0</td>\n",
              "      <td>0.0</td>\n",
              "      <td>0.0</td>\n",
              "      <td>0.0</td>\n",
              "      <td>0.0</td>\n",
              "      <td>0.0</td>\n",
              "      <td>0.0</td>\n",
              "      <td>0.0</td>\n",
              "      <td>0.0</td>\n",
              "      <td>0.0</td>\n",
              "      <td>0.0</td>\n",
              "      <td>0.0</td>\n",
              "      <td>0.0</td>\n",
              "      <td>0.0</td>\n",
              "      <td>0.0</td>\n",
              "      <td>0.0</td>\n",
              "      <td>0.0</td>\n",
              "      <td>0.0</td>\n",
              "      <td>0.0</td>\n",
              "      <td>0.0</td>\n",
              "      <td>0.0</td>\n",
              "    </tr>\n",
              "    <tr>\n",
              "      <th>35</th>\n",
              "      <td>7.989185</td>\n",
              "      <td>2.575364</td>\n",
              "      <td>3.177574</td>\n",
              "      <td>1.903868</td>\n",
              "      <td>8.142550</td>\n",
              "      <td>7.002388</td>\n",
              "      <td>0.000000</td>\n",
              "      <td>0.000000</td>\n",
              "      <td>0.000000</td>\n",
              "      <td>0.000000</td>\n",
              "      <td>9.532723</td>\n",
              "      <td>0.000000</td>\n",
              "      <td>1.733969</td>\n",
              "      <td>3.664818</td>\n",
              "      <td>0.000000</td>\n",
              "      <td>0.000000</td>\n",
              "      <td>4.820908</td>\n",
              "      <td>0.000000</td>\n",
              "      <td>2.988593</td>\n",
              "      <td>0.000000</td>\n",
              "      <td>1.744440</td>\n",
              "      <td>13.591260</td>\n",
              "      <td>3.783196</td>\n",
              "      <td>32.346420</td>\n",
              "      <td>4.933071</td>\n",
              "      <td>1.820981</td>\n",
              "      <td>0.000000</td>\n",
              "      <td>14.151559</td>\n",
              "      <td>1.502527</td>\n",
              "      <td>2.877010</td>\n",
              "      <td>1.84397</td>\n",
              "      <td>3.250977</td>\n",
              "      <td>2.615770</td>\n",
              "      <td>0.000000</td>\n",
              "      <td>0.00000</td>\n",
              "      <td>2.203973</td>\n",
              "      <td>0.000000</td>\n",
              "      <td>1.879477</td>\n",
              "      <td>5.723132</td>\n",
              "      <td>1.84397</td>\n",
              "      <td>...</td>\n",
              "      <td>0.0</td>\n",
              "      <td>0.0</td>\n",
              "      <td>0.0</td>\n",
              "      <td>0.0</td>\n",
              "      <td>0.0</td>\n",
              "      <td>0.0</td>\n",
              "      <td>1.0</td>\n",
              "      <td>1.0</td>\n",
              "      <td>1.0</td>\n",
              "      <td>0.0</td>\n",
              "      <td>1.0</td>\n",
              "      <td>1.0</td>\n",
              "      <td>0.0</td>\n",
              "      <td>0.0</td>\n",
              "      <td>0.0</td>\n",
              "      <td>0.0</td>\n",
              "      <td>1.0</td>\n",
              "      <td>0.0</td>\n",
              "      <td>0.0</td>\n",
              "      <td>0.0</td>\n",
              "      <td>0.0</td>\n",
              "      <td>0.0</td>\n",
              "      <td>0.0</td>\n",
              "      <td>0.0</td>\n",
              "      <td>0.0</td>\n",
              "      <td>0.0</td>\n",
              "      <td>0.0</td>\n",
              "      <td>0.0</td>\n",
              "      <td>0.0</td>\n",
              "      <td>0.0</td>\n",
              "      <td>0.0</td>\n",
              "      <td>0.0</td>\n",
              "      <td>0.0</td>\n",
              "      <td>0.0</td>\n",
              "      <td>0.0</td>\n",
              "      <td>0.0</td>\n",
              "      <td>0.0</td>\n",
              "      <td>0.0</td>\n",
              "      <td>0.0</td>\n",
              "      <td>0.0</td>\n",
              "    </tr>\n",
              "    <tr>\n",
              "      <th>...</th>\n",
              "      <td>...</td>\n",
              "      <td>...</td>\n",
              "      <td>...</td>\n",
              "      <td>...</td>\n",
              "      <td>...</td>\n",
              "      <td>...</td>\n",
              "      <td>...</td>\n",
              "      <td>...</td>\n",
              "      <td>...</td>\n",
              "      <td>...</td>\n",
              "      <td>...</td>\n",
              "      <td>...</td>\n",
              "      <td>...</td>\n",
              "      <td>...</td>\n",
              "      <td>...</td>\n",
              "      <td>...</td>\n",
              "      <td>...</td>\n",
              "      <td>...</td>\n",
              "      <td>...</td>\n",
              "      <td>...</td>\n",
              "      <td>...</td>\n",
              "      <td>...</td>\n",
              "      <td>...</td>\n",
              "      <td>...</td>\n",
              "      <td>...</td>\n",
              "      <td>...</td>\n",
              "      <td>...</td>\n",
              "      <td>...</td>\n",
              "      <td>...</td>\n",
              "      <td>...</td>\n",
              "      <td>...</td>\n",
              "      <td>...</td>\n",
              "      <td>...</td>\n",
              "      <td>...</td>\n",
              "      <td>...</td>\n",
              "      <td>...</td>\n",
              "      <td>...</td>\n",
              "      <td>...</td>\n",
              "      <td>...</td>\n",
              "      <td>...</td>\n",
              "      <td>...</td>\n",
              "      <td>...</td>\n",
              "      <td>...</td>\n",
              "      <td>...</td>\n",
              "      <td>...</td>\n",
              "      <td>...</td>\n",
              "      <td>...</td>\n",
              "      <td>...</td>\n",
              "      <td>...</td>\n",
              "      <td>...</td>\n",
              "      <td>...</td>\n",
              "      <td>...</td>\n",
              "      <td>...</td>\n",
              "      <td>...</td>\n",
              "      <td>...</td>\n",
              "      <td>...</td>\n",
              "      <td>...</td>\n",
              "      <td>...</td>\n",
              "      <td>...</td>\n",
              "      <td>...</td>\n",
              "      <td>...</td>\n",
              "      <td>...</td>\n",
              "      <td>...</td>\n",
              "      <td>...</td>\n",
              "      <td>...</td>\n",
              "      <td>...</td>\n",
              "      <td>...</td>\n",
              "      <td>...</td>\n",
              "      <td>...</td>\n",
              "      <td>...</td>\n",
              "      <td>...</td>\n",
              "      <td>...</td>\n",
              "      <td>...</td>\n",
              "      <td>...</td>\n",
              "      <td>...</td>\n",
              "      <td>...</td>\n",
              "      <td>...</td>\n",
              "      <td>...</td>\n",
              "      <td>...</td>\n",
              "      <td>...</td>\n",
              "      <td>...</td>\n",
              "    </tr>\n",
              "    <tr>\n",
              "      <th>106</th>\n",
              "      <td>0.000000</td>\n",
              "      <td>1.287682</td>\n",
              "      <td>0.000000</td>\n",
              "      <td>0.000000</td>\n",
              "      <td>0.000000</td>\n",
              "      <td>0.000000</td>\n",
              "      <td>0.000000</td>\n",
              "      <td>0.000000</td>\n",
              "      <td>0.000000</td>\n",
              "      <td>0.000000</td>\n",
              "      <td>1.588787</td>\n",
              "      <td>0.000000</td>\n",
              "      <td>1.733969</td>\n",
              "      <td>1.832409</td>\n",
              "      <td>0.000000</td>\n",
              "      <td>0.000000</td>\n",
              "      <td>1.606969</td>\n",
              "      <td>0.000000</td>\n",
              "      <td>0.000000</td>\n",
              "      <td>0.000000</td>\n",
              "      <td>5.233321</td>\n",
              "      <td>1.941609</td>\n",
              "      <td>0.000000</td>\n",
              "      <td>6.064954</td>\n",
              "      <td>0.000000</td>\n",
              "      <td>0.000000</td>\n",
              "      <td>0.000000</td>\n",
              "      <td>2.021651</td>\n",
              "      <td>0.000000</td>\n",
              "      <td>0.000000</td>\n",
              "      <td>0.00000</td>\n",
              "      <td>0.000000</td>\n",
              "      <td>1.307885</td>\n",
              "      <td>0.000000</td>\n",
              "      <td>0.00000</td>\n",
              "      <td>0.000000</td>\n",
              "      <td>0.000000</td>\n",
              "      <td>0.000000</td>\n",
              "      <td>0.000000</td>\n",
              "      <td>1.84397</td>\n",
              "      <td>...</td>\n",
              "      <td>0.0</td>\n",
              "      <td>0.0</td>\n",
              "      <td>0.0</td>\n",
              "      <td>0.0</td>\n",
              "      <td>0.0</td>\n",
              "      <td>0.0</td>\n",
              "      <td>1.0</td>\n",
              "      <td>1.0</td>\n",
              "      <td>0.0</td>\n",
              "      <td>0.0</td>\n",
              "      <td>0.0</td>\n",
              "      <td>0.0</td>\n",
              "      <td>0.0</td>\n",
              "      <td>0.0</td>\n",
              "      <td>0.0</td>\n",
              "      <td>0.0</td>\n",
              "      <td>0.0</td>\n",
              "      <td>0.0</td>\n",
              "      <td>0.0</td>\n",
              "      <td>0.0</td>\n",
              "      <td>0.0</td>\n",
              "      <td>1.0</td>\n",
              "      <td>0.0</td>\n",
              "      <td>0.0</td>\n",
              "      <td>0.0</td>\n",
              "      <td>0.0</td>\n",
              "      <td>0.0</td>\n",
              "      <td>0.0</td>\n",
              "      <td>1.0</td>\n",
              "      <td>0.0</td>\n",
              "      <td>2.0</td>\n",
              "      <td>0.0</td>\n",
              "      <td>1.0</td>\n",
              "      <td>0.0</td>\n",
              "      <td>0.0</td>\n",
              "      <td>0.0</td>\n",
              "      <td>1.0</td>\n",
              "      <td>0.0</td>\n",
              "      <td>0.0</td>\n",
              "      <td>0.0</td>\n",
              "    </tr>\n",
              "    <tr>\n",
              "      <th>14</th>\n",
              "      <td>0.000000</td>\n",
              "      <td>0.000000</td>\n",
              "      <td>0.000000</td>\n",
              "      <td>0.000000</td>\n",
              "      <td>0.000000</td>\n",
              "      <td>0.000000</td>\n",
              "      <td>6.064954</td>\n",
              "      <td>1.579818</td>\n",
              "      <td>1.980829</td>\n",
              "      <td>2.035637</td>\n",
              "      <td>0.000000</td>\n",
              "      <td>0.000000</td>\n",
              "      <td>0.000000</td>\n",
              "      <td>0.000000</td>\n",
              "      <td>0.000000</td>\n",
              "      <td>1.776529</td>\n",
              "      <td>3.213939</td>\n",
              "      <td>0.000000</td>\n",
              "      <td>5.977185</td>\n",
              "      <td>0.000000</td>\n",
              "      <td>3.488881</td>\n",
              "      <td>1.941609</td>\n",
              "      <td>3.783196</td>\n",
              "      <td>4.043302</td>\n",
              "      <td>3.288714</td>\n",
              "      <td>3.641961</td>\n",
              "      <td>1.903868</td>\n",
              "      <td>2.021651</td>\n",
              "      <td>0.000000</td>\n",
              "      <td>7.192525</td>\n",
              "      <td>1.84397</td>\n",
              "      <td>4.876466</td>\n",
              "      <td>2.615770</td>\n",
              "      <td>0.000000</td>\n",
              "      <td>0.00000</td>\n",
              "      <td>4.407946</td>\n",
              "      <td>0.000000</td>\n",
              "      <td>7.517907</td>\n",
              "      <td>1.430783</td>\n",
              "      <td>0.00000</td>\n",
              "      <td>...</td>\n",
              "      <td>0.0</td>\n",
              "      <td>0.0</td>\n",
              "      <td>0.0</td>\n",
              "      <td>0.0</td>\n",
              "      <td>0.0</td>\n",
              "      <td>0.0</td>\n",
              "      <td>0.0</td>\n",
              "      <td>0.0</td>\n",
              "      <td>0.0</td>\n",
              "      <td>0.0</td>\n",
              "      <td>0.0</td>\n",
              "      <td>1.0</td>\n",
              "      <td>0.0</td>\n",
              "      <td>0.0</td>\n",
              "      <td>1.0</td>\n",
              "      <td>0.0</td>\n",
              "      <td>0.0</td>\n",
              "      <td>0.0</td>\n",
              "      <td>0.0</td>\n",
              "      <td>0.0</td>\n",
              "      <td>0.0</td>\n",
              "      <td>1.0</td>\n",
              "      <td>0.0</td>\n",
              "      <td>0.0</td>\n",
              "      <td>0.0</td>\n",
              "      <td>0.0</td>\n",
              "      <td>1.0</td>\n",
              "      <td>0.0</td>\n",
              "      <td>0.0</td>\n",
              "      <td>0.0</td>\n",
              "      <td>0.0</td>\n",
              "      <td>0.0</td>\n",
              "      <td>0.0</td>\n",
              "      <td>0.0</td>\n",
              "      <td>0.0</td>\n",
              "      <td>0.0</td>\n",
              "      <td>0.0</td>\n",
              "      <td>0.0</td>\n",
              "      <td>0.0</td>\n",
              "      <td>0.0</td>\n",
              "    </tr>\n",
              "    <tr>\n",
              "      <th>92</th>\n",
              "      <td>0.000000</td>\n",
              "      <td>3.863046</td>\n",
              "      <td>4.766361</td>\n",
              "      <td>3.807736</td>\n",
              "      <td>0.000000</td>\n",
              "      <td>12.604298</td>\n",
              "      <td>0.000000</td>\n",
              "      <td>0.000000</td>\n",
              "      <td>0.000000</td>\n",
              "      <td>0.000000</td>\n",
              "      <td>0.000000</td>\n",
              "      <td>0.000000</td>\n",
              "      <td>0.000000</td>\n",
              "      <td>0.000000</td>\n",
              "      <td>0.000000</td>\n",
              "      <td>0.000000</td>\n",
              "      <td>0.000000</td>\n",
              "      <td>0.000000</td>\n",
              "      <td>0.000000</td>\n",
              "      <td>0.000000</td>\n",
              "      <td>0.000000</td>\n",
              "      <td>0.000000</td>\n",
              "      <td>0.000000</td>\n",
              "      <td>0.000000</td>\n",
              "      <td>3.288714</td>\n",
              "      <td>1.820981</td>\n",
              "      <td>0.000000</td>\n",
              "      <td>0.000000</td>\n",
              "      <td>1.502527</td>\n",
              "      <td>4.315515</td>\n",
              "      <td>3.68794</td>\n",
              "      <td>3.250977</td>\n",
              "      <td>1.307885</td>\n",
              "      <td>1.941609</td>\n",
              "      <td>2.07881</td>\n",
              "      <td>0.000000</td>\n",
              "      <td>0.000000</td>\n",
              "      <td>0.000000</td>\n",
              "      <td>0.000000</td>\n",
              "      <td>0.00000</td>\n",
              "      <td>...</td>\n",
              "      <td>0.0</td>\n",
              "      <td>1.0</td>\n",
              "      <td>0.0</td>\n",
              "      <td>0.0</td>\n",
              "      <td>0.0</td>\n",
              "      <td>0.0</td>\n",
              "      <td>1.0</td>\n",
              "      <td>1.0</td>\n",
              "      <td>0.0</td>\n",
              "      <td>0.0</td>\n",
              "      <td>0.0</td>\n",
              "      <td>2.0</td>\n",
              "      <td>0.0</td>\n",
              "      <td>1.0</td>\n",
              "      <td>1.0</td>\n",
              "      <td>0.0</td>\n",
              "      <td>0.0</td>\n",
              "      <td>0.0</td>\n",
              "      <td>0.0</td>\n",
              "      <td>0.0</td>\n",
              "      <td>0.0</td>\n",
              "      <td>1.0</td>\n",
              "      <td>1.0</td>\n",
              "      <td>0.0</td>\n",
              "      <td>0.0</td>\n",
              "      <td>0.0</td>\n",
              "      <td>0.0</td>\n",
              "      <td>0.0</td>\n",
              "      <td>0.0</td>\n",
              "      <td>0.0</td>\n",
              "      <td>0.0</td>\n",
              "      <td>0.0</td>\n",
              "      <td>0.0</td>\n",
              "      <td>0.0</td>\n",
              "      <td>0.0</td>\n",
              "      <td>0.0</td>\n",
              "      <td>0.0</td>\n",
              "      <td>0.0</td>\n",
              "      <td>0.0</td>\n",
              "      <td>0.0</td>\n",
              "    </tr>\n",
              "    <tr>\n",
              "      <th>179</th>\n",
              "      <td>4.793511</td>\n",
              "      <td>0.000000</td>\n",
              "      <td>0.000000</td>\n",
              "      <td>0.000000</td>\n",
              "      <td>4.071275</td>\n",
              "      <td>5.601910</td>\n",
              "      <td>2.021651</td>\n",
              "      <td>1.579818</td>\n",
              "      <td>0.000000</td>\n",
              "      <td>0.000000</td>\n",
              "      <td>1.588787</td>\n",
              "      <td>2.007858</td>\n",
              "      <td>0.000000</td>\n",
              "      <td>0.000000</td>\n",
              "      <td>0.000000</td>\n",
              "      <td>0.000000</td>\n",
              "      <td>3.213939</td>\n",
              "      <td>0.000000</td>\n",
              "      <td>0.000000</td>\n",
              "      <td>0.000000</td>\n",
              "      <td>0.000000</td>\n",
              "      <td>1.941609</td>\n",
              "      <td>1.891598</td>\n",
              "      <td>0.000000</td>\n",
              "      <td>3.288714</td>\n",
              "      <td>3.641961</td>\n",
              "      <td>0.000000</td>\n",
              "      <td>0.000000</td>\n",
              "      <td>0.000000</td>\n",
              "      <td>0.000000</td>\n",
              "      <td>0.00000</td>\n",
              "      <td>0.000000</td>\n",
              "      <td>1.307885</td>\n",
              "      <td>0.000000</td>\n",
              "      <td>0.00000</td>\n",
              "      <td>2.203973</td>\n",
              "      <td>2.491655</td>\n",
              "      <td>0.000000</td>\n",
              "      <td>2.861566</td>\n",
              "      <td>3.68794</td>\n",
              "      <td>...</td>\n",
              "      <td>0.0</td>\n",
              "      <td>0.0</td>\n",
              "      <td>0.0</td>\n",
              "      <td>0.0</td>\n",
              "      <td>0.0</td>\n",
              "      <td>0.0</td>\n",
              "      <td>0.0</td>\n",
              "      <td>0.0</td>\n",
              "      <td>0.0</td>\n",
              "      <td>0.0</td>\n",
              "      <td>0.0</td>\n",
              "      <td>0.0</td>\n",
              "      <td>0.0</td>\n",
              "      <td>0.0</td>\n",
              "      <td>0.0</td>\n",
              "      <td>0.0</td>\n",
              "      <td>0.0</td>\n",
              "      <td>0.0</td>\n",
              "      <td>0.0</td>\n",
              "      <td>0.0</td>\n",
              "      <td>0.0</td>\n",
              "      <td>1.0</td>\n",
              "      <td>0.0</td>\n",
              "      <td>0.0</td>\n",
              "      <td>0.0</td>\n",
              "      <td>0.0</td>\n",
              "      <td>0.0</td>\n",
              "      <td>1.0</td>\n",
              "      <td>0.0</td>\n",
              "      <td>0.0</td>\n",
              "      <td>0.0</td>\n",
              "      <td>0.0</td>\n",
              "      <td>0.0</td>\n",
              "      <td>0.0</td>\n",
              "      <td>0.0</td>\n",
              "      <td>0.0</td>\n",
              "      <td>0.0</td>\n",
              "      <td>0.0</td>\n",
              "      <td>0.0</td>\n",
              "      <td>2.0</td>\n",
              "    </tr>\n",
              "    <tr>\n",
              "      <th>102</th>\n",
              "      <td>0.000000</td>\n",
              "      <td>2.575364</td>\n",
              "      <td>1.588787</td>\n",
              "      <td>0.000000</td>\n",
              "      <td>2.035637</td>\n",
              "      <td>1.400478</td>\n",
              "      <td>0.000000</td>\n",
              "      <td>1.579818</td>\n",
              "      <td>1.980829</td>\n",
              "      <td>2.035637</td>\n",
              "      <td>1.588787</td>\n",
              "      <td>0.000000</td>\n",
              "      <td>1.733969</td>\n",
              "      <td>5.497228</td>\n",
              "      <td>1.855666</td>\n",
              "      <td>0.000000</td>\n",
              "      <td>0.000000</td>\n",
              "      <td>0.000000</td>\n",
              "      <td>0.000000</td>\n",
              "      <td>0.000000</td>\n",
              "      <td>0.000000</td>\n",
              "      <td>1.941609</td>\n",
              "      <td>0.000000</td>\n",
              "      <td>2.021651</td>\n",
              "      <td>0.000000</td>\n",
              "      <td>0.000000</td>\n",
              "      <td>1.903868</td>\n",
              "      <td>0.000000</td>\n",
              "      <td>1.502527</td>\n",
              "      <td>0.000000</td>\n",
              "      <td>0.00000</td>\n",
              "      <td>1.625489</td>\n",
              "      <td>6.539424</td>\n",
              "      <td>0.000000</td>\n",
              "      <td>0.00000</td>\n",
              "      <td>8.815891</td>\n",
              "      <td>7.474965</td>\n",
              "      <td>0.000000</td>\n",
              "      <td>4.292349</td>\n",
              "      <td>3.68794</td>\n",
              "      <td>...</td>\n",
              "      <td>0.0</td>\n",
              "      <td>0.0</td>\n",
              "      <td>0.0</td>\n",
              "      <td>0.0</td>\n",
              "      <td>0.0</td>\n",
              "      <td>2.0</td>\n",
              "      <td>1.0</td>\n",
              "      <td>1.0</td>\n",
              "      <td>0.0</td>\n",
              "      <td>0.0</td>\n",
              "      <td>0.0</td>\n",
              "      <td>0.0</td>\n",
              "      <td>0.0</td>\n",
              "      <td>0.0</td>\n",
              "      <td>0.0</td>\n",
              "      <td>0.0</td>\n",
              "      <td>0.0</td>\n",
              "      <td>0.0</td>\n",
              "      <td>0.0</td>\n",
              "      <td>0.0</td>\n",
              "      <td>0.0</td>\n",
              "      <td>0.0</td>\n",
              "      <td>0.0</td>\n",
              "      <td>0.0</td>\n",
              "      <td>0.0</td>\n",
              "      <td>0.0</td>\n",
              "      <td>0.0</td>\n",
              "      <td>0.0</td>\n",
              "      <td>0.0</td>\n",
              "      <td>0.0</td>\n",
              "      <td>0.0</td>\n",
              "      <td>0.0</td>\n",
              "      <td>0.0</td>\n",
              "      <td>0.0</td>\n",
              "      <td>0.0</td>\n",
              "      <td>0.0</td>\n",
              "      <td>0.0</td>\n",
              "      <td>0.0</td>\n",
              "      <td>0.0</td>\n",
              "      <td>0.0</td>\n",
              "    </tr>\n",
              "  </tbody>\n",
              "</table>\n",
              "<p>140 rows × 14735 columns</p>\n",
              "</div>"
            ],
            "text/plain": [
              "        0         1         2         3      ...  14731  14732  14733  14734\n",
              "169  4.793511  2.575364  1.588787  1.903868  ...    1.0    0.0    0.0    0.0\n",
              "97   1.597837  2.575364  0.000000  0.000000  ...    0.0    0.0    0.0    0.0\n",
              "31   0.000000  1.287682  0.000000  0.000000  ...    0.0    0.0    0.0    0.0\n",
              "12   0.000000  1.287682  0.000000  0.000000  ...    0.0    0.0    0.0    0.0\n",
              "35   7.989185  2.575364  3.177574  1.903868  ...    0.0    0.0    0.0    0.0\n",
              "..        ...       ...       ...       ...  ...    ...    ...    ...    ...\n",
              "106  0.000000  1.287682  0.000000  0.000000  ...    1.0    0.0    0.0    0.0\n",
              "14   0.000000  0.000000  0.000000  0.000000  ...    0.0    0.0    0.0    0.0\n",
              "92   0.000000  3.863046  4.766361  3.807736  ...    0.0    0.0    0.0    0.0\n",
              "179  4.793511  0.000000  0.000000  0.000000  ...    0.0    0.0    0.0    2.0\n",
              "102  0.000000  2.575364  1.588787  0.000000  ...    0.0    0.0    0.0    0.0\n",
              "\n",
              "[140 rows x 14735 columns]"
            ]
          },
          "metadata": {
            "tags": []
          },
          "execution_count": 40
        }
      ]
    },
    {
      "cell_type": "code",
      "metadata": {
        "id": "iZn6RcpOMmok",
        "colab": {
          "base_uri": "https://localhost:8080/",
          "height": 407
        },
        "outputId": "e6a64379-d16d-4019-cfdd-f433919791ef"
      },
      "source": [
        "X_train_keyList, X_test_keyList, y_train_keyList, y_test_keyList = train_test_split(X_keyList, y, test_size = 0.3, random_state = 42, shuffle=True)\n",
        "X_train_keyList"
      ],
      "execution_count": 41,
      "outputs": [
        {
          "output_type": "execute_result",
          "data": {
            "text/html": [
              "<div>\n",
              "<style scoped>\n",
              "    .dataframe tbody tr th:only-of-type {\n",
              "        vertical-align: middle;\n",
              "    }\n",
              "\n",
              "    .dataframe tbody tr th {\n",
              "        vertical-align: top;\n",
              "    }\n",
              "\n",
              "    .dataframe thead th {\n",
              "        text-align: right;\n",
              "    }\n",
              "</style>\n",
              "<table border=\"1\" class=\"dataframe\">\n",
              "  <thead>\n",
              "    <tr style=\"text-align: right;\">\n",
              "      <th></th>\n",
              "      <th>0</th>\n",
              "      <th>1</th>\n",
              "      <th>2</th>\n",
              "      <th>3</th>\n",
              "      <th>4</th>\n",
              "    </tr>\n",
              "  </thead>\n",
              "  <tbody>\n",
              "    <tr>\n",
              "      <th>169</th>\n",
              "      <td>8</td>\n",
              "      <td>9</td>\n",
              "      <td>9</td>\n",
              "      <td>15</td>\n",
              "      <td>15</td>\n",
              "    </tr>\n",
              "    <tr>\n",
              "      <th>97</th>\n",
              "      <td>22</td>\n",
              "      <td>16</td>\n",
              "      <td>19</td>\n",
              "      <td>32</td>\n",
              "      <td>31</td>\n",
              "    </tr>\n",
              "    <tr>\n",
              "      <th>31</th>\n",
              "      <td>7</td>\n",
              "      <td>3</td>\n",
              "      <td>5</td>\n",
              "      <td>11</td>\n",
              "      <td>11</td>\n",
              "    </tr>\n",
              "    <tr>\n",
              "      <th>12</th>\n",
              "      <td>15</td>\n",
              "      <td>14</td>\n",
              "      <td>15</td>\n",
              "      <td>26</td>\n",
              "      <td>24</td>\n",
              "    </tr>\n",
              "    <tr>\n",
              "      <th>35</th>\n",
              "      <td>46</td>\n",
              "      <td>61</td>\n",
              "      <td>68</td>\n",
              "      <td>77</td>\n",
              "      <td>77</td>\n",
              "    </tr>\n",
              "    <tr>\n",
              "      <th>...</th>\n",
              "      <td>...</td>\n",
              "      <td>...</td>\n",
              "      <td>...</td>\n",
              "      <td>...</td>\n",
              "      <td>...</td>\n",
              "    </tr>\n",
              "    <tr>\n",
              "      <th>106</th>\n",
              "      <td>17</td>\n",
              "      <td>13</td>\n",
              "      <td>17</td>\n",
              "      <td>27</td>\n",
              "      <td>26</td>\n",
              "    </tr>\n",
              "    <tr>\n",
              "      <th>14</th>\n",
              "      <td>9</td>\n",
              "      <td>4</td>\n",
              "      <td>9</td>\n",
              "      <td>15</td>\n",
              "      <td>15</td>\n",
              "    </tr>\n",
              "    <tr>\n",
              "      <th>92</th>\n",
              "      <td>8</td>\n",
              "      <td>3</td>\n",
              "      <td>7</td>\n",
              "      <td>22</td>\n",
              "      <td>21</td>\n",
              "    </tr>\n",
              "    <tr>\n",
              "      <th>179</th>\n",
              "      <td>10</td>\n",
              "      <td>5</td>\n",
              "      <td>8</td>\n",
              "      <td>16</td>\n",
              "      <td>16</td>\n",
              "    </tr>\n",
              "    <tr>\n",
              "      <th>102</th>\n",
              "      <td>8</td>\n",
              "      <td>6</td>\n",
              "      <td>7</td>\n",
              "      <td>16</td>\n",
              "      <td>16</td>\n",
              "    </tr>\n",
              "  </tbody>\n",
              "</table>\n",
              "<p>140 rows × 5 columns</p>\n",
              "</div>"
            ],
            "text/plain": [
              "      0   1   2   3   4\n",
              "169   8   9   9  15  15\n",
              "97   22  16  19  32  31\n",
              "31    7   3   5  11  11\n",
              "12   15  14  15  26  24\n",
              "35   46  61  68  77  77\n",
              "..   ..  ..  ..  ..  ..\n",
              "106  17  13  17  27  26\n",
              "14    9   4   9  15  15\n",
              "92    8   3   7  22  21\n",
              "179  10   5   8  16  16\n",
              "102   8   6   7  16  16\n",
              "\n",
              "[140 rows x 5 columns]"
            ]
          },
          "metadata": {
            "tags": []
          },
          "execution_count": 41
        }
      ]
    },
    {
      "cell_type": "markdown",
      "metadata": {
        "id": "vL5Fb7pN5Zr9"
      },
      "source": [
        "# **4. Machine Learning Models**"
      ]
    },
    {
      "cell_type": "markdown",
      "metadata": {
        "id": "Iq095_DZqd1J"
      },
      "source": [
        "# **4.1 Evaluation Metrics for Machine Learning Models**"
      ]
    },
    {
      "cell_type": "code",
      "metadata": {
        "id": "GT-IJjbn390k"
      },
      "source": [
        "def evaluate_model_Xy(model, X, y, y_pred=None, label=\"Training\", model_name=\"model\"):\n",
        "  if y_pred is None:\n",
        "    y_pred = model.predict(X)\n",
        "\n",
        "  print(label + ' Set')\n",
        "  print(\"Accuracy:\", accuracy_score(y, y_pred))\n",
        "  print()\n",
        "\n",
        "  print(classification_report(y, y_pred, digits=4))\n",
        "  disp = plot_confusion_matrix(model, X, y, \n",
        "                               cmap=plt.cm.Blues, normalize='true')\n",
        "  plt.savefig(model_name + \"_\" + label.lower() + \".png\")\n",
        "  plt.show()\n",
        "  print()"
      ],
      "execution_count": 42,
      "outputs": []
    },
    {
      "cell_type": "code",
      "metadata": {
        "id": "jbwrJRon3-CL"
      },
      "source": [
        "def evaluate_model_ngrammWord(model, model_name=\"model\",\n",
        "                   y_train_pred=None, y_dev_pred=None, y_test_pred=None):\n",
        "  evaluate_model_Xy(model, X_train_word, y_train_word, label=\"Training\", model_name=model_name)\n",
        "  evaluate_model_Xy(model, X_test_word, y_test_word, label=\"Testing\", model_name=model_name)"
      ],
      "execution_count": 43,
      "outputs": []
    },
    {
      "cell_type": "code",
      "metadata": {
        "id": "jeZJiP8gK0lL"
      },
      "source": [
        "def evaluate_model_ngrammChar(model, model_name=\"model\",\n",
        "                   y_train_pred=None, y_dev_pred=None, y_test_pred=None):\n",
        "  evaluate_model_Xy(model, X_train_char, y_train_char, label=\"Training\", model_name=model_name)\n",
        "  evaluate_model_Xy(model, X_test_char, y_test_char, label=\"Testing\", model_name=model_name)"
      ],
      "execution_count": 44,
      "outputs": []
    },
    {
      "cell_type": "code",
      "metadata": {
        "id": "32mUSKOKK0uw"
      },
      "source": [
        "def evaluate_model_keyList(model, model_name=\"model\",\n",
        "                   y_train_pred=None, y_dev_pred=None, y_test_pred=None):\n",
        "  evaluate_model_Xy(model, X_train_keyList, y_train_keyList, label=\"Training\", model_name=model_name)\n",
        "  evaluate_model_Xy(model, X_test_keyList, y_test_keyList, label=\"Testing\", model_name=model_name)"
      ],
      "execution_count": 45,
      "outputs": []
    },
    {
      "cell_type": "markdown",
      "metadata": {
        "id": "dMx5i0qp4oP6"
      },
      "source": [
        "### **4.2 LogisticRegression**"
      ]
    },
    {
      "cell_type": "code",
      "metadata": {
        "id": "CsRkKrMuy_4k",
        "colab": {
          "base_uri": "https://localhost:8080/"
        },
        "outputId": "dd793ce8-5cff-4084-b09c-96f4de789b02"
      },
      "source": [
        "select = SelectFromModel(LogisticRegression(C=1, penalty='l1', solver='liblinear'))\n",
        "X_w = select.fit_transform(X_word,y)\n",
        "X_c = select.fit_transform(X_char,y)\n",
        "model = LinearSVC(class_weight='balanced',C=0.01, penalty='l2', loss='squared_hinge',multi_class='ovr').fit(X_w, y)"
      ],
      "execution_count": 46,
      "outputs": [
        {
          "output_type": "stream",
          "text": [
            "/usr/local/lib/python3.7/dist-packages/sklearn/svm/_base.py:947: ConvergenceWarning: Liblinear failed to converge, increase the number of iterations.\n",
            "  \"the number of iterations.\", ConvergenceWarning)\n"
          ],
          "name": "stderr"
        }
      ]
    },
    {
      "cell_type": "code",
      "metadata": {
        "id": "F3sEgwYMzn5E"
      },
      "source": [
        "final_features_words = select.get_support(indices=True) #get indices of features\n",
        "final_feature_list = [str(feature_names_words[i]) for i in final_features_words] #Get list of names corresponding to indices"
      ],
      "execution_count": 47,
      "outputs": []
    },
    {
      "cell_type": "code",
      "metadata": {
        "id": "MCclzKTR0c6C",
        "colab": {
          "base_uri": "https://localhost:8080/"
        },
        "outputId": "ee6e2ee6-009a-4e75-b3f7-7a54ea626cb0"
      },
      "source": [
        "print(final_feature_list)"
      ],
      "execution_count": 48,
      "outputs": [
        {
          "output_type": "stream",
          "text": [
            "['510', '52', 'accountable', 'accounts', 'af', 'agendart', 'aid', 'aide', 'aided', 'aint nobody', 'amendment', 'america', 'andy', 'article', 'attach', 'bald', 'ball', 'bay', 'bbc', 'believe', 'birth', 'birth control', 'birthday', 'brort', 'bye', 'candidates', 'censor', 'certainly', 'chair', 'chant', 'chaos', 'clue', 'cole', 'come back', 'committing', 'cos', 'course', 'crazy', 'crazyrt', 'cream', 'criticism', 'dad', 'debt', 'denmark', 'details', 'df', 'dhs', 'discussed', 'discussion', 'dms', 'dort', 'downtown', 'dozen', 'dr', 'enough', 'enough enough', 'enoughrt', 'entirely', 'exciting', 'feelings', 'forward', 'full', 'gets', 'getting ready', 'goddamn', 'godi', 'godrt', 'good night', 'halal', 'halloween', 'hard work', 'heaven', 'hillary', 'horrifying', 'ice cream', 'insanity', 'instead', 'intentions', 'investigated', 'investigating', 'joins', 'july', 'keep good', 'keeping', 'king', 'lady', 'leads', 'leaf', 'leak', 'lies', 'liked', 'likely', 'linked', 'logging', 'material', 'missouri', 'monsters', 'month', 'monthly', 'murderers', 'nations', 'naturally', 'needa', 'oath', 'obamas', 'obesity', 'often', 'origin', 'page', 'pages', 'pay bills', 'paycheck', 'peace prize', 'personally', 'perspective', 'pet', 'pisses', 'pizza', 'point life', 'possibly', 'praises', 'prevent', 'previous', 'primary', 'protests', 'purposely', 'quarantine', 'rapists', 'real quick', 'real reason', 'record', 'reddit', 'refuses', 'reporting', 'royals', 'rubber', 'rude', 'sandwiches', 'santa', 'sarah', 'saving', 'seert', 'sees', 'senate', 'shall', 'shameful', 'shit fuck', 'sign petition', 'sign petition via', 'significant', 'signs', 'skills', 'slammed', 'slams', 'social media', 'steel', 'surely', 'teen', 'television', 'tend', 'tequila', 'thanks', 'thanks sharing', 'therert', 'theres', 'think youre', 'thugs', 'till', 'toort', 'trent', 'trial', 'truthrt', 'twitter', 'twitter account', 'twitterrt', 'unarmed', 'unemployment', 'urlgood', 'urli feel', 'urli hope', 'urli love', 'urlmy', 'urlthese', 'vulnerable', 'wage', 'wait', 'weed', 'weight', 'weird', 'wont', 'wont even', 'would better', 'youre saying', 'CC RB VBG', 'CC VBG NNS', 'CC WP VBZ', 'CD CD PRP', 'CD CD TO', 'CD NNS VBG', 'CD PRP RB', 'CD PRP VBD', 'DT FW', 'DT IN VBG', 'DT NN RBR', 'DT PRP DT', 'DT PRP IN', 'DT VBN', 'IN CD RB', 'IN DT JJR', 'IN JJ CD', 'IN JJ DT', 'IN JJ VBP', 'IN PRP VB', 'IN VBG CD', 'IN VBG DT', 'IN VBZ NN', 'JJ NN RBR', 'JJ NNS VBN', 'JJ NNS VBZ', 'JJ PRP PRP', 'JJ RB VB', 'JJ RB VBD', 'JJ VBD JJ', 'JJ VBP CD', 'JJ VBP VBP', 'JJ VBP VBZ', 'JJ VBP WP', 'JJR JJ', 'JJR JJ RB', 'JJR VBP', 'NN DT VBP', 'NN NN NNP', 'NN PDT DT', 'NN VB VBG', 'NNS CC JJR', 'NNS CC MD', 'NNS EX', 'NNS FW', 'NNS NN VBG', 'NNS NN VBN', 'NNS PRP PRP', 'NNS PRP RB', 'NNS RP RB', 'NNS VB IN', 'NNS VBD VBN', 'NNS VBP WP', 'NNS VBZ VBN', 'PRP CC RB', 'PRP CC VB', 'PRP JJS', 'PRP JJS JJ', 'PRP MD TO', 'PRP RB CC', 'PRP VBG RP', 'PRP WRB VB', 'PRP WRB VBP', 'RB JJ VBG', 'RB JJS', 'RB NNS PRP', 'RB TO NN', 'RB VB TO', 'RB VBG WRB', 'RB VBP CD', 'RB WRB JJ', 'RP IN JJ', 'RP MD VB', 'RP NN CC', 'RP NNS CC', 'RP PRP PRP', 'RP RB', 'TO JJ JJ', 'VB JJ TO', 'VB JJ VB', 'VB JJ VBD', 'VB PRP VBG', 'VB PRP VBN', 'VB WP IN', 'VB WRB VB', 'VBD CD NNS', 'VBD NN DT', 'VBD NN VBZ', 'VBD NN WRB', 'VBD NNS VBN', 'WP CC']\n"
          ],
          "name": "stdout"
        }
      ]
    },
    {
      "cell_type": "code",
      "metadata": {
        "id": "UHKH8mzloo-o"
      },
      "source": [
        "#Getting names for each class of features\n",
        "ngram_features_words = final_feature_list[:final_feature_list.index('youre saying')+1]\n",
        "pos_features_words = final_feature_list[final_feature_list.index('youre saying')+1:final_feature_list.index('WP CC')]"
      ],
      "execution_count": 49,
      "outputs": []
    },
    {
      "cell_type": "code",
      "metadata": {
        "id": "dn6YzPXNp6Uz"
      },
      "source": [
        "new_vocab_words = {v:i for i, v in enumerate(ngram_features_words)}\n",
        "new_vocab_words_to_index = {}\n",
        "for k in ngram_features_words:\n",
        "    new_vocab_words_to_index[k] = vocab_words[k]"
      ],
      "execution_count": 50,
      "outputs": []
    },
    {
      "cell_type": "code",
      "metadata": {
        "id": "htR7rTdYqYIl"
      },
      "source": [
        "#new_vocab_words"
      ],
      "execution_count": 51,
      "outputs": []
    },
    {
      "cell_type": "code",
      "metadata": {
        "id": "FPXSc67dd8uG",
        "colab": {
          "base_uri": "https://localhost:8080/"
        },
        "outputId": "d6e6cc33-d210-40ee-9f42-1a272266a969"
      },
      "source": [
        "model = LinearSVC(class_weight='balanced',C=0.01, penalty='l2', loss='squared_hinge',multi_class='ovr').fit(X_c, y)"
      ],
      "execution_count": 52,
      "outputs": [
        {
          "output_type": "stream",
          "text": [
            "/usr/local/lib/python3.7/dist-packages/sklearn/svm/_base.py:947: ConvergenceWarning: Liblinear failed to converge, increase the number of iterations.\n",
            "  \"the number of iterations.\", ConvergenceWarning)\n"
          ],
          "name": "stderr"
        }
      ]
    },
    {
      "cell_type": "code",
      "metadata": {
        "id": "VBOjhUU3eBIz",
        "colab": {
          "base_uri": "https://localhost:8080/"
        },
        "outputId": "357fb50f-0b80-45db-bce1-d7da3b46fe68"
      },
      "source": [
        "final_features = select.get_support(indices=True) #get indices of features\n",
        "final_feature_list = [str(feature_names_chars[i]) for i in final_features] #Get list of names corresponding to indices\n",
        "print(final_feature_list)"
      ],
      "execution_count": 53,
      "outputs": [
        {
          "output_type": "stream",
          "text": [
            "[' amp', ' amp ', ' ass', ' ass ', ' beca', ' best ', ' bit', ' bitc', ' bitch', ' bor', ' cau', ' caus', ' cle', ' done', ' eu', ' fuc', ' fuck', ' gone', ' gone ', ' has b', ' i j', ' i ju', ' i jus', ' jew', ' lis', ' mad ', ' my d', ' mys', ' mysel', ' nigg', ' nigga', ' plan', ' post', ' presi', ' qui', ' sid', ' socia', ' stu', ' stup', ' stupi', ' team', ' to se', ' unde', ' urlu', ' w ', ' wann', ' wanna', ' whit', ' white', ' work ', '00000', '2 pe', '2 peo', '2 peop', 'ag h', 'ag ha', 'ag has', 'ag ur', 'all s', 'ant wa', 'at p', 'auti', 'bam', 'bc ', 'bitc', 'bitch', 'bitch ', 'bout t', 'cent', 'cer', 'checke', 'cks', 'cor', 'cum', 'd k', 'dent ', 'ders', 'dia', 'dly', 'dly ', 'e aut', 'e can ', 'e en', 'e eve', 'e hash', 'e las', 'e peo', 'e peop', 'e pers', 'e url ', 'e way', 'e way ', 'each', 'eav', 'emo', 'eral', 'eric', 'erica', 'erica ', 'es b', 'esi', 'esiden', 'estr', 'fem', 'femi', 'femin', 'fina', 'fuc', 'g has', 'g hash', 'g yo', 'g you ', 'gal', 'gga', 'ggas', 'ggas ', 'gone', 'gone ', 'h d', 'hah', 'has b', 'he fu', 'he fuc', 'he has', 'hecke', 'hey a', 'hich', 'hite', 'hot', 'hot ', 'htag h', 'htag u', 'hur', 'i need', 'igga', 'iggas', 'iggas ', 'ille', 'illeg', 'illega', 'im b', 'inf', 'info', 'ing co', 'ins ', 'int g', 'iots ', 'israe', 'israel', 'ist ', 'iste', 'it wa', 'itch', 'itch ', 'iva', 'l i ', 'le u', 'liti', 'litica', 'lki', 'lkin', 'llega', 'llegal', 'lol', 'lol ', 'low ', 'lrt yo', 'lue', 'm f', 'mate', 'mate ', 'me to ', 'meri', 'meric', 'merica', 'mind', 'mme', 'my d', 'mys', 'mysel', 'myself', 'n go', 'n pe', 'ne p', 'ne pe', 'ne per', 'nia ', 'nigg', 'nigga', 'nt ev', 'nt eve', 'nt wan', 'o one', 'oll ', 'ommy', 'on un', 'one p', 'one pe', 'oooooo', 'ople t', 'ople u', 'ot to ', 'otest', 'ou th', 'oure', 'oure ', 'oy ', 'ple u', 'poli', 'presi', 'presid', 'protes', 'r my ', 'rae', 'rael', 'rds', 'riot', 'rl h', 'rl ha', 'rl url', 'rlhas', 'rlhash', 'rlu', 'rona', 'rotes', 'rotest', 'roug', 'rt f', 'rt he', 'rt the', 's fi', 's ri', 's url ', 'seas', 'srae', 'srael', 'st c', 'st d', 'stupi', 'stupid', 't amp', 't amp ', 't da', 't even', 't he ', 't me ', 't nigg', 't shi', 't shit', 'tag h', 'tag ha', 'tag ur', 'team', 'the fu', 'tica', 'tical', 'to se', 'today ', 'trea', 'tt ', 'tup', 'u got', 'u th', 'um ', 'urg', 'url u', 'url ur', 'urlhas', 'urlu', 'uro', 'ut u', 'wann', 'wanna', 'wanna ', 'whit', 'white', 'y my ', 'y sh', 'y urlr', 'you th', 'youre', 'youre ', 'yself', 'JJ VB PRP']\n"
          ],
          "name": "stdout"
        }
      ]
    },
    {
      "cell_type": "code",
      "metadata": {
        "id": "MfmdV_lL08By"
      },
      "source": [
        "#Getting names for each class of features\n",
        "ngram_features = final_feature_list[:final_feature_list.index('yself')+1]\n",
        "pos_features = final_feature_list[final_feature_list.index('yself')+1:final_feature_list.index('JJ VB PRP')]\n"
      ],
      "execution_count": 54,
      "outputs": []
    },
    {
      "cell_type": "code",
      "metadata": {
        "id": "Sy3oQBdi1grf"
      },
      "source": [
        "new_vocab_chars = {v:i for i, v in enumerate(ngram_features)}\n",
        "new_vocab_chars_to_index = {}\n",
        "for k in ngram_features:\n",
        "    new_vocab_chars_to_index[k] = vocab_chars[k]"
      ],
      "execution_count": 55,
      "outputs": []
    },
    {
      "cell_type": "code",
      "metadata": {
        "id": "NkLHLdqsRJ0Q"
      },
      "source": [
        "#new_vocab_chars"
      ],
      "execution_count": 56,
      "outputs": []
    },
    {
      "cell_type": "code",
      "metadata": {
        "id": "UwXXYnLoRI3M"
      },
      "source": [
        "clf_lr = LogisticRegression(penalty='l2',\n",
        "                            tol=1e-4,\n",
        "                            C=5.0,\n",
        "                            fit_intercept=True,\n",
        "                            class_weight='balanced',\n",
        "                            random_state=0,\n",
        "                            solver='lbfgs',\n",
        "                            max_iter=100,\n",
        "                            multi_class='auto',\n",
        "                            verbose=1,\n",
        "                            n_jobs=-1)"
      ],
      "execution_count": 57,
      "outputs": []
    },
    {
      "cell_type": "code",
      "metadata": {
        "id": "bQZoDSPUtEgz"
      },
      "source": [
        "param_grid = [{}]"
      ],
      "execution_count": 58,
      "outputs": []
    },
    {
      "cell_type": "code",
      "metadata": {
        "id": "w0yDoNPks55e"
      },
      "source": [
        "grid_search_lr = GridSearchCV(clf_lr, \n",
        "                           param_grid,\n",
        "                           cv=StratifiedKFold(n_splits=5, shuffle=True,\n",
        "                                              random_state=42).split(X_train_word, y_train_word), \n",
        "                           verbose=2)"
      ],
      "execution_count": 59,
      "outputs": []
    },
    {
      "cell_type": "code",
      "metadata": {
        "id": "WKXOKH-8z0SQ",
        "colab": {
          "base_uri": "https://localhost:8080/"
        },
        "outputId": "d5d42fd0-519e-462a-881c-7b3de1b9a644"
      },
      "source": [
        "clf_lr_word = clf_lr.fit(X_train_word, y_train_word)"
      ],
      "execution_count": 60,
      "outputs": [
        {
          "output_type": "stream",
          "text": [
            "[Parallel(n_jobs=-1)]: Using backend LokyBackend with 2 concurrent workers.\n",
            "[Parallel(n_jobs=-1)]: Done   1 out of   1 | elapsed:    1.4s finished\n"
          ],
          "name": "stderr"
        }
      ]
    },
    {
      "cell_type": "code",
      "metadata": {
        "id": "W1Q5jJ6r3ycG",
        "colab": {
          "base_uri": "https://localhost:8080/",
          "height": 978
        },
        "outputId": "70c396d1-694c-485c-e04e-318ab2603a85"
      },
      "source": [
        "evaluate_model_ngrammWord(clf_lr_word, model_name=\"clf_lr_word\")"
      ],
      "execution_count": 61,
      "outputs": [
        {
          "output_type": "stream",
          "text": [
            "Training Set\n",
            "Accuracy: 1.0\n",
            "\n",
            "              precision    recall  f1-score   support\n",
            "\n",
            "           0     1.0000    1.0000    1.0000        67\n",
            "           1     1.0000    1.0000    1.0000        73\n",
            "\n",
            "    accuracy                         1.0000       140\n",
            "   macro avg     1.0000    1.0000    1.0000       140\n",
            "weighted avg     1.0000    1.0000    1.0000       140\n",
            "\n"
          ],
          "name": "stdout"
        },
        {
          "output_type": "display_data",
          "data": {
            "image/png": "[encoded data removed]",
            "text/plain": [
              "<Figure size 432x288 with 2 Axes>"
            ]
          },
          "metadata": {
            "tags": [],
            "needs_background": "light"
          }
        },
        {
          "output_type": "stream",
          "text": [
            "\n",
            "Testing Set\n",
            "Accuracy: 0.6833333333333333\n",
            "\n",
            "              precision    recall  f1-score   support\n",
            "\n",
            "           0     0.7500    0.6364    0.6885        33\n",
            "           1     0.6250    0.7407    0.6780        27\n",
            "\n",
            "    accuracy                         0.6833        60\n",
            "   macro avg     0.6875    0.6886    0.6832        60\n",
            "weighted avg     0.6937    0.6833    0.6838        60\n",
            "\n"
          ],
          "name": "stdout"
        },
        {
          "output_type": "display_data",
          "data": {
            "image/png": "[encoded data removed]",
            "text/plain": [
              "<Figure size 432x288 with 2 Axes>"
            ]
          },
          "metadata": {
            "tags": [],
            "needs_background": "light"
          }
        },
        {
          "output_type": "stream",
          "text": [
            "\n"
          ],
          "name": "stdout"
        }
      ]
    },
    {
      "cell_type": "code",
      "metadata": {
        "id": "4zOB_W-qOETN"
      },
      "source": [
        "grid_search_lr = GridSearchCV(clf_lr, \n",
        "                           param_grid,\n",
        "                           cv=StratifiedKFold(n_splits=5, shuffle=True,\n",
        "                                              random_state=42).split(X_train_char, y_train_char), \n",
        "                           verbose=2)"
      ],
      "execution_count": 62,
      "outputs": []
    },
    {
      "cell_type": "code",
      "metadata": {
        "id": "gZn55sF2OEfL",
        "colab": {
          "base_uri": "https://localhost:8080/"
        },
        "outputId": "bdac4d5b-07a7-4954-d2a8-63e604721fe8"
      },
      "source": [
        "clf_lr_char= clf_lr.fit(X_train_char, y_train_char)"
      ],
      "execution_count": 63,
      "outputs": [
        {
          "output_type": "stream",
          "text": [
            "[Parallel(n_jobs=-1)]: Using backend LokyBackend with 2 concurrent workers.\n",
            "[Parallel(n_jobs=-1)]: Done   1 out of   1 | elapsed:    1.6s finished\n"
          ],
          "name": "stderr"
        }
      ]
    },
    {
      "cell_type": "code",
      "metadata": {
        "id": "-Nhyi2zVOEqU",
        "colab": {
          "base_uri": "https://localhost:8080/",
          "height": 978
        },
        "outputId": "4fd8aed7-4488-42a8-ba21-11cf8aafa8e5"
      },
      "source": [
        "evaluate_model_ngrammChar(clf_lr_char, model_name=\"clf_lr_char\")"
      ],
      "execution_count": 64,
      "outputs": [
        {
          "output_type": "stream",
          "text": [
            "Training Set\n",
            "Accuracy: 1.0\n",
            "\n",
            "              precision    recall  f1-score   support\n",
            "\n",
            "           0     1.0000    1.0000    1.0000        67\n",
            "           1     1.0000    1.0000    1.0000        73\n",
            "\n",
            "    accuracy                         1.0000       140\n",
            "   macro avg     1.0000    1.0000    1.0000       140\n",
            "weighted avg     1.0000    1.0000    1.0000       140\n",
            "\n"
          ],
          "name": "stdout"
        },
        {
          "output_type": "display_data",
          "data": {
            "image/png": "[encoded data removed]",
            "text/plain": [
              "<Figure size 432x288 with 2 Axes>"
            ]
          },
          "metadata": {
            "tags": [],
            "needs_background": "light"
          }
        },
        {
          "output_type": "stream",
          "text": [
            "\n",
            "Testing Set\n",
            "Accuracy: 0.7166666666666667\n",
            "\n",
            "              precision    recall  f1-score   support\n",
            "\n",
            "           0     0.7857    0.6667    0.7213        33\n",
            "           1     0.6562    0.7778    0.7119        27\n",
            "\n",
            "    accuracy                         0.7167        60\n",
            "   macro avg     0.7210    0.7222    0.7166        60\n",
            "weighted avg     0.7275    0.7167    0.7171        60\n",
            "\n"
          ],
          "name": "stdout"
        },
        {
          "output_type": "display_data",
          "data": {
            "image/png": "[encoded data removed]",
            "text/plain": [
              "<Figure size 432x288 with 2 Axes>"
            ]
          },
          "metadata": {
            "tags": [],
            "needs_background": "light"
          }
        },
        {
          "output_type": "stream",
          "text": [
            "\n"
          ],
          "name": "stdout"
        }
      ]
    },
    {
      "cell_type": "code",
      "metadata": {
        "id": "8yg7LrUtOE3Y"
      },
      "source": [
        "grid_search_lr = GridSearchCV(clf_lr, \n",
        "                           param_grid,\n",
        "                           cv=StratifiedKFold(n_splits=5, shuffle=True,\n",
        "                                              random_state=42).split(X_train_keyList, y_train_keyList), \n",
        "                           verbose=2)"
      ],
      "execution_count": 65,
      "outputs": []
    },
    {
      "cell_type": "code",
      "metadata": {
        "id": "yH5mTPlTOnmt",
        "colab": {
          "base_uri": "https://localhost:8080/"
        },
        "outputId": "f1d311d2-62dd-49ab-c25a-7025ef7d431b"
      },
      "source": [
        "clf_lr.fit(X_train_keyList, y_train_keyList)"
      ],
      "execution_count": 66,
      "outputs": [
        {
          "output_type": "stream",
          "text": [
            "[Parallel(n_jobs=-1)]: Using backend LokyBackend with 2 concurrent workers.\n",
            "[Parallel(n_jobs=-1)]: Done   1 out of   1 | elapsed:    0.0s finished\n"
          ],
          "name": "stderr"
        },
        {
          "output_type": "execute_result",
          "data": {
            "text/plain": [
              "LogisticRegression(C=5.0, class_weight='balanced', dual=False,\n",
              "                   fit_intercept=True, intercept_scaling=1, l1_ratio=None,\n",
              "                   max_iter=100, multi_class='auto', n_jobs=-1, penalty='l2',\n",
              "                   random_state=0, solver='lbfgs', tol=0.0001, verbose=1,\n",
              "                   warm_start=False)"
            ]
          },
          "metadata": {
            "tags": []
          },
          "execution_count": 66
        }
      ]
    },
    {
      "cell_type": "code",
      "metadata": {
        "id": "_wEz1GD3Opbt",
        "colab": {
          "base_uri": "https://localhost:8080/",
          "height": 974
        },
        "outputId": "08e533ee-d367-46be-c8c0-695ba428ab2e"
      },
      "source": [
        "evaluate_model_keyList(clf_lr, model_name=\"clf_lr_keyList\")"
      ],
      "execution_count": 67,
      "outputs": [
        {
          "output_type": "stream",
          "text": [
            "Training Set\n",
            "Accuracy: 0.5428571428571428\n",
            "\n",
            "              precision    recall  f1-score   support\n",
            "\n",
            "           0     0.5205    0.5672    0.5429        67\n",
            "           1     0.5672    0.5205    0.5429        73\n",
            "\n",
            "    accuracy                         0.5429       140\n",
            "   macro avg     0.5439    0.5439    0.5429       140\n",
            "weighted avg     0.5449    0.5429    0.5429       140\n",
            "\n"
          ],
          "name": "stdout"
        },
        {
          "output_type": "display_data",
          "data": {
            "image/png": "[encoded data removed]",
            "text/plain": [
              "<Figure size 432x288 with 2 Axes>"
            ]
          },
          "metadata": {
            "tags": [],
            "needs_background": "light"
          }
        },
        {
          "output_type": "stream",
          "text": [
            "\n",
            "Testing Set\n",
            "Accuracy: 0.6166666666666667\n",
            "\n",
            "              precision    recall  f1-score   support\n",
            "\n",
            "           0     0.6316    0.7273    0.6761        33\n",
            "           1     0.5909    0.4815    0.5306        27\n",
            "\n",
            "    accuracy                         0.6167        60\n",
            "   macro avg     0.6112    0.6044    0.6033        60\n",
            "weighted avg     0.6133    0.6167    0.6106        60\n",
            "\n"
          ],
          "name": "stdout"
        },
        {
          "output_type": "display_data",
          "data": {
            "image/png": "[encoded data removed]",
            "text/plain": [
              "<Figure size 432x288 with 2 Axes>"
            ]
          },
          "metadata": {
            "tags": [],
            "needs_background": "light"
          }
        },
        {
          "output_type": "stream",
          "text": [
            "\n"
          ],
          "name": "stdout"
        }
      ]
    },
    {
      "cell_type": "code",
      "metadata": {
        "id": "WObBkbO13ypx"
      },
      "source": [
        "del clf_lr"
      ],
      "execution_count": 68,
      "outputs": []
    },
    {
      "cell_type": "markdown",
      "metadata": {
        "id": "GHGngHlA4vUm"
      },
      "source": [
        "### **4.3 Random Forest**"
      ]
    },
    {
      "cell_type": "code",
      "metadata": {
        "id": "LIPSDU75EQCq"
      },
      "source": [
        "clf_rf = RandomForestClassifier(n_estimators=500,\n",
        "                                criterion=\"gini\",\n",
        "                                max_depth=None, \n",
        "                                min_samples_split=2,\n",
        "                                min_samples_leaf=10, \n",
        "                                max_features=\"auto\", \n",
        "                                n_jobs=-1,\n",
        "                                verbose=1,\n",
        "                                random_state=0,\n",
        "                                class_weight='balanced')"
      ],
      "execution_count": 69,
      "outputs": []
    },
    {
      "cell_type": "code",
      "metadata": {
        "id": "-ZW6qLTd-jji"
      },
      "source": [
        "grid_search_rf = GridSearchCV(clf_rf, \n",
        "                           param_grid,\n",
        "                           cv=StratifiedKFold(n_splits=5, shuffle=True,\n",
        "                                              random_state=42).split(X_train_word, y_train_word), \n",
        "                           verbose=2)"
      ],
      "execution_count": 70,
      "outputs": []
    },
    {
      "cell_type": "code",
      "metadata": {
        "id": "9EkLq1MmyMha",
        "colab": {
          "base_uri": "https://localhost:8080/"
        },
        "outputId": "1a26a069-ee71-472b-b4c8-3e0d5e6289a8"
      },
      "source": [
        "clf_rf_word= grid_search_rf.fit(X_train_word, y_train_word)"
      ],
      "execution_count": 71,
      "outputs": [
        {
          "output_type": "stream",
          "text": [
            "Fitting 5 folds for each of 1 candidates, totalling 5 fits\n"
          ],
          "name": "stdout"
        },
        {
          "output_type": "stream",
          "text": [
            "[Parallel(n_jobs=1)]: Using backend SequentialBackend with 1 concurrent workers.\n"
          ],
          "name": "stderr"
        },
        {
          "output_type": "stream",
          "text": [
            "[CV]  ................................................................\n"
          ],
          "name": "stdout"
        },
        {
          "output_type": "stream",
          "text": [
            "[Parallel(n_jobs=-1)]: Using backend LokyBackend with 2 concurrent workers.\n",
            "[Parallel(n_jobs=-1)]: Done 500 out of 500 | elapsed:    0.9s finished\n",
            "[Parallel(n_jobs=2)]: Using backend ThreadingBackend with 2 concurrent workers.\n",
            "[Parallel(n_jobs=2)]: Done  46 tasks      | elapsed:    0.0s\n",
            "[Parallel(n_jobs=2)]: Done 196 tasks      | elapsed:    0.1s\n",
            "[Parallel(n_jobs=2)]: Done 446 tasks      | elapsed:    0.1s\n",
            "[Parallel(n_jobs=2)]: Done 500 out of 500 | elapsed:    0.1s finished\n"
          ],
          "name": "stderr"
        },
        {
          "output_type": "stream",
          "text": [
            "[CV] ................................................. , total=   1.5s\n"
          ],
          "name": "stdout"
        },
        {
          "output_type": "stream",
          "text": [
            "[Parallel(n_jobs=1)]: Done   1 out of   1 | elapsed:    1.5s remaining:    0.0s\n"
          ],
          "name": "stderr"
        },
        {
          "output_type": "stream",
          "text": [
            "[CV]  ................................................................\n"
          ],
          "name": "stdout"
        },
        {
          "output_type": "stream",
          "text": [
            "[Parallel(n_jobs=-1)]: Using backend LokyBackend with 2 concurrent workers.\n",
            "[Parallel(n_jobs=-1)]: Done 500 out of 500 | elapsed:    0.9s finished\n",
            "[Parallel(n_jobs=2)]: Using backend ThreadingBackend with 2 concurrent workers.\n",
            "[Parallel(n_jobs=2)]: Done  46 tasks      | elapsed:    0.0s\n",
            "[Parallel(n_jobs=2)]: Done 196 tasks      | elapsed:    0.1s\n",
            "[Parallel(n_jobs=2)]: Done 446 tasks      | elapsed:    0.1s\n",
            "[Parallel(n_jobs=2)]: Done 500 out of 500 | elapsed:    0.2s finished\n"
          ],
          "name": "stderr"
        },
        {
          "output_type": "stream",
          "text": [
            "[CV] ................................................. , total=   1.5s\n",
            "[CV]  ................................................................\n"
          ],
          "name": "stdout"
        },
        {
          "output_type": "stream",
          "text": [
            "[Parallel(n_jobs=-1)]: Using backend LokyBackend with 2 concurrent workers.\n",
            "[Parallel(n_jobs=-1)]: Done 500 out of 500 | elapsed:    0.9s finished\n",
            "[Parallel(n_jobs=2)]: Using backend ThreadingBackend with 2 concurrent workers.\n",
            "[Parallel(n_jobs=2)]: Done  46 tasks      | elapsed:    0.0s\n",
            "[Parallel(n_jobs=2)]: Done 196 tasks      | elapsed:    0.1s\n",
            "[Parallel(n_jobs=2)]: Done 446 tasks      | elapsed:    0.1s\n",
            "[Parallel(n_jobs=2)]: Done 500 out of 500 | elapsed:    0.1s finished\n"
          ],
          "name": "stderr"
        },
        {
          "output_type": "stream",
          "text": [
            "[CV] ................................................. , total=   1.5s\n",
            "[CV]  ................................................................\n"
          ],
          "name": "stdout"
        },
        {
          "output_type": "stream",
          "text": [
            "[Parallel(n_jobs=-1)]: Using backend LokyBackend with 2 concurrent workers.\n",
            "[Parallel(n_jobs=-1)]: Done 500 out of 500 | elapsed:    0.9s finished\n",
            "[Parallel(n_jobs=2)]: Using backend ThreadingBackend with 2 concurrent workers.\n",
            "[Parallel(n_jobs=2)]: Done  46 tasks      | elapsed:    0.0s\n",
            "[Parallel(n_jobs=2)]: Done 196 tasks      | elapsed:    0.1s\n",
            "[Parallel(n_jobs=2)]: Done 446 tasks      | elapsed:    0.1s\n",
            "[Parallel(n_jobs=2)]: Done 500 out of 500 | elapsed:    0.2s finished\n"
          ],
          "name": "stderr"
        },
        {
          "output_type": "stream",
          "text": [
            "[CV] ................................................. , total=   1.4s\n",
            "[CV]  ................................................................\n"
          ],
          "name": "stdout"
        },
        {
          "output_type": "stream",
          "text": [
            "[Parallel(n_jobs=-1)]: Using backend LokyBackend with 2 concurrent workers.\n",
            "[Parallel(n_jobs=-1)]: Done 500 out of 500 | elapsed:    0.9s finished\n",
            "[Parallel(n_jobs=2)]: Using backend ThreadingBackend with 2 concurrent workers.\n",
            "[Parallel(n_jobs=2)]: Done  46 tasks      | elapsed:    0.0s\n",
            "[Parallel(n_jobs=2)]: Done 196 tasks      | elapsed:    0.1s\n",
            "[Parallel(n_jobs=2)]: Done 446 tasks      | elapsed:    0.1s\n",
            "[Parallel(n_jobs=2)]: Done 500 out of 500 | elapsed:    0.2s finished\n"
          ],
          "name": "stderr"
        },
        {
          "output_type": "stream",
          "text": [
            "[CV] ................................................. , total=   1.5s\n"
          ],
          "name": "stdout"
        },
        {
          "output_type": "stream",
          "text": [
            "[Parallel(n_jobs=1)]: Done   5 out of   5 | elapsed:    7.5s finished\n",
            "[Parallel(n_jobs=-1)]: Using backend ThreadingBackend with 2 concurrent workers.\n",
            "[Parallel(n_jobs=-1)]: Done  46 tasks      | elapsed:    0.1s\n",
            "[Parallel(n_jobs=-1)]: Done 196 tasks      | elapsed:    0.4s\n",
            "[Parallel(n_jobs=-1)]: Done 446 tasks      | elapsed:    0.9s\n",
            "[Parallel(n_jobs=-1)]: Done 500 out of 500 | elapsed:    1.0s finished\n"
          ],
          "name": "stderr"
        }
      ]
    },
    {
      "cell_type": "code",
      "metadata": {
        "id": "CGlaAofi51l6",
        "colab": {
          "base_uri": "https://localhost:8080/",
          "height": 1000
        },
        "outputId": "639c3f4e-acc9-428d-f296-c63771f29768"
      },
      "source": [
        "evaluate_model_ngrammWord(clf_rf_word, model_name=\"clf_rf_word\")"
      ],
      "execution_count": 72,
      "outputs": [
        {
          "output_type": "stream",
          "text": [
            "[Parallel(n_jobs=2)]: Using backend ThreadingBackend with 2 concurrent workers.\n",
            "[Parallel(n_jobs=2)]: Done  46 tasks      | elapsed:    0.0s\n",
            "[Parallel(n_jobs=2)]: Done 196 tasks      | elapsed:    0.1s\n",
            "[Parallel(n_jobs=2)]: Done 446 tasks      | elapsed:    0.2s\n",
            "[Parallel(n_jobs=2)]: Done 500 out of 500 | elapsed:    0.2s finished\n"
          ],
          "name": "stderr"
        },
        {
          "output_type": "stream",
          "text": [
            "Training Set\n",
            "Accuracy: 1.0\n",
            "\n",
            "              precision    recall  f1-score   support\n",
            "\n",
            "           0     1.0000    1.0000    1.0000        67\n",
            "           1     1.0000    1.0000    1.0000        73\n",
            "\n",
            "    accuracy                         1.0000       140\n",
            "   macro avg     1.0000    1.0000    1.0000       140\n",
            "weighted avg     1.0000    1.0000    1.0000       140\n",
            "\n"
          ],
          "name": "stdout"
        },
        {
          "output_type": "stream",
          "text": [
            "[Parallel(n_jobs=2)]: Using backend ThreadingBackend with 2 concurrent workers.\n",
            "[Parallel(n_jobs=2)]: Done  46 tasks      | elapsed:    0.0s\n",
            "[Parallel(n_jobs=2)]: Done 196 tasks      | elapsed:    0.1s\n",
            "[Parallel(n_jobs=2)]: Done 446 tasks      | elapsed:    0.2s\n",
            "[Parallel(n_jobs=2)]: Done 500 out of 500 | elapsed:    0.2s finished\n"
          ],
          "name": "stderr"
        },
        {
          "output_type": "display_data",
          "data": {
            "image/png": "[encoded data removed]",
            "text/plain": [
              "<Figure size 432x288 with 2 Axes>"
            ]
          },
          "metadata": {
            "tags": [],
            "needs_background": "light"
          }
        },
        {
          "output_type": "stream",
          "text": [
            "\n"
          ],
          "name": "stdout"
        },
        {
          "output_type": "stream",
          "text": [
            "[Parallel(n_jobs=2)]: Using backend ThreadingBackend with 2 concurrent workers.\n",
            "[Parallel(n_jobs=2)]: Done  46 tasks      | elapsed:    0.0s\n",
            "[Parallel(n_jobs=2)]: Done 196 tasks      | elapsed:    0.1s\n",
            "[Parallel(n_jobs=2)]: Done 446 tasks      | elapsed:    0.1s\n",
            "[Parallel(n_jobs=2)]: Done 500 out of 500 | elapsed:    0.2s finished\n"
          ],
          "name": "stderr"
        },
        {
          "output_type": "stream",
          "text": [
            "Testing Set\n",
            "Accuracy: 0.65\n",
            "\n",
            "              precision    recall  f1-score   support\n",
            "\n",
            "           0     0.6765    0.6970    0.6866        33\n",
            "           1     0.6154    0.5926    0.6038        27\n",
            "\n",
            "    accuracy                         0.6500        60\n",
            "   macro avg     0.6459    0.6448    0.6452        60\n",
            "weighted avg     0.6490    0.6500    0.6493        60\n",
            "\n"
          ],
          "name": "stdout"
        },
        {
          "output_type": "stream",
          "text": [
            "[Parallel(n_jobs=2)]: Using backend ThreadingBackend with 2 concurrent workers.\n",
            "[Parallel(n_jobs=2)]: Done  46 tasks      | elapsed:    0.0s\n",
            "[Parallel(n_jobs=2)]: Done 196 tasks      | elapsed:    0.1s\n",
            "[Parallel(n_jobs=2)]: Done 446 tasks      | elapsed:    0.2s\n",
            "[Parallel(n_jobs=2)]: Done 500 out of 500 | elapsed:    0.2s finished\n"
          ],
          "name": "stderr"
        },
        {
          "output_type": "display_data",
          "data": {
            "image/png": "[encoded data removed]",
            "text/plain": [
              "<Figure size 432x288 with 2 Axes>"
            ]
          },
          "metadata": {
            "tags": [],
            "needs_background": "light"
          }
        },
        {
          "output_type": "stream",
          "text": [
            "\n"
          ],
          "name": "stdout"
        }
      ]
    },
    {
      "cell_type": "code",
      "metadata": {
        "id": "OeuQn92-SCc_"
      },
      "source": [
        "X_train_char, X_test_char, y_train_char, y_test_char = train_test_split(X_char, y, test_size = 0.3, random_state = 42, shuffle=True)"
      ],
      "execution_count": 73,
      "outputs": []
    },
    {
      "cell_type": "code",
      "metadata": {
        "id": "hR2yXGnMPTCW"
      },
      "source": [
        "grid_search_rf = GridSearchCV(clf_rf, \n",
        "                           param_grid,\n",
        "                           cv=StratifiedKFold(n_splits=5, shuffle=True,\n",
        "                                              random_state=42).split(X_train_char, y_train_char), \n",
        "                           verbose=2)"
      ],
      "execution_count": 74,
      "outputs": []
    },
    {
      "cell_type": "code",
      "metadata": {
        "id": "b2FH56xWPTQt",
        "colab": {
          "base_uri": "https://localhost:8080/"
        },
        "outputId": "e1316016-1b76-4ccb-f485-d65aa9c47666"
      },
      "source": [
        "clf_rf_char= grid_search_rf.fit(X_train_char, y_train_char)"
      ],
      "execution_count": 75,
      "outputs": [
        {
          "output_type": "stream",
          "text": [
            "Fitting 5 folds for each of 1 candidates, totalling 5 fits\n"
          ],
          "name": "stdout"
        },
        {
          "output_type": "stream",
          "text": [
            "[Parallel(n_jobs=1)]: Using backend SequentialBackend with 1 concurrent workers.\n"
          ],
          "name": "stderr"
        },
        {
          "output_type": "stream",
          "text": [
            "[CV]  ................................................................\n"
          ],
          "name": "stdout"
        },
        {
          "output_type": "stream",
          "text": [
            "[Parallel(n_jobs=-1)]: Using backend LokyBackend with 2 concurrent workers.\n",
            "[Parallel(n_jobs=-1)]: Done 500 out of 500 | elapsed:    1.0s finished\n",
            "[Parallel(n_jobs=2)]: Using backend ThreadingBackend with 2 concurrent workers.\n",
            "[Parallel(n_jobs=2)]: Done  46 tasks      | elapsed:    0.0s\n",
            "[Parallel(n_jobs=2)]: Done 196 tasks      | elapsed:    0.1s\n",
            "[Parallel(n_jobs=2)]: Done 446 tasks      | elapsed:    0.1s\n",
            "[Parallel(n_jobs=2)]: Done 500 out of 500 | elapsed:    0.2s finished\n"
          ],
          "name": "stderr"
        },
        {
          "output_type": "stream",
          "text": [
            "[CV] ................................................. , total=   1.7s\n"
          ],
          "name": "stdout"
        },
        {
          "output_type": "stream",
          "text": [
            "[Parallel(n_jobs=1)]: Done   1 out of   1 | elapsed:    1.7s remaining:    0.0s\n"
          ],
          "name": "stderr"
        },
        {
          "output_type": "stream",
          "text": [
            "[CV]  ................................................................\n"
          ],
          "name": "stdout"
        },
        {
          "output_type": "stream",
          "text": [
            "[Parallel(n_jobs=-1)]: Using backend LokyBackend with 2 concurrent workers.\n",
            "[Parallel(n_jobs=-1)]: Done 500 out of 500 | elapsed:    1.0s finished\n",
            "[Parallel(n_jobs=2)]: Using backend ThreadingBackend with 2 concurrent workers.\n",
            "[Parallel(n_jobs=2)]: Done  46 tasks      | elapsed:    0.0s\n",
            "[Parallel(n_jobs=2)]: Done 196 tasks      | elapsed:    0.1s\n",
            "[Parallel(n_jobs=2)]: Done 446 tasks      | elapsed:    0.1s\n",
            "[Parallel(n_jobs=2)]: Done 500 out of 500 | elapsed:    0.2s finished\n"
          ],
          "name": "stderr"
        },
        {
          "output_type": "stream",
          "text": [
            "[CV] ................................................. , total=   1.7s\n",
            "[CV]  ................................................................\n"
          ],
          "name": "stdout"
        },
        {
          "output_type": "stream",
          "text": [
            "[Parallel(n_jobs=-1)]: Using backend LokyBackend with 2 concurrent workers.\n",
            "[Parallel(n_jobs=-1)]: Done 500 out of 500 | elapsed:    1.0s finished\n",
            "[Parallel(n_jobs=2)]: Using backend ThreadingBackend with 2 concurrent workers.\n",
            "[Parallel(n_jobs=2)]: Done  46 tasks      | elapsed:    0.0s\n",
            "[Parallel(n_jobs=2)]: Done 196 tasks      | elapsed:    0.1s\n",
            "[Parallel(n_jobs=2)]: Done 446 tasks      | elapsed:    0.1s\n",
            "[Parallel(n_jobs=2)]: Done 500 out of 500 | elapsed:    0.2s finished\n"
          ],
          "name": "stderr"
        },
        {
          "output_type": "stream",
          "text": [
            "[CV] ................................................. , total=   1.7s\n",
            "[CV]  ................................................................\n"
          ],
          "name": "stdout"
        },
        {
          "output_type": "stream",
          "text": [
            "[Parallel(n_jobs=-1)]: Using backend LokyBackend with 2 concurrent workers.\n",
            "[Parallel(n_jobs=-1)]: Done 500 out of 500 | elapsed:    1.0s finished\n",
            "[Parallel(n_jobs=2)]: Using backend ThreadingBackend with 2 concurrent workers.\n",
            "[Parallel(n_jobs=2)]: Done  46 tasks      | elapsed:    0.0s\n",
            "[Parallel(n_jobs=2)]: Done 196 tasks      | elapsed:    0.1s\n",
            "[Parallel(n_jobs=2)]: Done 446 tasks      | elapsed:    0.1s\n",
            "[Parallel(n_jobs=2)]: Done 500 out of 500 | elapsed:    0.2s finished\n"
          ],
          "name": "stderr"
        },
        {
          "output_type": "stream",
          "text": [
            "[CV] ................................................. , total=   1.6s\n",
            "[CV]  ................................................................\n"
          ],
          "name": "stdout"
        },
        {
          "output_type": "stream",
          "text": [
            "[Parallel(n_jobs=-1)]: Using backend LokyBackend with 2 concurrent workers.\n",
            "[Parallel(n_jobs=-1)]: Done 500 out of 500 | elapsed:    1.0s finished\n",
            "[Parallel(n_jobs=2)]: Using backend ThreadingBackend with 2 concurrent workers.\n",
            "[Parallel(n_jobs=2)]: Done  46 tasks      | elapsed:    0.0s\n",
            "[Parallel(n_jobs=2)]: Done 196 tasks      | elapsed:    0.1s\n",
            "[Parallel(n_jobs=2)]: Done 446 tasks      | elapsed:    0.1s\n",
            "[Parallel(n_jobs=2)]: Done 500 out of 500 | elapsed:    0.2s finished\n"
          ],
          "name": "stderr"
        },
        {
          "output_type": "stream",
          "text": [
            "[CV] ................................................. , total=   1.6s\n"
          ],
          "name": "stdout"
        },
        {
          "output_type": "stream",
          "text": [
            "[Parallel(n_jobs=1)]: Done   5 out of   5 | elapsed:    8.3s finished\n",
            "[Parallel(n_jobs=-1)]: Using backend ThreadingBackend with 2 concurrent workers.\n",
            "[Parallel(n_jobs=-1)]: Done  46 tasks      | elapsed:    0.1s\n",
            "[Parallel(n_jobs=-1)]: Done 196 tasks      | elapsed:    0.4s\n",
            "[Parallel(n_jobs=-1)]: Done 446 tasks      | elapsed:    1.0s\n",
            "[Parallel(n_jobs=-1)]: Done 500 out of 500 | elapsed:    1.1s finished\n"
          ],
          "name": "stderr"
        }
      ]
    },
    {
      "cell_type": "code",
      "metadata": {
        "id": "S8lJ6iiLPTdM",
        "colab": {
          "base_uri": "https://localhost:8080/",
          "height": 1000
        },
        "outputId": "4d447b1c-b297-4e8a-dca8-61b08684dcb4"
      },
      "source": [
        "evaluate_model_ngrammChar(clf_rf_char, model_name=\"clf_rf_char\")"
      ],
      "execution_count": 76,
      "outputs": [
        {
          "output_type": "stream",
          "text": [
            "[Parallel(n_jobs=2)]: Using backend ThreadingBackend with 2 concurrent workers.\n",
            "[Parallel(n_jobs=2)]: Done  46 tasks      | elapsed:    0.0s\n",
            "[Parallel(n_jobs=2)]: Done 196 tasks      | elapsed:    0.1s\n",
            "[Parallel(n_jobs=2)]: Done 446 tasks      | elapsed:    0.2s\n",
            "[Parallel(n_jobs=2)]: Done 500 out of 500 | elapsed:    0.2s finished\n"
          ],
          "name": "stderr"
        },
        {
          "output_type": "stream",
          "text": [
            "Training Set\n",
            "Accuracy: 1.0\n",
            "\n",
            "              precision    recall  f1-score   support\n",
            "\n",
            "           0     1.0000    1.0000    1.0000        67\n",
            "           1     1.0000    1.0000    1.0000        73\n",
            "\n",
            "    accuracy                         1.0000       140\n",
            "   macro avg     1.0000    1.0000    1.0000       140\n",
            "weighted avg     1.0000    1.0000    1.0000       140\n",
            "\n"
          ],
          "name": "stdout"
        },
        {
          "output_type": "stream",
          "text": [
            "[Parallel(n_jobs=2)]: Using backend ThreadingBackend with 2 concurrent workers.\n",
            "[Parallel(n_jobs=2)]: Done  46 tasks      | elapsed:    0.0s\n",
            "[Parallel(n_jobs=2)]: Done 196 tasks      | elapsed:    0.1s\n",
            "[Parallel(n_jobs=2)]: Done 446 tasks      | elapsed:    0.2s\n",
            "[Parallel(n_jobs=2)]: Done 500 out of 500 | elapsed:    0.2s finished\n"
          ],
          "name": "stderr"
        },
        {
          "output_type": "display_data",
          "data": {
            "image/png": "[encoded data removed]",
            "text/plain": [
              "<Figure size 432x288 with 2 Axes>"
            ]
          },
          "metadata": {
            "tags": [],
            "needs_background": "light"
          }
        },
        {
          "output_type": "stream",
          "text": [
            "\n"
          ],
          "name": "stdout"
        },
        {
          "output_type": "stream",
          "text": [
            "[Parallel(n_jobs=2)]: Using backend ThreadingBackend with 2 concurrent workers.\n",
            "[Parallel(n_jobs=2)]: Done  46 tasks      | elapsed:    0.0s\n",
            "[Parallel(n_jobs=2)]: Done 196 tasks      | elapsed:    0.1s\n",
            "[Parallel(n_jobs=2)]: Done 446 tasks      | elapsed:    0.2s\n",
            "[Parallel(n_jobs=2)]: Done 500 out of 500 | elapsed:    0.2s finished\n"
          ],
          "name": "stderr"
        },
        {
          "output_type": "stream",
          "text": [
            "Testing Set\n",
            "Accuracy: 0.7333333333333333\n",
            "\n",
            "              precision    recall  f1-score   support\n",
            "\n",
            "           0     0.7179    0.8485    0.7778        33\n",
            "           1     0.7619    0.5926    0.6667        27\n",
            "\n",
            "    accuracy                         0.7333        60\n",
            "   macro avg     0.7399    0.7205    0.7222        60\n",
            "weighted avg     0.7377    0.7333    0.7278        60\n",
            "\n"
          ],
          "name": "stdout"
        },
        {
          "output_type": "stream",
          "text": [
            "[Parallel(n_jobs=2)]: Using backend ThreadingBackend with 2 concurrent workers.\n",
            "[Parallel(n_jobs=2)]: Done  46 tasks      | elapsed:    0.0s\n",
            "[Parallel(n_jobs=2)]: Done 196 tasks      | elapsed:    0.1s\n",
            "[Parallel(n_jobs=2)]: Done 446 tasks      | elapsed:    0.2s\n",
            "[Parallel(n_jobs=2)]: Done 500 out of 500 | elapsed:    0.2s finished\n"
          ],
          "name": "stderr"
        },
        {
          "output_type": "display_data",
          "data": {
            "image/png": "[encoded data removed]",
            "text/plain": [
              "<Figure size 432x288 with 2 Axes>"
            ]
          },
          "metadata": {
            "tags": [],
            "needs_background": "light"
          }
        },
        {
          "output_type": "stream",
          "text": [
            "\n"
          ],
          "name": "stdout"
        }
      ]
    },
    {
      "cell_type": "code",
      "metadata": {
        "id": "IBMV_BDTPTqB"
      },
      "source": [
        "grid_search_rf = GridSearchCV(clf_rf, \n",
        "                           param_grid,\n",
        "                           cv=StratifiedKFold(n_splits=5, shuffle=True,\n",
        "                                              random_state=42).split(X_train_keyList, y_train_keyList), \n",
        "                           verbose=2)"
      ],
      "execution_count": 77,
      "outputs": []
    },
    {
      "cell_type": "code",
      "metadata": {
        "id": "vvlS6zGaPT09",
        "colab": {
          "base_uri": "https://localhost:8080/"
        },
        "outputId": "7d18a2cf-f739-4737-8311-0726a93f7709"
      },
      "source": [
        "clf_rf_keyList= grid_search_rf.fit(X_train_keyList, y_train_keyList)"
      ],
      "execution_count": 78,
      "outputs": [
        {
          "output_type": "stream",
          "text": [
            "Fitting 5 folds for each of 1 candidates, totalling 5 fits\n"
          ],
          "name": "stdout"
        },
        {
          "output_type": "stream",
          "text": [
            "[Parallel(n_jobs=1)]: Using backend SequentialBackend with 1 concurrent workers.\n"
          ],
          "name": "stderr"
        },
        {
          "output_type": "stream",
          "text": [
            "[CV]  ................................................................\n"
          ],
          "name": "stdout"
        },
        {
          "output_type": "stream",
          "text": [
            "[Parallel(n_jobs=-1)]: Using backend LokyBackend with 2 concurrent workers.\n",
            "[Parallel(n_jobs=-1)]: Done 500 out of 500 | elapsed:    0.8s finished\n",
            "[Parallel(n_jobs=2)]: Using backend ThreadingBackend with 2 concurrent workers.\n",
            "[Parallel(n_jobs=2)]: Done  46 tasks      | elapsed:    0.0s\n",
            "[Parallel(n_jobs=2)]: Done 196 tasks      | elapsed:    0.1s\n",
            "[Parallel(n_jobs=2)]: Done 446 tasks      | elapsed:    0.1s\n",
            "[Parallel(n_jobs=2)]: Done 500 out of 500 | elapsed:    0.2s finished\n"
          ],
          "name": "stderr"
        },
        {
          "output_type": "stream",
          "text": [
            "[CV] ................................................. , total=   1.3s\n"
          ],
          "name": "stdout"
        },
        {
          "output_type": "stream",
          "text": [
            "[Parallel(n_jobs=1)]: Done   1 out of   1 | elapsed:    1.3s remaining:    0.0s\n"
          ],
          "name": "stderr"
        },
        {
          "output_type": "stream",
          "text": [
            "[CV]  ................................................................\n"
          ],
          "name": "stdout"
        },
        {
          "output_type": "stream",
          "text": [
            "[Parallel(n_jobs=-1)]: Using backend LokyBackend with 2 concurrent workers.\n",
            "[Parallel(n_jobs=-1)]: Done 500 out of 500 | elapsed:    0.8s finished\n",
            "[Parallel(n_jobs=2)]: Using backend ThreadingBackend with 2 concurrent workers.\n",
            "[Parallel(n_jobs=2)]: Done  46 tasks      | elapsed:    0.0s\n",
            "[Parallel(n_jobs=2)]: Done 196 tasks      | elapsed:    0.1s\n",
            "[Parallel(n_jobs=2)]: Done 446 tasks      | elapsed:    0.1s\n",
            "[Parallel(n_jobs=2)]: Done 500 out of 500 | elapsed:    0.2s finished\n"
          ],
          "name": "stderr"
        },
        {
          "output_type": "stream",
          "text": [
            "[CV] ................................................. , total=   1.3s\n",
            "[CV]  ................................................................\n"
          ],
          "name": "stdout"
        },
        {
          "output_type": "stream",
          "text": [
            "[Parallel(n_jobs=-1)]: Using backend LokyBackend with 2 concurrent workers.\n",
            "[Parallel(n_jobs=-1)]: Done 500 out of 500 | elapsed:    0.8s finished\n",
            "[Parallel(n_jobs=2)]: Using backend ThreadingBackend with 2 concurrent workers.\n",
            "[Parallel(n_jobs=2)]: Done  46 tasks      | elapsed:    0.0s\n",
            "[Parallel(n_jobs=2)]: Done 196 tasks      | elapsed:    0.1s\n",
            "[Parallel(n_jobs=2)]: Done 446 tasks      | elapsed:    0.1s\n",
            "[Parallel(n_jobs=2)]: Done 500 out of 500 | elapsed:    0.2s finished\n"
          ],
          "name": "stderr"
        },
        {
          "output_type": "stream",
          "text": [
            "[CV] ................................................. , total=   1.3s\n",
            "[CV]  ................................................................\n"
          ],
          "name": "stdout"
        },
        {
          "output_type": "stream",
          "text": [
            "[Parallel(n_jobs=-1)]: Using backend LokyBackend with 2 concurrent workers.\n",
            "[Parallel(n_jobs=-1)]: Done 500 out of 500 | elapsed:    0.8s finished\n",
            "[Parallel(n_jobs=2)]: Using backend ThreadingBackend with 2 concurrent workers.\n",
            "[Parallel(n_jobs=2)]: Done  46 tasks      | elapsed:    0.0s\n",
            "[Parallel(n_jobs=2)]: Done 196 tasks      | elapsed:    0.1s\n",
            "[Parallel(n_jobs=2)]: Done 446 tasks      | elapsed:    0.1s\n",
            "[Parallel(n_jobs=2)]: Done 500 out of 500 | elapsed:    0.2s finished\n"
          ],
          "name": "stderr"
        },
        {
          "output_type": "stream",
          "text": [
            "[CV] ................................................. , total=   1.3s\n",
            "[CV]  ................................................................\n"
          ],
          "name": "stdout"
        },
        {
          "output_type": "stream",
          "text": [
            "[Parallel(n_jobs=-1)]: Using backend LokyBackend with 2 concurrent workers.\n",
            "[Parallel(n_jobs=-1)]: Done 500 out of 500 | elapsed:    0.8s finished\n",
            "[Parallel(n_jobs=2)]: Using backend ThreadingBackend with 2 concurrent workers.\n",
            "[Parallel(n_jobs=2)]: Done  46 tasks      | elapsed:    0.0s\n",
            "[Parallel(n_jobs=2)]: Done 196 tasks      | elapsed:    0.1s\n",
            "[Parallel(n_jobs=2)]: Done 446 tasks      | elapsed:    0.1s\n",
            "[Parallel(n_jobs=2)]: Done 500 out of 500 | elapsed:    0.2s finished\n"
          ],
          "name": "stderr"
        },
        {
          "output_type": "stream",
          "text": [
            "[CV] ................................................. , total=   1.3s\n"
          ],
          "name": "stdout"
        },
        {
          "output_type": "stream",
          "text": [
            "[Parallel(n_jobs=1)]: Done   5 out of   5 | elapsed:    6.4s finished\n",
            "[Parallel(n_jobs=-1)]: Using backend ThreadingBackend with 2 concurrent workers.\n",
            "[Parallel(n_jobs=-1)]: Done  46 tasks      | elapsed:    0.1s\n",
            "[Parallel(n_jobs=-1)]: Done 196 tasks      | elapsed:    0.4s\n",
            "[Parallel(n_jobs=-1)]: Done 446 tasks      | elapsed:    0.9s\n",
            "[Parallel(n_jobs=-1)]: Done 500 out of 500 | elapsed:    1.0s finished\n"
          ],
          "name": "stderr"
        }
      ]
    },
    {
      "cell_type": "code",
      "metadata": {
        "id": "QdC1f63jPUBg",
        "colab": {
          "base_uri": "https://localhost:8080/",
          "height": 1000
        },
        "outputId": "b83d2100-7e14-4b58-d71f-d3e14e5f966c"
      },
      "source": [
        "evaluate_model_keyList(clf_rf_keyList, model_name=\"clf_rf_keyList\")"
      ],
      "execution_count": 79,
      "outputs": [
        {
          "output_type": "stream",
          "text": [
            "[Parallel(n_jobs=2)]: Using backend ThreadingBackend with 2 concurrent workers.\n",
            "[Parallel(n_jobs=2)]: Done  46 tasks      | elapsed:    0.0s\n",
            "[Parallel(n_jobs=2)]: Done 196 tasks      | elapsed:    0.1s\n",
            "[Parallel(n_jobs=2)]: Done 446 tasks      | elapsed:    0.2s\n",
            "[Parallel(n_jobs=2)]: Done 500 out of 500 | elapsed:    0.2s finished\n"
          ],
          "name": "stderr"
        },
        {
          "output_type": "stream",
          "text": [
            "Training Set\n",
            "Accuracy: 0.7214285714285714\n",
            "\n",
            "              precision    recall  f1-score   support\n",
            "\n",
            "           0     0.6795    0.7910    0.7310        67\n",
            "           1     0.7742    0.6575    0.7111        73\n",
            "\n",
            "    accuracy                         0.7214       140\n",
            "   macro avg     0.7268    0.7243    0.7211       140\n",
            "weighted avg     0.7289    0.7214    0.7206       140\n",
            "\n"
          ],
          "name": "stdout"
        },
        {
          "output_type": "stream",
          "text": [
            "[Parallel(n_jobs=2)]: Using backend ThreadingBackend with 2 concurrent workers.\n",
            "[Parallel(n_jobs=2)]: Done  46 tasks      | elapsed:    0.0s\n",
            "[Parallel(n_jobs=2)]: Done 196 tasks      | elapsed:    0.1s\n",
            "[Parallel(n_jobs=2)]: Done 446 tasks      | elapsed:    0.2s\n",
            "[Parallel(n_jobs=2)]: Done 500 out of 500 | elapsed:    0.2s finished\n"
          ],
          "name": "stderr"
        },
        {
          "output_type": "display_data",
          "data": {
            "image/png": "[encoded data removed]",
            "text/plain": [
              "<Figure size 432x288 with 2 Axes>"
            ]
          },
          "metadata": {
            "tags": [],
            "needs_background": "light"
          }
        },
        {
          "output_type": "stream",
          "text": [
            "\n"
          ],
          "name": "stdout"
        },
        {
          "output_type": "stream",
          "text": [
            "[Parallel(n_jobs=2)]: Using backend ThreadingBackend with 2 concurrent workers.\n",
            "[Parallel(n_jobs=2)]: Done  46 tasks      | elapsed:    0.0s\n",
            "[Parallel(n_jobs=2)]: Done 196 tasks      | elapsed:    0.1s\n",
            "[Parallel(n_jobs=2)]: Done 446 tasks      | elapsed:    0.1s\n",
            "[Parallel(n_jobs=2)]: Done 500 out of 500 | elapsed:    0.2s finished\n"
          ],
          "name": "stderr"
        },
        {
          "output_type": "stream",
          "text": [
            "Testing Set\n",
            "Accuracy: 0.7\n",
            "\n",
            "              precision    recall  f1-score   support\n",
            "\n",
            "           0     0.7143    0.7576    0.7353        33\n",
            "           1     0.6800    0.6296    0.6538        27\n",
            "\n",
            "    accuracy                         0.7000        60\n",
            "   macro avg     0.6971    0.6936    0.6946        60\n",
            "weighted avg     0.6989    0.7000    0.6986        60\n",
            "\n"
          ],
          "name": "stdout"
        },
        {
          "output_type": "stream",
          "text": [
            "[Parallel(n_jobs=2)]: Using backend ThreadingBackend with 2 concurrent workers.\n",
            "[Parallel(n_jobs=2)]: Done  46 tasks      | elapsed:    0.0s\n",
            "[Parallel(n_jobs=2)]: Done 196 tasks      | elapsed:    0.1s\n",
            "[Parallel(n_jobs=2)]: Done 446 tasks      | elapsed:    0.1s\n",
            "[Parallel(n_jobs=2)]: Done 500 out of 500 | elapsed:    0.2s finished\n"
          ],
          "name": "stderr"
        },
        {
          "output_type": "display_data",
          "data": {
            "image/png": "[encoded data removed]",
            "text/plain": [
              "<Figure size 432x288 with 2 Axes>"
            ]
          },
          "metadata": {
            "tags": [],
            "needs_background": "light"
          }
        },
        {
          "output_type": "stream",
          "text": [
            "\n"
          ],
          "name": "stdout"
        }
      ]
    },
    {
      "cell_type": "code",
      "metadata": {
        "id": "ie9EHRVp6aGv"
      },
      "source": [
        "del clf_rf"
      ],
      "execution_count": 80,
      "outputs": []
    },
    {
      "cell_type": "markdown",
      "metadata": {
        "id": "Rr8Kiu8w4zht"
      },
      "source": [
        "### **4.4 SGDClassifier**"
      ]
    },
    {
      "cell_type": "code",
      "metadata": {
        "id": "WEdjr7LmyUAS"
      },
      "source": [
        "clf_sgd = make_pipeline(StandardScaler(with_mean=False),\n",
        "                        SGDClassifier(loss='hinge',\n",
        "                                      penalty='l2',\n",
        "                                      alpha=30,\n",
        "                                      max_iter=1000, \n",
        "                                      tol=1e-3,\n",
        "                                      shuffle=True,\n",
        "                                      verbose=1,\n",
        "                                      n_jobs=-1,\n",
        "                                      random_state=0,\n",
        "                                      learning_rate='optimal',\n",
        "                                      early_stopping=True,\n",
        "                                      class_weight='balanced'))\n",
        "\n"
      ],
      "execution_count": 81,
      "outputs": []
    },
    {
      "cell_type": "code",
      "metadata": {
        "id": "UO95MUN5yXFP"
      },
      "source": [
        "grid_search_sgd = GridSearchCV(clf_sgd, \n",
        "                           param_grid,\n",
        "                           cv=StratifiedKFold(n_splits=5, shuffle=True,\n",
        "                                              random_state=42).split(X_train_word, y_train_word), \n",
        "                           verbose=2)"
      ],
      "execution_count": 82,
      "outputs": []
    },
    {
      "cell_type": "code",
      "metadata": {
        "id": "rCaLXVnw_C-i",
        "colab": {
          "base_uri": "https://localhost:8080/"
        },
        "outputId": "1fa4e44c-c25b-4df7-b6b4-6de17ea266e9"
      },
      "source": [
        "clf_sgd_word = grid_search_sgd.fit(X_train_word, y_train_word)"
      ],
      "execution_count": 83,
      "outputs": [
        {
          "output_type": "stream",
          "text": [
            "Fitting 5 folds for each of 1 candidates, totalling 5 fits\n"
          ],
          "name": "stdout"
        },
        {
          "output_type": "stream",
          "text": [
            "[Parallel(n_jobs=1)]: Using backend SequentialBackend with 1 concurrent workers.\n"
          ],
          "name": "stderr"
        },
        {
          "output_type": "stream",
          "text": [
            "[CV]  ................................................................\n",
            "-- Epoch 1\n",
            "Norm: 0.30, NNZs: 11021, Bias: 0.394678, T: 100, Avg. loss: 1.489562\n",
            "Total training time: 0.02 seconds.\n",
            "-- Epoch 2\n",
            "Norm: 0.19, NNZs: 11259, Bias: 0.393487, T: 200, Avg. loss: 0.248516\n",
            "Total training time: 0.33 seconds.\n",
            "-- Epoch 3\n",
            "Norm: 0.14, NNZs: 11274, Bias: 0.393388, T: 300, Avg. loss: 0.035225\n",
            "Total training time: 0.36 seconds.\n",
            "-- Epoch 4\n",
            "Norm: 0.13, NNZs: 11274, Bias: 0.393171, T: 400, Avg. loss: 0.041554\n",
            "Total training time: 0.39 seconds.\n",
            "-- Epoch 5\n",
            "Norm: 0.13, NNZs: 11273, Bias: 0.393330, T: 500, Avg. loss: 0.064625\n",
            "Total training time: 0.42 seconds.\n",
            "-- Epoch 6\n",
            "Norm: 0.12, NNZs: 11274, Bias: 0.392998, T: 600, Avg. loss: 0.043838\n",
            "Total training time: 0.45 seconds.\n",
            "-- Epoch 7\n",
            "Norm: 0.12, NNZs: 11274, Bias: 0.392802, T: 700, Avg. loss: 0.029259\n",
            "Total training time: 0.48 seconds.\n",
            "Convergence after 7 epochs took 0.49 seconds\n",
            "[CV] ................................................. , total=   0.6s\n"
          ],
          "name": "stdout"
        },
        {
          "output_type": "stream",
          "text": [
            "[Parallel(n_jobs=1)]: Done   1 out of   1 | elapsed:    0.6s remaining:    0.0s\n"
          ],
          "name": "stderr"
        },
        {
          "output_type": "stream",
          "text": [
            "[CV]  ................................................................\n",
            "-- Epoch 1\n",
            "Norm: 0.30, NNZs: 10977, Bias: 0.406276, T: 100, Avg. loss: 1.100123\n",
            "Total training time: 0.02 seconds.\n",
            "-- Epoch 2\n",
            "Norm: 0.18, NNZs: 11255, Bias: 0.406406, T: 200, Avg. loss: 0.285553\n",
            "Total training time: 0.04 seconds.\n",
            "-- Epoch 3\n",
            "Norm: 0.13, NNZs: 11268, Bias: 0.405860, T: 300, Avg. loss: 0.032402\n",
            "Total training time: 0.06 seconds.\n",
            "-- Epoch 4\n",
            "Norm: 0.13, NNZs: 11268, Bias: 0.405806, T: 400, Avg. loss: 0.055674\n",
            "Total training time: 0.07 seconds.\n",
            "-- Epoch 5\n",
            "Norm: 0.13, NNZs: 11268, Bias: 0.405723, T: 500, Avg. loss: 0.068602\n",
            "Total training time: 0.09 seconds.\n",
            "-- Epoch 6\n",
            "Norm: 0.12, NNZs: 11268, Bias: 0.405657, T: 600, Avg. loss: 0.044701\n",
            "Total training time: 0.10 seconds.\n",
            "-- Epoch 7\n",
            "Norm: 0.12, NNZs: 11268, Bias: 0.405411, T: 700, Avg. loss: 0.034748\n",
            "Total training time: 0.12 seconds.\n",
            "Convergence after 7 epochs took 0.13 seconds\n",
            "[CV] ................................................. , total=   0.3s\n",
            "[CV]  ................................................................\n",
            "-- Epoch 1\n",
            "Norm: 0.30, NNZs: 10971, Bias: 0.379966, T: 100, Avg. loss: 1.414108\n",
            "Total training time: 0.02 seconds.\n",
            "-- Epoch 2\n",
            "Norm: 0.18, NNZs: 11246, Bias: 0.380044, T: 200, Avg. loss: 0.272859\n",
            "Total training time: 0.05 seconds.\n",
            "-- Epoch 3\n",
            "Norm: 0.13, NNZs: 11257, Bias: 0.379821, T: 300, Avg. loss: 0.031949\n",
            "Total training time: 0.08 seconds.\n",
            "-- Epoch 4\n",
            "Norm: 0.13, NNZs: 11257, Bias: 0.379213, T: 400, Avg. loss: 0.060156\n",
            "Total training time: 0.10 seconds.\n",
            "-- Epoch 5\n",
            "Norm: 0.13, NNZs: 11257, Bias: 0.379365, T: 500, Avg. loss: 0.063752\n",
            "Total training time: 0.12 seconds.\n",
            "-- Epoch 6\n",
            "Norm: 0.12, NNZs: 11257, Bias: 0.379125, T: 600, Avg. loss: 0.034128\n",
            "Total training time: 0.15 seconds.\n",
            "-- Epoch 7\n",
            "Norm: 0.12, NNZs: 11257, Bias: 0.378973, T: 700, Avg. loss: 0.031841\n",
            "Total training time: 0.18 seconds.\n",
            "-- Epoch 8\n",
            "Norm: 0.11, NNZs: 11257, Bias: 0.378982, T: 800, Avg. loss: 0.025703\n",
            "Total training time: 0.20 seconds.\n",
            "Convergence after 8 epochs took 0.21 seconds\n",
            "[CV] ................................................. , total=   0.4s\n",
            "[CV]  ................................................................\n",
            "-- Epoch 1\n",
            "Norm: 0.31, NNZs: 11071, Bias: -0.426470, T: 100, Avg. loss: 8.340307\n",
            "Total training time: 0.02 seconds.\n",
            "-- Epoch 2\n",
            "Norm: 0.18, NNZs: 11262, Bias: -0.426060, T: 200, Avg. loss: 0.233224\n",
            "Total training time: 0.04 seconds.\n",
            "-- Epoch 3\n",
            "Norm: 0.14, NNZs: 11270, Bias: -0.425651, T: 300, Avg. loss: 0.019185\n",
            "Total training time: 0.06 seconds.\n",
            "-- Epoch 4\n",
            "Norm: 0.13, NNZs: 11270, Bias: -0.425724, T: 400, Avg. loss: 0.056826\n",
            "Total training time: 0.07 seconds.\n",
            "-- Epoch 5\n",
            "Norm: 0.13, NNZs: 11270, Bias: -0.425683, T: 500, Avg. loss: 0.038638\n",
            "Total training time: 0.09 seconds.\n",
            "-- Epoch 6\n",
            "Norm: 0.12, NNZs: 11270, Bias: -0.425457, T: 600, Avg. loss: 0.046181\n",
            "Total training time: 0.10 seconds.\n",
            "Convergence after 6 epochs took 0.11 seconds\n",
            "[CV] ................................................. , total=   0.3s\n",
            "[CV]  ................................................................\n",
            "-- Epoch 1\n",
            "Norm: 0.30, NNZs: 10961, Bias: -0.428437, T: 100, Avg. loss: 6.100394\n",
            "Total training time: 0.02 seconds.\n",
            "-- Epoch 2\n",
            "Norm: 0.18, NNZs: 11247, Bias: -0.427356, T: 200, Avg. loss: 0.255426\n",
            "Total training time: 0.05 seconds.\n",
            "-- Epoch 3\n",
            "Norm: 0.13, NNZs: 11259, Bias: -0.427717, T: 300, Avg. loss: 0.042253\n",
            "Total training time: 0.07 seconds.\n",
            "-- Epoch 4\n",
            "Norm: 0.13, NNZs: 11259, Bias: -0.427731, T: 400, Avg. loss: 0.050261\n",
            "Total training time: 0.10 seconds.\n",
            "-- Epoch 5\n",
            "Norm: 0.13, NNZs: 11259, Bias: -0.427569, T: 500, Avg. loss: 0.054105\n",
            "Total training time: 0.12 seconds.\n",
            "-- Epoch 6\n",
            "Norm: 0.12, NNZs: 11259, Bias: -0.427618, T: 600, Avg. loss: 0.041742\n",
            "Total training time: 0.16 seconds.\n",
            "Convergence after 6 epochs took 0.17 seconds\n",
            "[CV] ................................................. , total=   0.4s\n"
          ],
          "name": "stdout"
        },
        {
          "output_type": "stream",
          "text": [
            "[Parallel(n_jobs=1)]: Done   5 out of   5 | elapsed:    2.0s finished\n"
          ],
          "name": "stderr"
        },
        {
          "output_type": "stream",
          "text": [
            "-- Epoch 1\n",
            "Norm: 0.27, NNZs: 11211, Bias: 0.391480, T: 126, Avg. loss: 1.246708\n",
            "Total training time: 0.02 seconds.\n",
            "-- Epoch 2\n",
            "Norm: 0.17, NNZs: 11331, Bias: 0.391790, T: 252, Avg. loss: 0.233613\n",
            "Total training time: 0.05 seconds.\n",
            "-- Epoch 3\n",
            "Norm: 0.14, NNZs: 11332, Bias: 0.391407, T: 378, Avg. loss: 0.053133\n",
            "Total training time: 0.08 seconds.\n",
            "-- Epoch 4\n",
            "Norm: 0.14, NNZs: 11332, Bias: 0.391369, T: 504, Avg. loss: 0.084322\n",
            "Total training time: 0.13 seconds.\n",
            "-- Epoch 5\n",
            "Norm: 0.13, NNZs: 11332, Bias: 0.391058, T: 630, Avg. loss: 0.053260\n",
            "Total training time: 0.15 seconds.\n",
            "-- Epoch 6\n",
            "Norm: 0.12, NNZs: 11332, Bias: 0.391126, T: 756, Avg. loss: 0.046054\n",
            "Total training time: 0.17 seconds.\n",
            "Convergence after 6 epochs took 0.18 seconds\n"
          ],
          "name": "stdout"
        }
      ]
    },
    {
      "cell_type": "code",
      "metadata": {
        "id": "71okRdfS560s",
        "colab": {
          "base_uri": "https://localhost:8080/",
          "height": 974
        },
        "outputId": "45537e01-698a-4acf-f827-4efa7d82b20c"
      },
      "source": [
        "evaluate_model_ngrammWord(clf_sgd_word, model_name=\"clf_sgd_word\")"
      ],
      "execution_count": 84,
      "outputs": [
        {
          "output_type": "stream",
          "text": [
            "Training Set\n",
            "Accuracy: 0.9428571428571428\n",
            "\n",
            "              precision    recall  f1-score   support\n",
            "\n",
            "           0     0.9683    0.9104    0.9385        67\n",
            "           1     0.9221    0.9726    0.9467        73\n",
            "\n",
            "    accuracy                         0.9429       140\n",
            "   macro avg     0.9452    0.9415    0.9426       140\n",
            "weighted avg     0.9442    0.9429    0.9427       140\n",
            "\n"
          ],
          "name": "stdout"
        },
        {
          "output_type": "display_data",
          "data": {
            "image/png": "[encoded data removed]",
            "text/plain": [
              "<Figure size 432x288 with 2 Axes>"
            ]
          },
          "metadata": {
            "tags": [],
            "needs_background": "light"
          }
        },
        {
          "output_type": "stream",
          "text": [
            "\n",
            "Testing Set\n",
            "Accuracy: 0.6333333333333333\n",
            "\n",
            "              precision    recall  f1-score   support\n",
            "\n",
            "           0     0.7200    0.5455    0.6207        33\n",
            "           1     0.5714    0.7407    0.6452        27\n",
            "\n",
            "    accuracy                         0.6333        60\n",
            "   macro avg     0.6457    0.6431    0.6329        60\n",
            "weighted avg     0.6531    0.6333    0.6317        60\n",
            "\n"
          ],
          "name": "stdout"
        },
        {
          "output_type": "display_data",
          "data": {
            "image/png": "[encoded data removed]",
            "text/plain": [
              "<Figure size 432x288 with 2 Axes>"
            ]
          },
          "metadata": {
            "tags": [],
            "needs_background": "light"
          }
        },
        {
          "output_type": "stream",
          "text": [
            "\n"
          ],
          "name": "stdout"
        }
      ]
    },
    {
      "cell_type": "code",
      "metadata": {
        "id": "1_K03RM4RPhn"
      },
      "source": [
        "grid_search_sgd = GridSearchCV(clf_sgd, \n",
        "                           param_grid,\n",
        "                           cv=StratifiedKFold(n_splits=5, shuffle=True,\n",
        "                                              random_state=42).split(X_train_char, y_train_char), \n",
        "                           verbose=2)"
      ],
      "execution_count": 85,
      "outputs": []
    },
    {
      "cell_type": "code",
      "metadata": {
        "id": "UMjIlH0JRPuM",
        "colab": {
          "base_uri": "https://localhost:8080/"
        },
        "outputId": "92454c47-99fe-4de9-8e8e-6ef652fc893b"
      },
      "source": [
        "clf_sgd_char = grid_search_sgd.fit(X_train_char, y_train_char)"
      ],
      "execution_count": 86,
      "outputs": [
        {
          "output_type": "stream",
          "text": [
            "Fitting 5 folds for each of 1 candidates, totalling 5 fits\n"
          ],
          "name": "stdout"
        },
        {
          "output_type": "stream",
          "text": [
            "[Parallel(n_jobs=1)]: Using backend SequentialBackend with 1 concurrent workers.\n"
          ],
          "name": "stderr"
        },
        {
          "output_type": "stream",
          "text": [
            "[CV]  ................................................................\n",
            "-- Epoch 1\n",
            "Norm: 0.30, NNZs: 14521, Bias: 0.396480, T: 100, Avg. loss: 3.510345\n",
            "Total training time: 0.02 seconds.\n",
            "-- Epoch 2\n",
            "Norm: 0.20, NNZs: 14690, Bias: 0.395669, T: 200, Avg. loss: 0.499618\n",
            "Total training time: 0.05 seconds.\n",
            "-- Epoch 3\n",
            "Norm: 0.16, NNZs: 14709, Bias: 0.395640, T: 300, Avg. loss: 0.121349\n",
            "Total training time: 0.08 seconds.\n",
            "-- Epoch 4\n",
            "Norm: 0.15, NNZs: 14716, Bias: 0.395649, T: 400, Avg. loss: 0.098359\n",
            "Total training time: 0.11 seconds.\n",
            "-- Epoch 5\n",
            "Norm: 0.13, NNZs: 14716, Bias: 0.395694, T: 500, Avg. loss: 0.029629\n",
            "Total training time: 0.13 seconds.\n",
            "-- Epoch 6\n",
            "Norm: 0.12, NNZs: 14716, Bias: 0.395640, T: 600, Avg. loss: 0.057681\n",
            "Total training time: 0.16 seconds.\n",
            "-- Epoch 7\n",
            "Norm: 0.12, NNZs: 14716, Bias: 0.395490, T: 700, Avg. loss: 0.049243\n",
            "Total training time: 0.19 seconds.\n",
            "Convergence after 7 epochs took 0.19 seconds\n",
            "[CV] ................................................. , total=   0.4s\n"
          ],
          "name": "stdout"
        },
        {
          "output_type": "stream",
          "text": [
            "[Parallel(n_jobs=1)]: Done   1 out of   1 | elapsed:    0.4s remaining:    0.0s\n"
          ],
          "name": "stderr"
        },
        {
          "output_type": "stream",
          "text": [
            "[CV]  ................................................................\n",
            "-- Epoch 1\n",
            "Norm: 0.30, NNZs: 14510, Bias: 0.407404, T: 100, Avg. loss: 2.189178\n",
            "Total training time: 0.02 seconds.\n",
            "-- Epoch 2\n",
            "Norm: 0.20, NNZs: 14677, Bias: 0.407791, T: 200, Avg. loss: 0.386586\n",
            "Total training time: 0.05 seconds.\n",
            "-- Epoch 3\n",
            "Norm: 0.16, NNZs: 14708, Bias: 0.407430, T: 300, Avg. loss: 0.163877\n",
            "Total training time: 0.08 seconds.\n",
            "-- Epoch 4\n",
            "Norm: 0.14, NNZs: 14712, Bias: 0.407473, T: 400, Avg. loss: 0.113523\n",
            "Total training time: 0.09 seconds.\n",
            "-- Epoch 5\n",
            "Norm: 0.13, NNZs: 14712, Bias: 0.407543, T: 500, Avg. loss: 0.073381\n",
            "Total training time: 0.11 seconds.\n",
            "-- Epoch 6\n",
            "Norm: 0.12, NNZs: 14713, Bias: 0.407498, T: 600, Avg. loss: 0.039420\n",
            "Total training time: 0.12 seconds.\n",
            "-- Epoch 7\n",
            "Norm: 0.12, NNZs: 14714, Bias: 0.407405, T: 700, Avg. loss: 0.048815\n",
            "Total training time: 0.14 seconds.\n",
            "-- Epoch 8\n",
            "Norm: 0.11, NNZs: 14714, Bias: 0.407427, T: 800, Avg. loss: 0.017800\n",
            "Total training time: 0.16 seconds.\n",
            "Convergence after 8 epochs took 0.17 seconds\n",
            "[CV] ................................................. , total=   0.3s\n",
            "[CV]  ................................................................\n",
            "-- Epoch 1\n",
            "Norm: 0.29, NNZs: 14544, Bias: 0.386882, T: 100, Avg. loss: 3.993093\n",
            "Total training time: 0.02 seconds.\n",
            "-- Epoch 2\n",
            "Norm: 0.20, NNZs: 14702, Bias: 0.386848, T: 200, Avg. loss: 0.476481\n",
            "Total training time: 0.04 seconds.\n",
            "-- Epoch 3\n",
            "Norm: 0.15, NNZs: 14715, Bias: 0.387163, T: 300, Avg. loss: 0.133617\n",
            "Total training time: 0.07 seconds.\n",
            "-- Epoch 4\n",
            "Norm: 0.14, NNZs: 14718, Bias: 0.387142, T: 400, Avg. loss: 0.078835\n",
            "Total training time: 0.10 seconds.\n",
            "-- Epoch 5\n",
            "Norm: 0.13, NNZs: 14718, Bias: 0.386993, T: 500, Avg. loss: 0.050047\n",
            "Total training time: 0.12 seconds.\n",
            "-- Epoch 6\n",
            "Norm: 0.12, NNZs: 14718, Bias: 0.386893, T: 600, Avg. loss: 0.042452\n",
            "Total training time: 0.15 seconds.\n",
            "-- Epoch 7\n",
            "Norm: 0.11, NNZs: 14718, Bias: 0.386863, T: 700, Avg. loss: 0.034083\n",
            "Total training time: 0.18 seconds.\n",
            "Convergence after 7 epochs took 0.20 seconds\n",
            "[CV] ................................................. , total=   0.4s\n",
            "[CV]  ................................................................\n",
            "-- Epoch 1\n",
            "Norm: 0.31, NNZs: 14590, Bias: -0.417664, T: 100, Avg. loss: 34.892807\n",
            "Total training time: 0.02 seconds.\n",
            "-- Epoch 2\n",
            "Norm: 0.20, NNZs: 14699, Bias: -0.417203, T: 200, Avg. loss: 0.477528\n",
            "Total training time: 0.07 seconds.\n",
            "-- Epoch 3\n",
            "Norm: 0.16, NNZs: 14710, Bias: -0.417093, T: 300, Avg. loss: 0.086118\n",
            "Total training time: 0.09 seconds.\n",
            "-- Epoch 4\n",
            "Norm: 0.14, NNZs: 14711, Bias: -0.417338, T: 400, Avg. loss: 0.108129\n",
            "Total training time: 0.11 seconds.\n",
            "-- Epoch 5\n",
            "Norm: 0.13, NNZs: 14712, Bias: -0.417281, T: 500, Avg. loss: 0.067147\n",
            "Total training time: 0.14 seconds.\n",
            "-- Epoch 6\n",
            "Norm: 0.12, NNZs: 14712, Bias: -0.417164, T: 600, Avg. loss: 0.049823\n",
            "Total training time: 0.16 seconds.\n",
            "Convergence after 6 epochs took 0.17 seconds\n",
            "[CV] ................................................. , total=   0.3s\n",
            "[CV]  ................................................................\n",
            "-- Epoch 1\n",
            "Norm: 0.30, NNZs: 14586, Bias: -0.423981, T: 100, Avg. loss: 26.209305\n",
            "Total training time: 0.02 seconds.\n",
            "-- Epoch 2\n",
            "Norm: 0.21, NNZs: 14700, Bias: -0.423562, T: 200, Avg. loss: 0.409001\n",
            "Total training time: 0.05 seconds.\n",
            "-- Epoch 3\n",
            "Norm: 0.17, NNZs: 14706, Bias: -0.423543, T: 300, Avg. loss: 0.124469\n",
            "Total training time: 0.08 seconds.\n",
            "-- Epoch 4\n",
            "Norm: 0.14, NNZs: 14710, Bias: -0.423667, T: 400, Avg. loss: 0.067904\n",
            "Total training time: 0.11 seconds.\n",
            "-- Epoch 5\n",
            "Norm: 0.13, NNZs: 14710, Bias: -0.423618, T: 500, Avg. loss: 0.060017\n",
            "Total training time: 0.14 seconds.\n",
            "-- Epoch 6\n",
            "Norm: 0.12, NNZs: 14710, Bias: -0.423626, T: 600, Avg. loss: 0.045520\n",
            "Total training time: 0.18 seconds.\n",
            "-- Epoch 7\n",
            "Norm: 0.12, NNZs: 14710, Bias: -0.423560, T: 700, Avg. loss: 0.050249\n",
            "Total training time: 0.21 seconds.\n",
            "Convergence after 7 epochs took 0.22 seconds\n",
            "[CV] ................................................. , total=   0.4s\n"
          ],
          "name": "stdout"
        },
        {
          "output_type": "stream",
          "text": [
            "[Parallel(n_jobs=1)]: Done   5 out of   5 | elapsed:    1.9s finished\n"
          ],
          "name": "stderr"
        },
        {
          "output_type": "stream",
          "text": [
            "-- Epoch 1\n",
            "Norm: 0.27, NNZs: 14673, Bias: 0.393071, T: 126, Avg. loss: 2.807795\n",
            "Total training time: 0.02 seconds.\n",
            "-- Epoch 2\n",
            "Norm: 0.19, NNZs: 14728, Bias: 0.393419, T: 252, Avg. loss: 0.411285\n",
            "Total training time: 0.05 seconds.\n",
            "-- Epoch 3\n",
            "Norm: 0.16, NNZs: 14729, Bias: 0.393365, T: 378, Avg. loss: 0.146996\n",
            "Total training time: 0.08 seconds.\n",
            "-- Epoch 4\n",
            "Norm: 0.14, NNZs: 14729, Bias: 0.393407, T: 504, Avg. loss: 0.086335\n",
            "Total training time: 0.11 seconds.\n",
            "-- Epoch 5\n",
            "Norm: 0.13, NNZs: 14730, Bias: 0.393387, T: 630, Avg. loss: 0.062842\n",
            "Total training time: 0.14 seconds.\n",
            "-- Epoch 6\n",
            "Norm: 0.12, NNZs: 14730, Bias: 0.393405, T: 756, Avg. loss: 0.063759\n",
            "Total training time: 0.16 seconds.\n",
            "Convergence after 6 epochs took 0.17 seconds\n"
          ],
          "name": "stdout"
        }
      ]
    },
    {
      "cell_type": "code",
      "metadata": {
        "id": "XF8ue0e5RP6V",
        "colab": {
          "base_uri": "https://localhost:8080/",
          "height": 974
        },
        "outputId": "84909fd5-a98a-47a5-c857-9289fce3888f"
      },
      "source": [
        "evaluate_model_ngrammChar(clf_sgd_char, model_name=\"clf_sgd_char\")"
      ],
      "execution_count": 87,
      "outputs": [
        {
          "output_type": "stream",
          "text": [
            "Training Set\n",
            "Accuracy: 0.95\n",
            "\n",
            "              precision    recall  f1-score   support\n",
            "\n",
            "           0     0.9688    0.9254    0.9466        67\n",
            "           1     0.9342    0.9726    0.9530        73\n",
            "\n",
            "    accuracy                         0.9500       140\n",
            "   macro avg     0.9515    0.9490    0.9498       140\n",
            "weighted avg     0.9507    0.9500    0.9499       140\n",
            "\n"
          ],
          "name": "stdout"
        },
        {
          "output_type": "display_data",
          "data": {
            "image/png": "[encoded data removed]",
            "text/plain": [
              "<Figure size 432x288 with 2 Axes>"
            ]
          },
          "metadata": {
            "tags": [],
            "needs_background": "light"
          }
        },
        {
          "output_type": "stream",
          "text": [
            "\n",
            "Testing Set\n",
            "Accuracy: 0.6666666666666666\n",
            "\n",
            "              precision    recall  f1-score   support\n",
            "\n",
            "           0     0.8421    0.4848    0.6154        33\n",
            "           1     0.5854    0.8889    0.7059        27\n",
            "\n",
            "    accuracy                         0.6667        60\n",
            "   macro avg     0.7137    0.6869    0.6606        60\n",
            "weighted avg     0.7266    0.6667    0.6561        60\n",
            "\n"
          ],
          "name": "stdout"
        },
        {
          "output_type": "display_data",
          "data": {
            "image/png": "[encoded data removed]",
            "text/plain": [
              "<Figure size 432x288 with 2 Axes>"
            ]
          },
          "metadata": {
            "tags": [],
            "needs_background": "light"
          }
        },
        {
          "output_type": "stream",
          "text": [
            "\n"
          ],
          "name": "stdout"
        }
      ]
    },
    {
      "cell_type": "code",
      "metadata": {
        "id": "YwUc8B7YRQFB"
      },
      "source": [
        "grid_search_sgd = GridSearchCV(clf_sgd, \n",
        "                           param_grid,\n",
        "                           cv=StratifiedKFold(n_splits=5, shuffle=True,\n",
        "                                              random_state=42).split(X_train_keyList, y_train_keyList), \n",
        "                           verbose=2)"
      ],
      "execution_count": 88,
      "outputs": []
    },
    {
      "cell_type": "code",
      "metadata": {
        "id": "vAtMCeMIRQRC",
        "colab": {
          "base_uri": "https://localhost:8080/"
        },
        "outputId": "cbb4e015-2019-475f-9751-438c70230b95"
      },
      "source": [
        "clf_sgd_keyList = grid_search_sgd.fit(X_train_keyList, y_train_keyList)"
      ],
      "execution_count": 89,
      "outputs": [
        {
          "output_type": "stream",
          "text": [
            "Fitting 5 folds for each of 1 candidates, totalling 5 fits\n"
          ],
          "name": "stdout"
        },
        {
          "output_type": "stream",
          "text": [
            "[Parallel(n_jobs=1)]: Using backend SequentialBackend with 1 concurrent workers.\n"
          ],
          "name": "stderr"
        },
        {
          "output_type": "stream",
          "text": [
            "[CV]  ................................................................\n",
            "-- Epoch 1\n",
            "Norm: 0.02, NNZs: 5, Bias: 0.384593, T: 100, Avg. loss: 0.882770\n",
            "Total training time: 0.01 seconds.\n",
            "-- Epoch 2\n",
            "Norm: 0.02, NNZs: 5, Bias: 0.385277, T: 200, Avg. loss: 0.867571\n",
            "Total training time: 0.02 seconds.\n",
            "-- Epoch 3\n",
            "Norm: 0.02, NNZs: 5, Bias: 0.385449, T: 300, Avg. loss: 0.868199\n",
            "Total training time: 0.04 seconds.\n",
            "-- Epoch 4\n",
            "Norm: 0.02, NNZs: 5, Bias: 0.385540, T: 400, Avg. loss: 0.868590\n",
            "Total training time: 0.05 seconds.\n",
            "-- Epoch 5\n",
            "Norm: 0.02, NNZs: 5, Bias: 0.385513, T: 500, Avg. loss: 0.868434\n",
            "Total training time: 0.07 seconds.\n",
            "-- Epoch 6\n",
            "Norm: 0.02, NNZs: 5, Bias: 0.385537, T: 600, Avg. loss: 0.868108\n",
            "Total training time: 0.10 seconds.\n",
            "Convergence after 6 epochs took 0.11 seconds\n",
            "[CV] ................................................. , total=   0.1s\n"
          ],
          "name": "stdout"
        },
        {
          "output_type": "stream",
          "text": [
            "[Parallel(n_jobs=1)]: Done   1 out of   1 | elapsed:    0.1s remaining:    0.0s\n"
          ],
          "name": "stderr"
        },
        {
          "output_type": "stream",
          "text": [
            "[CV]  ................................................................\n",
            "-- Epoch 1\n",
            "Norm: 0.01, NNZs: 5, Bias: 0.418529, T: 100, Avg. loss: 0.861732\n",
            "Total training time: 0.01 seconds.\n",
            "-- Epoch 2\n",
            "Norm: 0.02, NNZs: 5, Bias: 0.419176, T: 200, Avg. loss: 0.867823\n",
            "Total training time: 0.02 seconds.\n",
            "-- Epoch 3\n",
            "Norm: 0.02, NNZs: 5, Bias: 0.419194, T: 300, Avg. loss: 0.866453\n",
            "Total training time: 0.03 seconds.\n",
            "-- Epoch 4\n",
            "Norm: 0.02, NNZs: 5, Bias: 0.419313, T: 400, Avg. loss: 0.863820\n",
            "Total training time: 0.06 seconds.\n",
            "-- Epoch 5\n",
            "Norm: 0.02, NNZs: 5, Bias: 0.419317, T: 500, Avg. loss: 0.864208\n",
            "Total training time: 0.07 seconds.\n",
            "-- Epoch 6\n",
            "Norm: 0.02, NNZs: 5, Bias: 0.419279, T: 600, Avg. loss: 0.864752\n",
            "Total training time: 0.08 seconds.\n",
            "Convergence after 6 epochs took 0.08 seconds\n",
            "[CV] ................................................. , total=   0.1s\n",
            "[CV]  ................................................................\n",
            "-- Epoch 1\n",
            "Norm: 0.01, NNZs: 5, Bias: 0.378549, T: 100, Avg. loss: 0.878925\n",
            "Total training time: 0.01 seconds.\n",
            "-- Epoch 2\n",
            "Norm: 0.02, NNZs: 5, Bias: 0.378625, T: 200, Avg. loss: 0.872616\n",
            "Total training time: 0.02 seconds.\n",
            "-- Epoch 3\n",
            "Norm: 0.02, NNZs: 5, Bias: 0.378846, T: 300, Avg. loss: 0.868824\n",
            "Total training time: 0.03 seconds.\n",
            "-- Epoch 4\n",
            "Norm: 0.02, NNZs: 5, Bias: 0.378939, T: 400, Avg. loss: 0.868583\n",
            "Total training time: 0.04 seconds.\n",
            "-- Epoch 5\n",
            "Norm: 0.02, NNZs: 5, Bias: 0.378930, T: 500, Avg. loss: 0.869584\n",
            "Total training time: 0.05 seconds.\n",
            "-- Epoch 6\n",
            "Norm: 0.02, NNZs: 5, Bias: 0.378926, T: 600, Avg. loss: 0.868538\n",
            "Total training time: 0.07 seconds.\n",
            "Convergence after 6 epochs took 0.07 seconds\n",
            "[CV] ................................................. , total=   0.1s\n",
            "[CV]  ................................................................\n",
            "-- Epoch 1\n",
            "Norm: 0.02, NNZs: 5, Bias: -0.464792, T: 100, Avg. loss: 1.348763\n",
            "Total training time: 0.01 seconds.\n",
            "-- Epoch 2\n",
            "Norm: 0.02, NNZs: 5, Bias: -0.465130, T: 200, Avg. loss: 0.905909\n",
            "Total training time: 0.03 seconds.\n",
            "-- Epoch 3\n",
            "Norm: 0.02, NNZs: 5, Bias: -0.465143, T: 300, Avg. loss: 0.903623\n",
            "Total training time: 0.04 seconds.\n",
            "-- Epoch 4\n",
            "Norm: 0.02, NNZs: 5, Bias: -0.465028, T: 400, Avg. loss: 0.901965\n",
            "Total training time: 0.06 seconds.\n",
            "-- Epoch 5\n",
            "Norm: 0.02, NNZs: 5, Bias: -0.464981, T: 500, Avg. loss: 0.901988\n",
            "Total training time: 0.07 seconds.\n",
            "-- Epoch 6\n",
            "Norm: 0.02, NNZs: 5, Bias: -0.464951, T: 600, Avg. loss: 0.902417\n",
            "Total training time: 0.08 seconds.\n",
            "Convergence after 6 epochs took 0.09 seconds\n",
            "[CV] ................................................. , total=   0.1s\n",
            "[CV]  ................................................................\n",
            "-- Epoch 1\n",
            "Norm: 0.02, NNZs: 5, Bias: -0.453630, T: 100, Avg. loss: 1.050333\n",
            "Total training time: 0.02 seconds.\n",
            "-- Epoch 2\n",
            "Norm: 0.02, NNZs: 5, Bias: -0.454077, T: 200, Avg. loss: 0.909253\n",
            "Total training time: 0.03 seconds.\n",
            "-- Epoch 3\n",
            "Norm: 0.02, NNZs: 5, Bias: -0.454163, T: 300, Avg. loss: 0.907390\n",
            "Total training time: 0.04 seconds.\n",
            "-- Epoch 4\n",
            "Norm: 0.02, NNZs: 5, Bias: -0.454074, T: 400, Avg. loss: 0.904366\n",
            "Total training time: 0.06 seconds.\n",
            "-- Epoch 5\n",
            "Norm: 0.02, NNZs: 5, Bias: -0.454082, T: 500, Avg. loss: 0.905163\n",
            "Total training time: 0.07 seconds.\n",
            "-- Epoch 6\n",
            "Norm: 0.02, NNZs: 5, Bias: -0.454074, T: 600, Avg. loss: 0.904949\n",
            "Total training time: 0.08 seconds.\n",
            "Convergence after 6 epochs took 0.09 seconds\n",
            "[CV] ................................................. , total=   0.1s\n"
          ],
          "name": "stdout"
        },
        {
          "output_type": "stream",
          "text": [
            "[Parallel(n_jobs=1)]: Done   5 out of   5 | elapsed:    0.6s finished\n"
          ],
          "name": "stderr"
        },
        {
          "output_type": "stream",
          "text": [
            "-- Epoch 1\n",
            "Norm: 0.02, NNZs: 5, Bias: 0.390783, T: 126, Avg. loss: 0.887418\n",
            "Total training time: 0.01 seconds.\n",
            "-- Epoch 2\n",
            "Norm: 0.02, NNZs: 5, Bias: 0.391011, T: 252, Avg. loss: 0.874227\n",
            "Total training time: 0.02 seconds.\n",
            "-- Epoch 3\n",
            "Norm: 0.02, NNZs: 5, Bias: 0.391085, T: 378, Avg. loss: 0.873866\n",
            "Total training time: 0.03 seconds.\n",
            "-- Epoch 4\n",
            "Norm: 0.02, NNZs: 5, Bias: 0.391088, T: 504, Avg. loss: 0.873223\n",
            "Total training time: 0.04 seconds.\n",
            "-- Epoch 5\n",
            "Norm: 0.02, NNZs: 5, Bias: 0.391140, T: 630, Avg. loss: 0.872630\n",
            "Total training time: 0.05 seconds.\n",
            "-- Epoch 6\n",
            "Norm: 0.02, NNZs: 5, Bias: 0.391168, T: 756, Avg. loss: 0.873208\n",
            "Total training time: 0.06 seconds.\n",
            "Convergence after 6 epochs took 0.07 seconds\n"
          ],
          "name": "stdout"
        }
      ]
    },
    {
      "cell_type": "code",
      "metadata": {
        "id": "j1FVXRScRQcn",
        "colab": {
          "base_uri": "https://localhost:8080/",
          "height": 1000
        },
        "outputId": "a88c72f9-f401-4999-8bd9-34c936226816"
      },
      "source": [
        "evaluate_model_keyList(clf_sgd_keyList, model_name=\"clf_sgd_keyList\")"
      ],
      "execution_count": 90,
      "outputs": [
        {
          "output_type": "stream",
          "text": [
            "Training Set\n",
            "Accuracy: 0.5214285714285715\n",
            "\n"
          ],
          "name": "stdout"
        },
        {
          "output_type": "stream",
          "text": [
            "/usr/local/lib/python3.7/dist-packages/sklearn/metrics/_classification.py:1272: UndefinedMetricWarning: Precision and F-score are ill-defined and being set to 0.0 in labels with no predicted samples. Use `zero_division` parameter to control this behavior.\n",
            "  _warn_prf(average, modifier, msg_start, len(result))\n"
          ],
          "name": "stderr"
        },
        {
          "output_type": "stream",
          "text": [
            "              precision    recall  f1-score   support\n",
            "\n",
            "           0     0.0000    0.0000    0.0000        67\n",
            "           1     0.5214    1.0000    0.6854        73\n",
            "\n",
            "    accuracy                         0.5214       140\n",
            "   macro avg     0.2607    0.5000    0.3427       140\n",
            "weighted avg     0.2719    0.5214    0.3574       140\n",
            "\n"
          ],
          "name": "stdout"
        },
        {
          "output_type": "display_data",
          "data": {
            "image/png": "[encoded data removed]",
            "text/plain": [
              "<Figure size 432x288 with 2 Axes>"
            ]
          },
          "metadata": {
            "tags": [],
            "needs_background": "light"
          }
        },
        {
          "output_type": "stream",
          "text": [
            "\n",
            "Testing Set\n",
            "Accuracy: 0.45\n",
            "\n"
          ],
          "name": "stdout"
        },
        {
          "output_type": "stream",
          "text": [
            "/usr/local/lib/python3.7/dist-packages/sklearn/metrics/_classification.py:1272: UndefinedMetricWarning: Precision and F-score are ill-defined and being set to 0.0 in labels with no predicted samples. Use `zero_division` parameter to control this behavior.\n",
            "  _warn_prf(average, modifier, msg_start, len(result))\n"
          ],
          "name": "stderr"
        },
        {
          "output_type": "stream",
          "text": [
            "              precision    recall  f1-score   support\n",
            "\n",
            "           0     0.0000    0.0000    0.0000        33\n",
            "           1     0.4500    1.0000    0.6207        27\n",
            "\n",
            "    accuracy                         0.4500        60\n",
            "   macro avg     0.2250    0.5000    0.3103        60\n",
            "weighted avg     0.2025    0.4500    0.2793        60\n",
            "\n"
          ],
          "name": "stdout"
        },
        {
          "output_type": "display_data",
          "data": {
            "image/png": "[encoded data removed]",
            "text/plain": [
              "<Figure size 432x288 with 2 Axes>"
            ]
          },
          "metadata": {
            "tags": [],
            "needs_background": "light"
          }
        },
        {
          "output_type": "stream",
          "text": [
            "\n"
          ],
          "name": "stdout"
        }
      ]
    },
    {
      "cell_type": "code",
      "metadata": {
        "id": "Z-Ii8dGa6Sf4"
      },
      "source": [
        "del clf_sgd"
      ],
      "execution_count": 91,
      "outputs": []
    },
    {
      "cell_type": "markdown",
      "metadata": {
        "id": "UfgxLqHj46JP"
      },
      "source": [
        "### **4.5 Neural Network**"
      ]
    },
    {
      "cell_type": "code",
      "metadata": {
        "id": "BEYfAkeHqcfu"
      },
      "source": [
        "clf_nn = MLPClassifier(solver='lbfgs', alpha=1e-5, hidden_layer_sizes=(15,), random_state=1)"
      ],
      "execution_count": 92,
      "outputs": []
    },
    {
      "cell_type": "code",
      "metadata": {
        "id": "VfM_ewcoT_6x"
      },
      "source": [
        "grid_search_nn = GridSearchCV(clf_nn, \n",
        "                           param_grid,\n",
        "                           cv=StratifiedKFold(n_splits=5, shuffle=True,\n",
        "                                              random_state=42).split(X_train_word, y_train_word), \n",
        "                           verbose=2)"
      ],
      "execution_count": 93,
      "outputs": []
    },
    {
      "cell_type": "code",
      "metadata": {
        "id": "incNx66n_1e4",
        "colab": {
          "base_uri": "https://localhost:8080/"
        },
        "outputId": "b23b7861-f37b-417b-b518-c75faba5d987"
      },
      "source": [
        "clf_nn_word = grid_search_nn.fit(X_train_word, y_train_word)"
      ],
      "execution_count": 94,
      "outputs": [
        {
          "output_type": "stream",
          "text": [
            "Fitting 5 folds for each of 1 candidates, totalling 5 fits\n"
          ],
          "name": "stdout"
        },
        {
          "output_type": "stream",
          "text": [
            "[Parallel(n_jobs=1)]: Using backend SequentialBackend with 1 concurrent workers.\n"
          ],
          "name": "stderr"
        },
        {
          "output_type": "stream",
          "text": [
            "[CV]  ................................................................\n",
            "[CV] ................................................. , total=   1.2s\n"
          ],
          "name": "stdout"
        },
        {
          "output_type": "stream",
          "text": [
            "[Parallel(n_jobs=1)]: Done   1 out of   1 | elapsed:    1.2s remaining:    0.0s\n"
          ],
          "name": "stderr"
        },
        {
          "output_type": "stream",
          "text": [
            "[CV]  ................................................................\n",
            "[CV] ................................................. , total=   1.3s\n",
            "[CV]  ................................................................\n"
          ],
          "name": "stdout"
        },
        {
          "output_type": "stream",
          "text": [
            "/usr/local/lib/python3.7/dist-packages/sklearn/neural_network/_multilayer_perceptron.py:470: ConvergenceWarning: lbfgs failed to converge (status=2):\n",
            "ABNORMAL_TERMINATION_IN_LNSRCH.\n",
            "\n",
            "Increase the number of iterations (max_iter) or scale the data as shown in:\n",
            "    https://scikit-learn.org/stable/modules/preprocessing.html\n",
            "  self.n_iter_ = _check_optimize_result(\"lbfgs\", opt_res, self.max_iter)\n"
          ],
          "name": "stderr"
        },
        {
          "output_type": "stream",
          "text": [
            "[CV] ................................................. , total=   3.5s\n",
            "[CV]  ................................................................\n",
            "[CV] ................................................. , total=   1.2s\n",
            "[CV]  ................................................................\n",
            "[CV] ................................................. , total=   1.2s\n"
          ],
          "name": "stdout"
        },
        {
          "output_type": "stream",
          "text": [
            "[Parallel(n_jobs=1)]: Done   5 out of   5 | elapsed:    8.5s finished\n"
          ],
          "name": "stderr"
        }
      ]
    },
    {
      "cell_type": "code",
      "metadata": {
        "id": "vYyFZP0xyUME",
        "colab": {
          "base_uri": "https://localhost:8080/",
          "height": 978
        },
        "outputId": "2dcdadf2-96e4-473c-80ac-14e855b21bd9"
      },
      "source": [
        "evaluate_model_ngrammWord(clf_nn_word, model_name=\"clf_nn_word\")"
      ],
      "execution_count": 95,
      "outputs": [
        {
          "output_type": "stream",
          "text": [
            "Training Set\n",
            "Accuracy: 0.9928571428571429\n",
            "\n",
            "              precision    recall  f1-score   support\n",
            "\n",
            "           0     1.0000    0.9851    0.9925        67\n",
            "           1     0.9865    1.0000    0.9932        73\n",
            "\n",
            "    accuracy                         0.9929       140\n",
            "   macro avg     0.9932    0.9925    0.9928       140\n",
            "weighted avg     0.9930    0.9929    0.9929       140\n",
            "\n"
          ],
          "name": "stdout"
        },
        {
          "output_type": "display_data",
          "data": {
            "image/png": "[encoded data removed]",
            "text/plain": [
              "<Figure size 432x288 with 2 Axes>"
            ]
          },
          "metadata": {
            "tags": [],
            "needs_background": "light"
          }
        },
        {
          "output_type": "stream",
          "text": [
            "\n",
            "Testing Set\n",
            "Accuracy: 0.75\n",
            "\n",
            "              precision    recall  f1-score   support\n",
            "\n",
            "           0     0.8214    0.6970    0.7541        33\n",
            "           1     0.6875    0.8148    0.7458        27\n",
            "\n",
            "    accuracy                         0.7500        60\n",
            "   macro avg     0.7545    0.7559    0.7499        60\n",
            "weighted avg     0.7612    0.7500    0.7503        60\n",
            "\n"
          ],
          "name": "stdout"
        },
        {
          "output_type": "display_data",
          "data": {
            "image/png": "[encoded data removed]",
            "text/plain": [
              "<Figure size 432x288 with 2 Axes>"
            ]
          },
          "metadata": {
            "tags": [],
            "needs_background": "light"
          }
        },
        {
          "output_type": "stream",
          "text": [
            "\n"
          ],
          "name": "stdout"
        }
      ]
    },
    {
      "cell_type": "code",
      "metadata": {
        "id": "A5_oAXrTUBXe"
      },
      "source": [
        "grid_search_nn = GridSearchCV(clf_nn, \n",
        "                           param_grid,\n",
        "                           cv=StratifiedKFold(n_splits=5, shuffle=True,\n",
        "                                              random_state=42).split(X_train_char, y_train_char), \n",
        "                           verbose=2)"
      ],
      "execution_count": 96,
      "outputs": []
    },
    {
      "cell_type": "code",
      "metadata": {
        "id": "LOA-K1MOUBfY",
        "colab": {
          "base_uri": "https://localhost:8080/"
        },
        "outputId": "03b11b84-fd61-4070-a6c7-cfa1100b5de6"
      },
      "source": [
        "\n",
        "clf_nn_char = grid_search_nn.fit(X_train_char, y_train_char)"
      ],
      "execution_count": 97,
      "outputs": [
        {
          "output_type": "stream",
          "text": [
            "Fitting 5 folds for each of 1 candidates, totalling 5 fits\n"
          ],
          "name": "stdout"
        },
        {
          "output_type": "stream",
          "text": [
            "[Parallel(n_jobs=1)]: Using backend SequentialBackend with 1 concurrent workers.\n"
          ],
          "name": "stderr"
        },
        {
          "output_type": "stream",
          "text": [
            "[CV]  ................................................................\n",
            "[CV] ................................................. , total=   0.4s\n"
          ],
          "name": "stdout"
        },
        {
          "output_type": "stream",
          "text": [
            "[Parallel(n_jobs=1)]: Done   1 out of   1 | elapsed:    0.4s remaining:    0.0s\n"
          ],
          "name": "stderr"
        },
        {
          "output_type": "stream",
          "text": [
            "[CV]  ................................................................\n",
            "[CV] ................................................. , total=   0.4s\n",
            "[CV]  ................................................................\n",
            "[CV] ................................................. , total=   0.4s\n",
            "[CV]  ................................................................\n",
            "[CV] ................................................. , total=   0.4s\n",
            "[CV]  ................................................................\n",
            "[CV] ................................................. , total=   0.4s\n"
          ],
          "name": "stdout"
        },
        {
          "output_type": "stream",
          "text": [
            "[Parallel(n_jobs=1)]: Done   5 out of   5 | elapsed:    2.2s finished\n"
          ],
          "name": "stderr"
        }
      ]
    },
    {
      "cell_type": "code",
      "metadata": {
        "id": "ZLTitSEeUBo3",
        "colab": {
          "base_uri": "https://localhost:8080/",
          "height": 974
        },
        "outputId": "d18c483a-5572-41bd-feeb-564940101281"
      },
      "source": [
        "evaluate_model_ngrammChar(clf_nn_char, model_name=\"clf_nn_char\")"
      ],
      "execution_count": 98,
      "outputs": [
        {
          "output_type": "stream",
          "text": [
            "Training Set\n",
            "Accuracy: 0.44285714285714284\n",
            "\n",
            "              precision    recall  f1-score   support\n",
            "\n",
            "           0     0.4421    0.6269    0.5185        67\n",
            "           1     0.4444    0.2740    0.3390        73\n",
            "\n",
            "    accuracy                         0.4429       140\n",
            "   macro avg     0.4433    0.4504    0.4288       140\n",
            "weighted avg     0.4433    0.4429    0.4249       140\n",
            "\n"
          ],
          "name": "stdout"
        },
        {
          "output_type": "display_data",
          "data": {
            "image/png": "[encoded data removed]",
            "text/plain": [
              "<Figure size 432x288 with 2 Axes>"
            ]
          },
          "metadata": {
            "tags": [],
            "needs_background": "light"
          }
        },
        {
          "output_type": "stream",
          "text": [
            "\n",
            "Testing Set\n",
            "Accuracy: 0.6666666666666666\n",
            "\n",
            "              precision    recall  f1-score   support\n",
            "\n",
            "           0     0.6585    0.8182    0.7297        33\n",
            "           1     0.6842    0.4815    0.5652        27\n",
            "\n",
            "    accuracy                         0.6667        60\n",
            "   macro avg     0.6714    0.6498    0.6475        60\n",
            "weighted avg     0.6701    0.6667    0.6557        60\n",
            "\n"
          ],
          "name": "stdout"
        },
        {
          "output_type": "display_data",
          "data": {
            "image/png": "[encoded data removed]",
            "text/plain": [
              "<Figure size 432x288 with 2 Axes>"
            ]
          },
          "metadata": {
            "tags": [],
            "needs_background": "light"
          }
        },
        {
          "output_type": "stream",
          "text": [
            "\n"
          ],
          "name": "stdout"
        }
      ]
    },
    {
      "cell_type": "code",
      "metadata": {
        "id": "TfBPPAN6UBx4"
      },
      "source": [
        "grid_search_nn = GridSearchCV(clf_nn, \n",
        "                           param_grid,\n",
        "                           cv=StratifiedKFold(n_splits=5, shuffle=True,\n",
        "                                              random_state=42).split(X_train_keyList, y_train_keyList), \n",
        "                           verbose=2)"
      ],
      "execution_count": 99,
      "outputs": []
    },
    {
      "cell_type": "code",
      "metadata": {
        "id": "wmfCPgZbUB6T",
        "colab": {
          "base_uri": "https://localhost:8080/"
        },
        "outputId": "fc85c7c2-885f-40a9-dd7e-fd01ec491c7c"
      },
      "source": [
        "\n",
        "clf_nn_keyList = grid_search_nn.fit(X_train_keyList, y_train_keyList)"
      ],
      "execution_count": 100,
      "outputs": [
        {
          "output_type": "stream",
          "text": [
            "Fitting 5 folds for each of 1 candidates, totalling 5 fits\n"
          ],
          "name": "stdout"
        },
        {
          "output_type": "stream",
          "text": [
            "[Parallel(n_jobs=1)]: Using backend SequentialBackend with 1 concurrent workers.\n"
          ],
          "name": "stderr"
        },
        {
          "output_type": "stream",
          "text": [
            "[CV]  ................................................................\n",
            "[CV] ................................................. , total=   0.1s\n"
          ],
          "name": "stdout"
        },
        {
          "output_type": "stream",
          "text": [
            "[Parallel(n_jobs=1)]: Done   1 out of   1 | elapsed:    0.1s remaining:    0.0s\n"
          ],
          "name": "stderr"
        },
        {
          "output_type": "stream",
          "text": [
            "[CV]  ................................................................\n"
          ],
          "name": "stdout"
        },
        {
          "output_type": "stream",
          "text": [
            "/usr/local/lib/python3.7/dist-packages/sklearn/neural_network/_multilayer_perceptron.py:470: ConvergenceWarning: lbfgs failed to converge (status=1):\n",
            "STOP: TOTAL NO. of ITERATIONS REACHED LIMIT.\n",
            "\n",
            "Increase the number of iterations (max_iter) or scale the data as shown in:\n",
            "    https://scikit-learn.org/stable/modules/preprocessing.html\n",
            "  self.n_iter_ = _check_optimize_result(\"lbfgs\", opt_res, self.max_iter)\n"
          ],
          "name": "stderr"
        },
        {
          "output_type": "stream",
          "text": [
            "[CV] ................................................. , total=   0.1s\n",
            "[CV]  ................................................................\n"
          ],
          "name": "stdout"
        },
        {
          "output_type": "stream",
          "text": [
            "/usr/local/lib/python3.7/dist-packages/sklearn/neural_network/_multilayer_perceptron.py:470: ConvergenceWarning: lbfgs failed to converge (status=1):\n",
            "STOP: TOTAL NO. of ITERATIONS REACHED LIMIT.\n",
            "\n",
            "Increase the number of iterations (max_iter) or scale the data as shown in:\n",
            "    https://scikit-learn.org/stable/modules/preprocessing.html\n",
            "  self.n_iter_ = _check_optimize_result(\"lbfgs\", opt_res, self.max_iter)\n"
          ],
          "name": "stderr"
        },
        {
          "output_type": "stream",
          "text": [
            "[CV] ................................................. , total=   0.1s\n",
            "[CV]  ................................................................\n"
          ],
          "name": "stdout"
        },
        {
          "output_type": "stream",
          "text": [
            "/usr/local/lib/python3.7/dist-packages/sklearn/neural_network/_multilayer_perceptron.py:470: ConvergenceWarning: lbfgs failed to converge (status=1):\n",
            "STOP: TOTAL NO. of ITERATIONS REACHED LIMIT.\n",
            "\n",
            "Increase the number of iterations (max_iter) or scale the data as shown in:\n",
            "    https://scikit-learn.org/stable/modules/preprocessing.html\n",
            "  self.n_iter_ = _check_optimize_result(\"lbfgs\", opt_res, self.max_iter)\n"
          ],
          "name": "stderr"
        },
        {
          "output_type": "stream",
          "text": [
            "[CV] ................................................. , total=   0.1s\n",
            "[CV]  ................................................................\n"
          ],
          "name": "stdout"
        },
        {
          "output_type": "stream",
          "text": [
            "/usr/local/lib/python3.7/dist-packages/sklearn/neural_network/_multilayer_perceptron.py:470: ConvergenceWarning: lbfgs failed to converge (status=1):\n",
            "STOP: TOTAL NO. of ITERATIONS REACHED LIMIT.\n",
            "\n",
            "Increase the number of iterations (max_iter) or scale the data as shown in:\n",
            "    https://scikit-learn.org/stable/modules/preprocessing.html\n",
            "  self.n_iter_ = _check_optimize_result(\"lbfgs\", opt_res, self.max_iter)\n"
          ],
          "name": "stderr"
        },
        {
          "output_type": "stream",
          "text": [
            "[CV] ................................................. , total=   0.1s\n"
          ],
          "name": "stdout"
        },
        {
          "output_type": "stream",
          "text": [
            "[Parallel(n_jobs=1)]: Done   5 out of   5 | elapsed:    0.7s finished\n",
            "/usr/local/lib/python3.7/dist-packages/sklearn/neural_network/_multilayer_perceptron.py:470: ConvergenceWarning: lbfgs failed to converge (status=1):\n",
            "STOP: TOTAL NO. of ITERATIONS REACHED LIMIT.\n",
            "\n",
            "Increase the number of iterations (max_iter) or scale the data as shown in:\n",
            "    https://scikit-learn.org/stable/modules/preprocessing.html\n",
            "  self.n_iter_ = _check_optimize_result(\"lbfgs\", opt_res, self.max_iter)\n"
          ],
          "name": "stderr"
        }
      ]
    },
    {
      "cell_type": "code",
      "metadata": {
        "id": "4WeKzTGuUCED",
        "colab": {
          "base_uri": "https://localhost:8080/",
          "height": 974
        },
        "outputId": "833c2093-c8de-4dea-c3fc-12d344944f5c"
      },
      "source": [
        "evaluate_model_keyList(clf_nn_keyList, model_name=\"clf_nn_keyList\")"
      ],
      "execution_count": 101,
      "outputs": [
        {
          "output_type": "stream",
          "text": [
            "Training Set\n",
            "Accuracy: 0.5928571428571429\n",
            "\n",
            "              precision    recall  f1-score   support\n",
            "\n",
            "           0     0.5781    0.5522    0.5649        67\n",
            "           1     0.6053    0.6301    0.6174        73\n",
            "\n",
            "    accuracy                         0.5929       140\n",
            "   macro avg     0.5917    0.5912    0.5912       140\n",
            "weighted avg     0.5923    0.5929    0.5923       140\n",
            "\n"
          ],
          "name": "stdout"
        },
        {
          "output_type": "display_data",
          "data": {
            "image/png": "[encoded data removed]",
            "text/plain": [
              "<Figure size 432x288 with 2 Axes>"
            ]
          },
          "metadata": {
            "tags": [],
            "needs_background": "light"
          }
        },
        {
          "output_type": "stream",
          "text": [
            "\n",
            "Testing Set\n",
            "Accuracy: 0.5666666666666667\n",
            "\n",
            "              precision    recall  f1-score   support\n",
            "\n",
            "           0     0.6129    0.5758    0.5938        33\n",
            "           1     0.5172    0.5556    0.5357        27\n",
            "\n",
            "    accuracy                         0.5667        60\n",
            "   macro avg     0.5651    0.5657    0.5647        60\n",
            "weighted avg     0.5699    0.5667    0.5676        60\n",
            "\n"
          ],
          "name": "stdout"
        },
        {
          "output_type": "display_data",
          "data": {
            "image/png": "[encoded data removed]",
            "text/plain": [
              "<Figure size 432x288 with 2 Axes>"
            ]
          },
          "metadata": {
            "tags": [],
            "needs_background": "light"
          }
        },
        {
          "output_type": "stream",
          "text": [
            "\n"
          ],
          "name": "stdout"
        }
      ]
    },
    {
      "cell_type": "code",
      "metadata": {
        "id": "Z2lQ9qrayUQK"
      },
      "source": [
        "del clf_nn"
      ],
      "execution_count": 102,
      "outputs": []
    },
    {
      "cell_type": "markdown",
      "metadata": {
        "id": "N8AqkvOlAWOf"
      },
      "source": [
        "### **4.6 KNeighborsClassifier**"
      ]
    },
    {
      "cell_type": "code",
      "metadata": {
        "id": "lv3JDSb8EQCu"
      },
      "source": [
        "knn = KNeighborsClassifier(n_neighbors= 18)"
      ],
      "execution_count": 103,
      "outputs": []
    },
    {
      "cell_type": "code",
      "metadata": {
        "id": "U7n-Gx4xU9AU"
      },
      "source": [
        "grid_search_knn = GridSearchCV(knn, \n",
        "                           param_grid,\n",
        "                           cv=StratifiedKFold(n_splits=5, shuffle=True,\n",
        "                                              random_state=42).split(X_train_word, y_train_word), \n",
        "                           verbose=2)"
      ],
      "execution_count": 104,
      "outputs": []
    },
    {
      "cell_type": "code",
      "metadata": {
        "id": "JGzxAEiLAzaq",
        "colab": {
          "base_uri": "https://localhost:8080/"
        },
        "outputId": "76245da4-7b51-4b20-f36e-f62016d54486"
      },
      "source": [
        "\n",
        "knn_word = grid_search_knn.fit(X_train_word, y_train_word)"
      ],
      "execution_count": 105,
      "outputs": [
        {
          "output_type": "stream",
          "text": [
            "Fitting 5 folds for each of 1 candidates, totalling 5 fits\n"
          ],
          "name": "stdout"
        },
        {
          "output_type": "stream",
          "text": [
            "[Parallel(n_jobs=1)]: Using backend SequentialBackend with 1 concurrent workers.\n"
          ],
          "name": "stderr"
        },
        {
          "output_type": "stream",
          "text": [
            "[CV]  ................................................................\n",
            "[CV] ................................................. , total=   0.1s\n"
          ],
          "name": "stdout"
        },
        {
          "output_type": "stream",
          "text": [
            "[Parallel(n_jobs=1)]: Done   1 out of   1 | elapsed:    0.1s remaining:    0.0s\n"
          ],
          "name": "stderr"
        },
        {
          "output_type": "stream",
          "text": [
            "[CV]  ................................................................\n",
            "[CV] ................................................. , total=   0.1s\n",
            "[CV]  ................................................................\n",
            "[CV] ................................................. , total=   0.1s\n",
            "[CV]  ................................................................\n",
            "[CV] ................................................. , total=   0.1s\n",
            "[CV]  ................................................................\n",
            "[CV] ................................................. , total=   0.1s\n"
          ],
          "name": "stdout"
        },
        {
          "output_type": "stream",
          "text": [
            "[Parallel(n_jobs=1)]: Done   5 out of   5 | elapsed:    0.7s finished\n"
          ],
          "name": "stderr"
        }
      ]
    },
    {
      "cell_type": "code",
      "metadata": {
        "id": "76lbTBq5EQCv",
        "colab": {
          "base_uri": "https://localhost:8080/",
          "height": 974
        },
        "outputId": "c6d2dca3-3bd5-47a0-c3a3-115071d52f77"
      },
      "source": [
        "evaluate_model_ngrammWord(knn_word, model_name=\"knn_word\")"
      ],
      "execution_count": 106,
      "outputs": [
        {
          "output_type": "stream",
          "text": [
            "Training Set\n",
            "Accuracy: 0.6214285714285714\n",
            "\n",
            "              precision    recall  f1-score   support\n",
            "\n",
            "           0     0.6842    0.3881    0.4952        67\n",
            "           1     0.5980    0.8356    0.6971        73\n",
            "\n",
            "    accuracy                         0.6214       140\n",
            "   macro avg     0.6411    0.6118    0.5962       140\n",
            "weighted avg     0.6393    0.6214    0.6005       140\n",
            "\n"
          ],
          "name": "stdout"
        },
        {
          "output_type": "display_data",
          "data": {
            "image/png": "[encoded data removed]",
            "text/plain": [
              "<Figure size 432x288 with 2 Axes>"
            ]
          },
          "metadata": {
            "tags": [],
            "needs_background": "light"
          }
        },
        {
          "output_type": "stream",
          "text": [
            "\n",
            "Testing Set\n",
            "Accuracy: 0.5666666666666667\n",
            "\n",
            "              precision    recall  f1-score   support\n",
            "\n",
            "           0     0.7692    0.3030    0.4348        33\n",
            "           1     0.5106    0.8889    0.6486        27\n",
            "\n",
            "    accuracy                         0.5667        60\n",
            "   macro avg     0.6399    0.5960    0.5417        60\n",
            "weighted avg     0.6529    0.5667    0.5310        60\n",
            "\n"
          ],
          "name": "stdout"
        },
        {
          "output_type": "display_data",
          "data": {
            "image/png": "[encoded data removed]",
            "text/plain": [
              "<Figure size 432x288 with 2 Axes>"
            ]
          },
          "metadata": {
            "tags": [],
            "needs_background": "light"
          }
        },
        {
          "output_type": "stream",
          "text": [
            "\n"
          ],
          "name": "stdout"
        }
      ]
    },
    {
      "cell_type": "code",
      "metadata": {
        "id": "dk2jpzHwU-UV"
      },
      "source": [
        "grid_search_knn = GridSearchCV(knn, \n",
        "                           param_grid,\n",
        "                           cv=StratifiedKFold(n_splits=5, shuffle=True,\n",
        "                                              random_state=42).split(X_train_char, y_train_char), \n",
        "                           verbose=2)"
      ],
      "execution_count": 107,
      "outputs": []
    },
    {
      "cell_type": "code",
      "metadata": {
        "id": "woV5TuSTU-dh",
        "colab": {
          "base_uri": "https://localhost:8080/"
        },
        "outputId": "4093f80a-d544-4e80-84a5-62e5232779e6"
      },
      "source": [
        "\n",
        "knn_char = grid_search_knn.fit(X_train_char, y_train_char)"
      ],
      "execution_count": 108,
      "outputs": [
        {
          "output_type": "stream",
          "text": [
            "Fitting 5 folds for each of 1 candidates, totalling 5 fits\n"
          ],
          "name": "stdout"
        },
        {
          "output_type": "stream",
          "text": [
            "[Parallel(n_jobs=1)]: Using backend SequentialBackend with 1 concurrent workers.\n"
          ],
          "name": "stderr"
        },
        {
          "output_type": "stream",
          "text": [
            "[CV]  ................................................................\n",
            "[CV] ................................................. , total=   0.2s\n"
          ],
          "name": "stdout"
        },
        {
          "output_type": "stream",
          "text": [
            "[Parallel(n_jobs=1)]: Done   1 out of   1 | elapsed:    0.2s remaining:    0.0s\n"
          ],
          "name": "stderr"
        },
        {
          "output_type": "stream",
          "text": [
            "[CV]  ................................................................\n",
            "[CV] ................................................. , total=   0.1s\n",
            "[CV]  ................................................................\n",
            "[CV] ................................................. , total=   0.1s\n",
            "[CV]  ................................................................\n",
            "[CV] ................................................. , total=   0.2s\n",
            "[CV]  ................................................................\n",
            "[CV] ................................................. , total=   0.1s\n"
          ],
          "name": "stdout"
        },
        {
          "output_type": "stream",
          "text": [
            "[Parallel(n_jobs=1)]: Done   5 out of   5 | elapsed:    0.8s finished\n"
          ],
          "name": "stderr"
        }
      ]
    },
    {
      "cell_type": "code",
      "metadata": {
        "id": "1fd0rCvmU-ne",
        "colab": {
          "base_uri": "https://localhost:8080/",
          "height": 977
        },
        "outputId": "3539a195-4401-43c7-db90-e3602ae132a7"
      },
      "source": [
        "evaluate_model_ngrammChar(knn_char, model_name=\"knn_char\")"
      ],
      "execution_count": 109,
      "outputs": [
        {
          "output_type": "stream",
          "text": [
            "Training Set\n",
            "Accuracy: 0.6142857142857143\n",
            "\n",
            "              precision    recall  f1-score   support\n",
            "\n",
            "           0     0.6226    0.4925    0.5500        67\n",
            "           1     0.6092    0.7260    0.6625        73\n",
            "\n",
            "    accuracy                         0.6143       140\n",
            "   macro avg     0.6159    0.6093    0.6062       140\n",
            "weighted avg     0.6156    0.6143    0.6087       140\n",
            "\n"
          ],
          "name": "stdout"
        },
        {
          "output_type": "display_data",
          "data": {
            "image/png": "[encoded data removed]",
            "text/plain": [
              "<Figure size 432x288 with 2 Axes>"
            ]
          },
          "metadata": {
            "tags": [],
            "needs_background": "light"
          }
        },
        {
          "output_type": "stream",
          "text": [
            "\n",
            "Testing Set\n",
            "Accuracy: 0.7\n",
            "\n",
            "              precision    recall  f1-score   support\n",
            "\n",
            "           0     0.7419    0.6970    0.7188        33\n",
            "           1     0.6552    0.7037    0.6786        27\n",
            "\n",
            "    accuracy                         0.7000        60\n",
            "   macro avg     0.6986    0.7003    0.6987        60\n",
            "weighted avg     0.7029    0.7000    0.7007        60\n",
            "\n"
          ],
          "name": "stdout"
        },
        {
          "output_type": "display_data",
          "data": {
            "image/png": "[encoded data removed]",
            "text/plain": [
              "<Figure size 432x288 with 2 Axes>"
            ]
          },
          "metadata": {
            "tags": [],
            "needs_background": "light"
          }
        },
        {
          "output_type": "stream",
          "text": [
            "\n"
          ],
          "name": "stdout"
        }
      ]
    },
    {
      "cell_type": "code",
      "metadata": {
        "id": "vsKV8gcrU-yN"
      },
      "source": [
        "grid_search_knn = GridSearchCV(knn, \n",
        "                           param_grid,\n",
        "                           cv=StratifiedKFold(n_splits=5, shuffle=True,\n",
        "                                              random_state=42).split(X_train_keyList, y_train_keyList), \n",
        "                           verbose=2)"
      ],
      "execution_count": 110,
      "outputs": []
    },
    {
      "cell_type": "code",
      "metadata": {
        "id": "kPF3L2JFU-8M",
        "colab": {
          "base_uri": "https://localhost:8080/"
        },
        "outputId": "d4614d01-5e8c-43e7-8f42-dd3d04f36ec3"
      },
      "source": [
        "\n",
        "knn_keyList = grid_search_knn.fit(X_train_keyList, y_train_keyList)"
      ],
      "execution_count": 111,
      "outputs": [
        {
          "output_type": "stream",
          "text": [
            "Fitting 5 folds for each of 1 candidates, totalling 5 fits\n"
          ],
          "name": "stdout"
        },
        {
          "output_type": "stream",
          "text": [
            "[Parallel(n_jobs=1)]: Using backend SequentialBackend with 1 concurrent workers.\n"
          ],
          "name": "stderr"
        },
        {
          "output_type": "stream",
          "text": [
            "[CV]  ................................................................\n",
            "[CV] ................................................. , total=   0.0s\n"
          ],
          "name": "stdout"
        },
        {
          "output_type": "stream",
          "text": [
            "[Parallel(n_jobs=1)]: Done   1 out of   1 | elapsed:    0.0s remaining:    0.0s\n"
          ],
          "name": "stderr"
        },
        {
          "output_type": "stream",
          "text": [
            "[CV]  ................................................................\n",
            "[CV] ................................................. , total=   0.0s\n",
            "[CV]  ................................................................\n",
            "[CV] ................................................. , total=   0.0s\n",
            "[CV]  ................................................................\n",
            "[CV] ................................................. , total=   0.0s\n",
            "[CV]  ................................................................\n",
            "[CV] ................................................. , total=   0.0s\n"
          ],
          "name": "stdout"
        },
        {
          "output_type": "stream",
          "text": [
            "[Parallel(n_jobs=1)]: Done   5 out of   5 | elapsed:    0.1s finished\n"
          ],
          "name": "stderr"
        }
      ]
    },
    {
      "cell_type": "code",
      "metadata": {
        "id": "8N_k4X3SU_Ek",
        "colab": {
          "base_uri": "https://localhost:8080/",
          "height": 974
        },
        "outputId": "c8ff2d78-7f58-4315-8a93-498f4da0bf3c"
      },
      "source": [
        "evaluate_model_keyList(knn_keyList, model_name=\"knn_keyList\")"
      ],
      "execution_count": 112,
      "outputs": [
        {
          "output_type": "stream",
          "text": [
            "Training Set\n",
            "Accuracy: 0.6285714285714286\n",
            "\n",
            "              precision    recall  f1-score   support\n",
            "\n",
            "           0     0.5843    0.7761    0.6667        67\n",
            "           1     0.7059    0.4932    0.5806        73\n",
            "\n",
            "    accuracy                         0.6286       140\n",
            "   macro avg     0.6451    0.6346    0.6237       140\n",
            "weighted avg     0.6477    0.6286    0.6218       140\n",
            "\n"
          ],
          "name": "stdout"
        },
        {
          "output_type": "display_data",
          "data": {
            "image/png": "[encoded data removed]",
            "text/plain": [
              "<Figure size 432x288 with 2 Axes>"
            ]
          },
          "metadata": {
            "tags": [],
            "needs_background": "light"
          }
        },
        {
          "output_type": "stream",
          "text": [
            "\n",
            "Testing Set\n",
            "Accuracy: 0.5666666666666667\n",
            "\n",
            "              precision    recall  f1-score   support\n",
            "\n",
            "           0     0.6000    0.6364    0.6176        33\n",
            "           1     0.5200    0.4815    0.5000        27\n",
            "\n",
            "    accuracy                         0.5667        60\n",
            "   macro avg     0.5600    0.5589    0.5588        60\n",
            "weighted avg     0.5640    0.5667    0.5647        60\n",
            "\n"
          ],
          "name": "stdout"
        },
        {
          "output_type": "display_data",
          "data": {
            "image/png": "[encoded data removed]",
            "text/plain": [
              "<Figure size 432x288 with 2 Axes>"
            ]
          },
          "metadata": {
            "tags": [],
            "needs_background": "light"
          }
        },
        {
          "output_type": "stream",
          "text": [
            "\n"
          ],
          "name": "stdout"
        }
      ]
    },
    {
      "cell_type": "code",
      "metadata": {
        "id": "YUn_xfDEBaSb"
      },
      "source": [
        "del knn"
      ],
      "execution_count": 113,
      "outputs": []
    },
    {
      "cell_type": "markdown",
      "metadata": {
        "id": "D5G3DhkMNqrn"
      },
      "source": [
        "# **5. Other Features**"
      ]
    },
    {
      "cell_type": "code",
      "metadata": {
        "id": "jEMyD2APTq0o"
      },
      "source": [
        "def other_features(tweet):\n",
        "    \"\"\"This function takes a string and returns a list of features.\n",
        "    These include Sentiment scores, Text and Readability scores,\n",
        "    as well as Twitter specific features\"\"\"\n",
        "    words = basic_tokenize(tweet) #Get text only\n",
        "    syllables = []\n",
        "    for word in words:\n",
        "      syllables.append(textstat.syllable_count(word))\n",
        "\n",
        "    num_chars = sum(len(w) for w in words)\n",
        "    num_chars_total = len(tweet)\n",
        "    #num_terms = len(tweets.split())\n",
        "    num_words = len(words)\n",
        "    num_unique_terms = len(set(words))\n",
        "\n",
        "    avg_syl = []\n",
        "    for s in syllables:\n",
        "      avg_syl.append(int(s+0.001)/int(num_words+0.001))\n",
        "    avg = sum(avg_syl) / len(avg_syl)\n",
        "    ###Modified FK grade, where avg words per sentence is just num words/1\n",
        "    FKRA = round(float(0.39 * float(num_words)/1.0) + float(11.8 * avg) - 15.59,1)\n",
        "    ##Modified FRE score, where sentence fixed to 1\n",
        "    FRE = round(206.835 - 1.015*(float(num_words)/1.0) - (84.6*float(avg)),2)\n",
        "\n",
        "    twitter_objs = []\n",
        "    retweet = 0\n",
        "    if \"rt\" in words:\n",
        "      retweet = 1\n",
        "    features = [FKRA, FRE, avg, num_chars, num_chars_total, num_words,\n",
        "                num_unique_terms,  retweet]\n",
        "        #features = pandas.DataFrame(features)\n",
        "    return features\n",
        "\n",
        "\n",
        "def get_feature_array(tweets):\n",
        "  feats = []\n",
        "  for t in tweets:\n",
        "    feats.append(other_features(t))\n",
        "  return np.array(feats)\n",
        "\n",
        "\n",
        "  \n",
        "other_features_names = [\"FKRA\", \"FRE\",\"avg_syl_per_word\", \"num_chars\", \"num_chars_total\", \\\n",
        "                        \"num_words\", \"num_unique_words\", \"is_retweet\"]\n",
        "\n",
        "                       \n",
        "\n",
        "feats = get_feature_array(tweets)"
      ],
      "execution_count": 114,
      "outputs": []
    },
    {
      "cell_type": "markdown",
      "metadata": {
        "id": "_M05gIqmUCFp"
      },
      "source": [
        "### **5.1 Adding New Features to Data**"
      ]
    },
    {
      "cell_type": "code",
      "metadata": {
        "id": "CHVrujFCUJRC",
        "colab": {
          "base_uri": "https://localhost:8080/"
        },
        "outputId": "2a39f5ba-2991-4b3d-86d8-f1c168042bde"
      },
      "source": [
        "M_new = np.concatenate([tfidf_words,pos,feats],axis=1)\n",
        "M_new.shape"
      ],
      "execution_count": 115,
      "outputs": [
        {
          "output_type": "execute_result",
          "data": {
            "text/plain": [
              "(200, 11354)"
            ]
          },
          "metadata": {
            "tags": []
          },
          "execution_count": 115
        }
      ]
    },
    {
      "cell_type": "code",
      "metadata": {
        "id": "wJbEphrJV_Sl"
      },
      "source": [
        "X_new = pd.DataFrame(M_new)\n",
        "y_new = data['class'].astype(int)\n",
        "X_train_word, X_test_word, y_train_word, y_test_word = train_test_split(X_new, y_new, test_size = 0.3, random_state = 42, shuffle=True)"
      ],
      "execution_count": 116,
      "outputs": []
    },
    {
      "cell_type": "code",
      "metadata": {
        "id": "0l_HNnmBWWkT"
      },
      "source": [
        "c_lr = LogisticRegression(penalty='l2',\n",
        "                            tol=1e-4,\n",
        "                            C=5.0,\n",
        "                            fit_intercept=True,\n",
        "                            class_weight='balanced',\n",
        "                            random_state=0,\n",
        "                            solver='lbfgs',\n",
        "                            max_iter=100,\n",
        "                            multi_class='auto',\n",
        "                            verbose=1,\n",
        "                            n_jobs=-1)"
      ],
      "execution_count": 117,
      "outputs": []
    },
    {
      "cell_type": "code",
      "metadata": {
        "id": "ob7e5oCrWbPd"
      },
      "source": [
        "param_grid = [{}]\n",
        "grid_search_lr = GridSearchCV(c_lr, \n",
        "                           param_grid,\n",
        "                           cv=StratifiedKFold(n_splits=5, shuffle=True,\n",
        "                                              random_state=42).split(X_train_word, y_train_word), \n",
        "                           verbose=2)"
      ],
      "execution_count": 118,
      "outputs": []
    },
    {
      "cell_type": "code",
      "metadata": {
        "id": "S4vAmSI-We4B",
        "colab": {
          "base_uri": "https://localhost:8080/"
        },
        "outputId": "5fad65b9-37ce-4f03-d028-8955b51e67d0"
      },
      "source": [
        "c_lr.fit(X_train_word, y_train_word)"
      ],
      "execution_count": 119,
      "outputs": [
        {
          "output_type": "stream",
          "text": [
            "[Parallel(n_jobs=-1)]: Using backend LokyBackend with 2 concurrent workers.\n",
            "[Parallel(n_jobs=-1)]: Done   1 out of   1 | elapsed:    0.9s finished\n"
          ],
          "name": "stderr"
        },
        {
          "output_type": "execute_result",
          "data": {
            "text/plain": [
              "LogisticRegression(C=5.0, class_weight='balanced', dual=False,\n",
              "                   fit_intercept=True, intercept_scaling=1, l1_ratio=None,\n",
              "                   max_iter=100, multi_class='auto', n_jobs=-1, penalty='l2',\n",
              "                   random_state=0, solver='lbfgs', tol=0.0001, verbose=1,\n",
              "                   warm_start=False)"
            ]
          },
          "metadata": {
            "tags": []
          },
          "execution_count": 119
        }
      ]
    },
    {
      "cell_type": "code",
      "metadata": {
        "id": "v7q7eIb3WiBa",
        "colab": {
          "base_uri": "https://localhost:8080/",
          "height": 978
        },
        "outputId": "8aa239f3-715a-41c5-ac8b-6c4a1541d5dd"
      },
      "source": [
        "evaluate_model_ngrammWord(c_lr, model_name=\"lr\")"
      ],
      "execution_count": 120,
      "outputs": [
        {
          "output_type": "stream",
          "text": [
            "Training Set\n",
            "Accuracy: 1.0\n",
            "\n",
            "              precision    recall  f1-score   support\n",
            "\n",
            "           0     1.0000    1.0000    1.0000        67\n",
            "           1     1.0000    1.0000    1.0000        73\n",
            "\n",
            "    accuracy                         1.0000       140\n",
            "   macro avg     1.0000    1.0000    1.0000       140\n",
            "weighted avg     1.0000    1.0000    1.0000       140\n",
            "\n"
          ],
          "name": "stdout"
        },
        {
          "output_type": "display_data",
          "data": {
            "image/png": "[encoded data removed]",
            "text/plain": [
              "<Figure size 432x288 with 2 Axes>"
            ]
          },
          "metadata": {
            "tags": [],
            "needs_background": "light"
          }
        },
        {
          "output_type": "stream",
          "text": [
            "\n",
            "Testing Set\n",
            "Accuracy: 0.6833333333333333\n",
            "\n",
            "              precision    recall  f1-score   support\n",
            "\n",
            "           0     0.7188    0.6970    0.7077        33\n",
            "           1     0.6429    0.6667    0.6545        27\n",
            "\n",
            "    accuracy                         0.6833        60\n",
            "   macro avg     0.6808    0.6818    0.6811        60\n",
            "weighted avg     0.6846    0.6833    0.6838        60\n",
            "\n"
          ],
          "name": "stdout"
        },
        {
          "output_type": "display_data",
          "data": {
            "image/png": "[encoded data removed]",
            "text/plain": [
              "<Figure size 432x288 with 2 Axes>"
            ]
          },
          "metadata": {
            "tags": [],
            "needs_background": "light"
          }
        },
        {
          "output_type": "stream",
          "text": [
            "\n"
          ],
          "name": "stdout"
        }
      ]
    },
    {
      "cell_type": "markdown",
      "metadata": {
        "id": "avffFQxr_Y3i"
      },
      "source": [
        "### **5.2 TF-IDF without stopwords**"
      ]
    },
    {
      "cell_type": "code",
      "metadata": {
        "id": "xuYH5P5h_Xsi"
      },
      "source": [
        "tfidf_word_no_stopwords = TfidfVectorizer(\n",
        "    analyzer='word',\n",
        "    preprocessor=preprocess,\n",
        "    ngram_range=(1, 3),\n",
        "    use_idf=True,\n",
        "    smooth_idf=False,\n",
        "    norm=None,\n",
        "    decode_error='replace',\n",
        "    max_features=10000,\n",
        "    min_df=5,\n",
        "    max_df=0.75)"
      ],
      "execution_count": 141,
      "outputs": []
    },
    {
      "cell_type": "code",
      "metadata": {
        "id": "hTqkaPzz_5dk"
      },
      "source": [
        "#Construct tfidf matrix and get relevant scores\n",
        "tfidf =tfidf_word_no_stopwords.fit_transform(tweets).toarray()\n",
        "vocab = {v:i for i, v in enumerate(tfidf_word_no_stopwords.get_feature_names())}\n",
        "idf_vals = tfidf_word_no_stopwords.idf_\n",
        "idf_dict = {i:idf_vals[i] for i in vocab.values()} #keys are indices; values are IDF scores\n"
      ],
      "execution_count": 142,
      "outputs": []
    },
    {
      "cell_type": "code",
      "metadata": {
        "id": "EX8U6lyW_5o4"
      },
      "source": [
        "array = np.concatenate([tfidf,pos],axis=1)"
      ],
      "execution_count": 143,
      "outputs": []
    },
    {
      "cell_type": "code",
      "metadata": {
        "id": "1HCa_yzV_5y-",
        "colab": {
          "base_uri": "https://localhost:8080/"
        },
        "outputId": "b2a2a6a9-c0d5-4079-85f1-ca675f49b926"
      },
      "source": [
        "array.shape"
      ],
      "execution_count": 144,
      "outputs": [
        {
          "output_type": "execute_result",
          "data": {
            "text/plain": [
              "(200, 14735)"
            ]
          },
          "metadata": {
            "tags": []
          },
          "execution_count": 144
        }
      ]
    },
    {
      "cell_type": "code",
      "metadata": {
        "id": "Mzrrt-LoAmL_"
      },
      "source": [
        "X_new = pd.DataFrame(array)\n",
        "y_new = data['class'].astype(int)\n",
        "X_train_word, X_test_word, y_train_word, y_test_word = train_test_split(X_new, y_new, test_size = 0.2, random_state = 42, shuffle=True)"
      ],
      "execution_count": 145,
      "outputs": []
    },
    {
      "cell_type": "code",
      "metadata": {
        "id": "V0FH8DvkAvJv"
      },
      "source": [
        "clf_nn = MLPClassifier(solver='lbfgs', alpha=1e-5, hidden_layer_sizes=(15,), random_state=1)\n",
        "\n",
        "grid_search_nn = GridSearchCV(clf_nn, \n",
        "                           param_grid,\n",
        "                           cv=StratifiedKFold(n_splits=5, shuffle=True,\n",
        "                                              random_state=42).split(X_train_word, y_train_word), \n",
        "                           verbose=2)\n",
        "\n",
        "\n"
      ],
      "execution_count": 126,
      "outputs": []
    },
    {
      "cell_type": "code",
      "metadata": {
        "id": "GkviYvxrAvPd",
        "colab": {
          "base_uri": "https://localhost:8080/"
        },
        "outputId": "8057107e-f7d3-487f-ea64-536e380d6a62"
      },
      "source": [
        "clf_nn_words = grid_search_nn.fit(X_train_word, y_train_word)"
      ],
      "execution_count": 127,
      "outputs": [
        {
          "output_type": "stream",
          "text": [
            "Fitting 5 folds for each of 1 candidates, totalling 5 fits\n"
          ],
          "name": "stdout"
        },
        {
          "output_type": "stream",
          "text": [
            "[Parallel(n_jobs=1)]: Using backend SequentialBackend with 1 concurrent workers.\n"
          ],
          "name": "stderr"
        },
        {
          "output_type": "stream",
          "text": [
            "[CV]  ................................................................\n",
            "[CV] ................................................. , total=   2.0s\n"
          ],
          "name": "stdout"
        },
        {
          "output_type": "stream",
          "text": [
            "[Parallel(n_jobs=1)]: Done   1 out of   1 | elapsed:    2.0s remaining:    0.0s\n"
          ],
          "name": "stderr"
        },
        {
          "output_type": "stream",
          "text": [
            "[CV]  ................................................................\n",
            "[CV] ................................................. , total=   2.6s\n",
            "[CV]  ................................................................\n",
            "[CV] ................................................. , total=   3.2s\n",
            "[CV]  ................................................................\n",
            "[CV] ................................................. , total=   1.6s\n",
            "[CV]  ................................................................\n",
            "[CV] ................................................. , total=   2.6s\n"
          ],
          "name": "stdout"
        },
        {
          "output_type": "stream",
          "text": [
            "[Parallel(n_jobs=1)]: Done   5 out of   5 | elapsed:   12.0s finished\n"
          ],
          "name": "stderr"
        }
      ]
    },
    {
      "cell_type": "code",
      "metadata": {
        "id": "vDZYfd-pAvVA",
        "colab": {
          "base_uri": "https://localhost:8080/",
          "height": 978
        },
        "outputId": "b11b1c86-51c3-422e-b310-4c2b063310d5"
      },
      "source": [
        "evaluate_model_ngrammWord(clf_nn_words, model_name=\"clf_nn_words\")"
      ],
      "execution_count": 128,
      "outputs": [
        {
          "output_type": "stream",
          "text": [
            "Training Set\n",
            "Accuracy: 1.0\n",
            "\n",
            "              precision    recall  f1-score   support\n",
            "\n",
            "           0     1.0000    1.0000    1.0000        78\n",
            "           1     1.0000    1.0000    1.0000        82\n",
            "\n",
            "    accuracy                         1.0000       160\n",
            "   macro avg     1.0000    1.0000    1.0000       160\n",
            "weighted avg     1.0000    1.0000    1.0000       160\n",
            "\n"
          ],
          "name": "stdout"
        },
        {
          "output_type": "display_data",
          "data": {
            "image/png": "[encoded data removed]",
            "text/plain": [
              "<Figure size 432x288 with 2 Axes>"
            ]
          },
          "metadata": {
            "tags": [],
            "needs_background": "light"
          }
        },
        {
          "output_type": "stream",
          "text": [
            "\n",
            "Testing Set\n",
            "Accuracy: 0.75\n",
            "\n",
            "              precision    recall  f1-score   support\n",
            "\n",
            "           0     0.7500    0.8182    0.7826        22\n",
            "           1     0.7500    0.6667    0.7059        18\n",
            "\n",
            "    accuracy                         0.7500        40\n",
            "   macro avg     0.7500    0.7424    0.7442        40\n",
            "weighted avg     0.7500    0.7500    0.7481        40\n",
            "\n"
          ],
          "name": "stdout"
        },
        {
          "output_type": "display_data",
          "data": {
            "image/png": "[encoded data removed]",
            "text/plain": [
              "<Figure size 432x288 with 2 Axes>"
            ]
          },
          "metadata": {
            "tags": [],
            "needs_background": "light"
          }
        },
        {
          "output_type": "stream",
          "text": [
            "\n"
          ],
          "name": "stdout"
        }
      ]
    },
    {
      "cell_type": "code",
      "metadata": {
        "id": "5B5xWgLEsW_6"
      },
      "source": [
        ""
      ],
      "execution_count": 128,
      "outputs": []
    },
    {
      "cell_type": "code",
      "metadata": {
        "id": "NXr0nSA8sXQW"
      },
      "source": [
        "clf_rf = RandomForestClassifier(n_estimators=500,\n",
        "                                criterion=\"gini\",\n",
        "                                max_depth=None, \n",
        "                                min_samples_split=2,\n",
        "                                min_samples_leaf=10, \n",
        "                                max_features=\"auto\", \n",
        "                                n_jobs=-1,\n",
        "                                verbose=1,\n",
        "                                random_state=0,\n",
        "                                class_weight='balanced')"
      ],
      "execution_count": 129,
      "outputs": []
    },
    {
      "cell_type": "code",
      "metadata": {
        "id": "xaXdoukasXc-"
      },
      "source": [
        "grid_search_rf = GridSearchCV(clf_rf, \n",
        "                           param_grid,\n",
        "                           cv=StratifiedKFold(n_splits=5, shuffle=True,\n",
        "                                              random_state=42).split(X_train_word, y_train_word), \n",
        "                           verbose=2)"
      ],
      "execution_count": 130,
      "outputs": []
    },
    {
      "cell_type": "code",
      "metadata": {
        "id": "7sc0LppbsXl2",
        "colab": {
          "base_uri": "https://localhost:8080/"
        },
        "outputId": "f7369b26-10ed-4281-bd75-7d8e4a2189fc"
      },
      "source": [
        "clf_rf_words= grid_search_rf.fit(X_train_word, y_train_word)"
      ],
      "execution_count": 131,
      "outputs": [
        {
          "output_type": "stream",
          "text": [
            "Fitting 5 folds for each of 1 candidates, totalling 5 fits\n"
          ],
          "name": "stdout"
        },
        {
          "output_type": "stream",
          "text": [
            "[Parallel(n_jobs=1)]: Using backend SequentialBackend with 1 concurrent workers.\n"
          ],
          "name": "stderr"
        },
        {
          "output_type": "stream",
          "text": [
            "[CV]  ................................................................\n"
          ],
          "name": "stdout"
        },
        {
          "output_type": "stream",
          "text": [
            "[Parallel(n_jobs=-1)]: Using backend LokyBackend with 2 concurrent workers.\n",
            "[Parallel(n_jobs=-1)]: Done 500 out of 500 | elapsed:    1.0s finished\n",
            "[Parallel(n_jobs=2)]: Using backend ThreadingBackend with 2 concurrent workers.\n",
            "[Parallel(n_jobs=2)]: Done  46 tasks      | elapsed:    0.0s\n",
            "[Parallel(n_jobs=2)]: Done 196 tasks      | elapsed:    0.1s\n",
            "[Parallel(n_jobs=2)]: Done 446 tasks      | elapsed:    0.1s\n",
            "[Parallel(n_jobs=2)]: Done 500 out of 500 | elapsed:    0.2s finished\n"
          ],
          "name": "stderr"
        },
        {
          "output_type": "stream",
          "text": [
            "[CV] ................................................. , total=   1.6s\n"
          ],
          "name": "stdout"
        },
        {
          "output_type": "stream",
          "text": [
            "[Parallel(n_jobs=1)]: Done   1 out of   1 | elapsed:    1.6s remaining:    0.0s\n"
          ],
          "name": "stderr"
        },
        {
          "output_type": "stream",
          "text": [
            "[CV]  ................................................................\n"
          ],
          "name": "stdout"
        },
        {
          "output_type": "stream",
          "text": [
            "[Parallel(n_jobs=-1)]: Using backend LokyBackend with 2 concurrent workers.\n",
            "[Parallel(n_jobs=-1)]: Done 500 out of 500 | elapsed:    1.0s finished\n",
            "[Parallel(n_jobs=2)]: Using backend ThreadingBackend with 2 concurrent workers.\n",
            "[Parallel(n_jobs=2)]: Done  46 tasks      | elapsed:    0.0s\n",
            "[Parallel(n_jobs=2)]: Done 196 tasks      | elapsed:    0.1s\n",
            "[Parallel(n_jobs=2)]: Done 446 tasks      | elapsed:    0.1s\n",
            "[Parallel(n_jobs=2)]: Done 500 out of 500 | elapsed:    0.2s finished\n"
          ],
          "name": "stderr"
        },
        {
          "output_type": "stream",
          "text": [
            "[CV] ................................................. , total=   1.6s\n",
            "[CV]  ................................................................\n"
          ],
          "name": "stdout"
        },
        {
          "output_type": "stream",
          "text": [
            "[Parallel(n_jobs=-1)]: Using backend LokyBackend with 2 concurrent workers.\n",
            "[Parallel(n_jobs=-1)]: Done 500 out of 500 | elapsed:    1.0s finished\n",
            "[Parallel(n_jobs=2)]: Using backend ThreadingBackend with 2 concurrent workers.\n",
            "[Parallel(n_jobs=2)]: Done  46 tasks      | elapsed:    0.0s\n",
            "[Parallel(n_jobs=2)]: Done 196 tasks      | elapsed:    0.1s\n",
            "[Parallel(n_jobs=2)]: Done 446 tasks      | elapsed:    0.1s\n",
            "[Parallel(n_jobs=2)]: Done 500 out of 500 | elapsed:    0.2s finished\n"
          ],
          "name": "stderr"
        },
        {
          "output_type": "stream",
          "text": [
            "[CV] ................................................. , total=   1.6s\n",
            "[CV]  ................................................................\n"
          ],
          "name": "stdout"
        },
        {
          "output_type": "stream",
          "text": [
            "[Parallel(n_jobs=-1)]: Using backend LokyBackend with 2 concurrent workers.\n",
            "[Parallel(n_jobs=-1)]: Done 500 out of 500 | elapsed:    1.0s finished\n",
            "[Parallel(n_jobs=2)]: Using backend ThreadingBackend with 2 concurrent workers.\n",
            "[Parallel(n_jobs=2)]: Done  46 tasks      | elapsed:    0.0s\n",
            "[Parallel(n_jobs=2)]: Done 196 tasks      | elapsed:    0.1s\n",
            "[Parallel(n_jobs=2)]: Done 446 tasks      | elapsed:    0.1s\n",
            "[Parallel(n_jobs=2)]: Done 500 out of 500 | elapsed:    0.2s finished\n"
          ],
          "name": "stderr"
        },
        {
          "output_type": "stream",
          "text": [
            "[CV] ................................................. , total=   1.6s\n",
            "[CV]  ................................................................\n"
          ],
          "name": "stdout"
        },
        {
          "output_type": "stream",
          "text": [
            "[Parallel(n_jobs=-1)]: Using backend LokyBackend with 2 concurrent workers.\n",
            "[Parallel(n_jobs=-1)]: Done 500 out of 500 | elapsed:    1.0s finished\n",
            "[Parallel(n_jobs=2)]: Using backend ThreadingBackend with 2 concurrent workers.\n",
            "[Parallel(n_jobs=2)]: Done  46 tasks      | elapsed:    0.0s\n",
            "[Parallel(n_jobs=2)]: Done 196 tasks      | elapsed:    0.1s\n",
            "[Parallel(n_jobs=2)]: Done 446 tasks      | elapsed:    0.1s\n",
            "[Parallel(n_jobs=2)]: Done 500 out of 500 | elapsed:    0.2s finished\n"
          ],
          "name": "stderr"
        },
        {
          "output_type": "stream",
          "text": [
            "[CV] ................................................. , total=   1.6s\n"
          ],
          "name": "stdout"
        },
        {
          "output_type": "stream",
          "text": [
            "[Parallel(n_jobs=1)]: Done   5 out of   5 | elapsed:    8.1s finished\n",
            "[Parallel(n_jobs=-1)]: Using backend ThreadingBackend with 2 concurrent workers.\n",
            "[Parallel(n_jobs=-1)]: Done  46 tasks      | elapsed:    0.1s\n",
            "[Parallel(n_jobs=-1)]: Done 196 tasks      | elapsed:    0.4s\n",
            "[Parallel(n_jobs=-1)]: Done 446 tasks      | elapsed:    1.0s\n",
            "[Parallel(n_jobs=-1)]: Done 500 out of 500 | elapsed:    1.1s finished\n"
          ],
          "name": "stderr"
        }
      ]
    },
    {
      "cell_type": "code",
      "metadata": {
        "id": "AQlwYTXhsq0g",
        "colab": {
          "base_uri": "https://localhost:8080/",
          "height": 1000
        },
        "outputId": "ee466760-919f-4c71-a536-ee93fba001c9"
      },
      "source": [
        "evaluate_model_ngrammWord(clf_rf_words, model_name=\"clf_rf_words\")"
      ],
      "execution_count": 132,
      "outputs": [
        {
          "output_type": "stream",
          "text": [
            "[Parallel(n_jobs=2)]: Using backend ThreadingBackend with 2 concurrent workers.\n",
            "[Parallel(n_jobs=2)]: Done  46 tasks      | elapsed:    0.0s\n",
            "[Parallel(n_jobs=2)]: Done 196 tasks      | elapsed:    0.1s\n",
            "[Parallel(n_jobs=2)]: Done 446 tasks      | elapsed:    0.2s\n",
            "[Parallel(n_jobs=2)]: Done 500 out of 500 | elapsed:    0.2s finished\n"
          ],
          "name": "stderr"
        },
        {
          "output_type": "stream",
          "text": [
            "Training Set\n",
            "Accuracy: 0.99375\n",
            "\n",
            "              precision    recall  f1-score   support\n",
            "\n",
            "           0     0.9873    1.0000    0.9936        78\n",
            "           1     1.0000    0.9878    0.9939        82\n",
            "\n",
            "    accuracy                         0.9938       160\n",
            "   macro avg     0.9937    0.9939    0.9937       160\n",
            "weighted avg     0.9938    0.9938    0.9938       160\n",
            "\n"
          ],
          "name": "stdout"
        },
        {
          "output_type": "stream",
          "text": [
            "[Parallel(n_jobs=2)]: Using backend ThreadingBackend with 2 concurrent workers.\n",
            "[Parallel(n_jobs=2)]: Done  46 tasks      | elapsed:    0.0s\n",
            "[Parallel(n_jobs=2)]: Done 196 tasks      | elapsed:    0.1s\n",
            "[Parallel(n_jobs=2)]: Done 446 tasks      | elapsed:    0.2s\n",
            "[Parallel(n_jobs=2)]: Done 500 out of 500 | elapsed:    0.2s finished\n"
          ],
          "name": "stderr"
        },
        {
          "output_type": "display_data",
          "data": {
            "image/png": "[encoded data removed]",
            "text/plain": [
              "<Figure size 432x288 with 2 Axes>"
            ]
          },
          "metadata": {
            "tags": [],
            "needs_background": "light"
          }
        },
        {
          "output_type": "stream",
          "text": [
            "\n"
          ],
          "name": "stdout"
        },
        {
          "output_type": "stream",
          "text": [
            "[Parallel(n_jobs=2)]: Using backend ThreadingBackend with 2 concurrent workers.\n",
            "[Parallel(n_jobs=2)]: Done  46 tasks      | elapsed:    0.0s\n",
            "[Parallel(n_jobs=2)]: Done 196 tasks      | elapsed:    0.1s\n",
            "[Parallel(n_jobs=2)]: Done 446 tasks      | elapsed:    0.2s\n",
            "[Parallel(n_jobs=2)]: Done 500 out of 500 | elapsed:    0.2s finished\n"
          ],
          "name": "stderr"
        },
        {
          "output_type": "stream",
          "text": [
            "Testing Set\n",
            "Accuracy: 0.65\n",
            "\n",
            "              precision    recall  f1-score   support\n",
            "\n",
            "           0     0.6667    0.7273    0.6957        22\n",
            "           1     0.6250    0.5556    0.5882        18\n",
            "\n",
            "    accuracy                         0.6500        40\n",
            "   macro avg     0.6458    0.6414    0.6419        40\n",
            "weighted avg     0.6479    0.6500    0.6473        40\n",
            "\n"
          ],
          "name": "stdout"
        },
        {
          "output_type": "stream",
          "text": [
            "[Parallel(n_jobs=2)]: Using backend ThreadingBackend with 2 concurrent workers.\n",
            "[Parallel(n_jobs=2)]: Done  46 tasks      | elapsed:    0.0s\n",
            "[Parallel(n_jobs=2)]: Done 196 tasks      | elapsed:    0.1s\n",
            "[Parallel(n_jobs=2)]: Done 446 tasks      | elapsed:    0.1s\n",
            "[Parallel(n_jobs=2)]: Done 500 out of 500 | elapsed:    0.2s finished\n"
          ],
          "name": "stderr"
        },
        {
          "output_type": "display_data",
          "data": {
            "image/png": "[encoded data removed]",
            "text/plain": [
              "<Figure size 432x288 with 2 Axes>"
            ]
          },
          "metadata": {
            "tags": [],
            "needs_background": "light"
          }
        },
        {
          "output_type": "stream",
          "text": [
            "\n"
          ],
          "name": "stdout"
        }
      ]
    },
    {
      "cell_type": "code",
      "metadata": {
        "id": "XwhqwGT2yiL_"
      },
      "source": [
        ""
      ],
      "execution_count": 132,
      "outputs": []
    },
    {
      "cell_type": "code",
      "metadata": {
        "id": "kIe8MhxNyiZD"
      },
      "source": [
        "clf_sgd = make_pipeline(StandardScaler(with_mean=False),\n",
        "                        SGDClassifier(loss='hinge',\n",
        "                                      penalty='l2',\n",
        "                                      alpha=30,\n",
        "                                      max_iter=1000, \n",
        "                                      tol=1e-3,\n",
        "                                      shuffle=True,\n",
        "                                      verbose=1,\n",
        "                                      n_jobs=-1,\n",
        "                                      random_state=0,\n",
        "                                      learning_rate='optimal',\n",
        "                                      early_stopping=True,\n",
        "                                      class_weight='balanced'))\n",
        "\n"
      ],
      "execution_count": 133,
      "outputs": []
    },
    {
      "cell_type": "code",
      "metadata": {
        "id": "0Tr-HlJvyihv"
      },
      "source": [
        "grid_search_sgd = GridSearchCV(clf_sgd, \n",
        "                           param_grid,\n",
        "                           cv=StratifiedKFold(n_splits=5, shuffle=True,\n",
        "                                              random_state=42).split(X_train_word, y_train_word), \n",
        "                           verbose=2)\n"
      ],
      "execution_count": 134,
      "outputs": []
    },
    {
      "cell_type": "code",
      "metadata": {
        "id": "jsbVg1Nhyimv",
        "colab": {
          "base_uri": "https://localhost:8080/"
        },
        "outputId": "978a91b6-01dd-4663-fab4-cebcc49f1e73"
      },
      "source": [
        "clf_sgd = grid_search_sgd.fit(X_train_word, y_train_word)"
      ],
      "execution_count": 135,
      "outputs": [
        {
          "output_type": "stream",
          "text": [
            "Fitting 5 folds for each of 1 candidates, totalling 5 fits\n"
          ],
          "name": "stdout"
        },
        {
          "output_type": "stream",
          "text": [
            "[Parallel(n_jobs=1)]: Using backend SequentialBackend with 1 concurrent workers.\n"
          ],
          "name": "stderr"
        },
        {
          "output_type": "stream",
          "text": [
            "[CV]  ................................................................\n",
            "-- Epoch 1\n",
            "Norm: 0.33, NNZs: 14626, Bias: -0.430110, T: 115, Avg. loss: 1.472512\n",
            "Total training time: 0.04 seconds.\n",
            "-- Epoch 2\n",
            "Norm: 0.19, NNZs: 14717, Bias: -0.430494, T: 230, Avg. loss: 0.198127\n",
            "Total training time: 0.08 seconds.\n",
            "-- Epoch 3\n",
            "Norm: 0.14, NNZs: 14725, Bias: -0.430430, T: 345, Avg. loss: 0.022475\n",
            "Total training time: 0.12 seconds.\n",
            "-- Epoch 4\n",
            "Norm: 0.13, NNZs: 14725, Bias: -0.430424, T: 460, Avg. loss: 0.036905\n",
            "Total training time: 0.16 seconds.\n",
            "-- Epoch 5\n",
            "Norm: 0.12, NNZs: 14725, Bias: -0.430486, T: 575, Avg. loss: 0.050098\n",
            "Total training time: 0.19 seconds.\n",
            "-- Epoch 6\n",
            "Norm: 0.12, NNZs: 14725, Bias: -0.430410, T: 690, Avg. loss: 0.043326\n",
            "Total training time: 0.21 seconds.\n",
            "-- Epoch 7\n",
            "Norm: 0.11, NNZs: 14725, Bias: -0.430394, T: 805, Avg. loss: 0.025517\n",
            "Total training time: 0.23 seconds.\n",
            "-- Epoch 8\n",
            "Norm: 0.11, NNZs: 14725, Bias: -0.430341, T: 920, Avg. loss: 0.023323\n",
            "Total training time: 0.26 seconds.\n",
            "-- Epoch 9\n",
            "Norm: 0.11, NNZs: 14725, Bias: -0.430306, T: 1035, Avg. loss: 0.026430\n",
            "Total training time: 0.29 seconds.\n",
            "Convergence after 9 epochs took 0.30 seconds\n",
            "[CV] ................................................. , total=   0.4s\n"
          ],
          "name": "stdout"
        },
        {
          "output_type": "stream",
          "text": [
            "[Parallel(n_jobs=1)]: Done   1 out of   1 | elapsed:    0.5s remaining:    0.0s\n"
          ],
          "name": "stderr"
        },
        {
          "output_type": "stream",
          "text": [
            "[CV]  ................................................................\n",
            "-- Epoch 1\n",
            "Norm: 0.30, NNZs: 14482, Bias: -0.433745, T: 115, Avg. loss: 1.083786\n",
            "Total training time: 0.02 seconds.\n",
            "-- Epoch 2\n",
            "Norm: 0.19, NNZs: 14707, Bias: -0.434625, T: 230, Avg. loss: 0.290140\n",
            "Total training time: 0.04 seconds.\n",
            "-- Epoch 3\n",
            "Norm: 0.14, NNZs: 14713, Bias: -0.433753, T: 345, Avg. loss: 0.048980\n",
            "Total training time: 0.05 seconds.\n",
            "-- Epoch 4\n",
            "Norm: 0.12, NNZs: 14714, Bias: -0.434113, T: 460, Avg. loss: 0.033279\n",
            "Total training time: 0.08 seconds.\n",
            "-- Epoch 5\n",
            "Norm: 0.12, NNZs: 14714, Bias: -0.433861, T: 575, Avg. loss: 0.042928\n",
            "Total training time: 0.11 seconds.\n",
            "-- Epoch 6\n",
            "Norm: 0.12, NNZs: 14714, Bias: -0.433920, T: 690, Avg. loss: 0.043826\n",
            "Total training time: 0.13 seconds.\n",
            "Convergence after 6 epochs took 0.14 seconds\n",
            "[CV] ................................................. , total=   0.3s\n",
            "[CV]  ................................................................\n",
            "-- Epoch 1\n",
            "Norm: 0.30, NNZs: 14551, Bias: -0.417617, T: 115, Avg. loss: 1.866547\n",
            "Total training time: 0.02 seconds.\n",
            "-- Epoch 2\n",
            "Norm: 0.19, NNZs: 14717, Bias: -0.418489, T: 230, Avg. loss: 0.271085\n",
            "Total training time: 0.07 seconds.\n",
            "-- Epoch 3\n",
            "Norm: 0.14, NNZs: 14718, Bias: -0.418317, T: 345, Avg. loss: 0.034530\n",
            "Total training time: 0.11 seconds.\n",
            "-- Epoch 4\n",
            "Norm: 0.12, NNZs: 14722, Bias: -0.418300, T: 460, Avg. loss: 0.035100\n",
            "Total training time: 0.13 seconds.\n",
            "-- Epoch 5\n",
            "Norm: 0.12, NNZs: 14721, Bias: -0.418354, T: 575, Avg. loss: 0.043267\n",
            "Total training time: 0.17 seconds.\n",
            "-- Epoch 6\n",
            "Norm: 0.12, NNZs: 14722, Bias: -0.418267, T: 690, Avg. loss: 0.033799\n",
            "Total training time: 0.21 seconds.\n",
            "-- Epoch 7\n",
            "Norm: 0.11, NNZs: 14722, Bias: -0.418172, T: 805, Avg. loss: 0.024687\n",
            "Total training time: 0.23 seconds.\n",
            "Convergence after 7 epochs took 0.24 seconds\n",
            "[CV] ................................................. , total=   0.5s\n",
            "[CV]  ................................................................\n",
            "-- Epoch 1\n",
            "Norm: 0.35, NNZs: 14682, Bias: -0.404938, T: 115, Avg. loss: 6.688773\n",
            "Total training time: 0.02 seconds.\n",
            "-- Epoch 2\n",
            "Norm: 0.19, NNZs: 14715, Bias: -0.405071, T: 230, Avg. loss: 0.123798\n",
            "Total training time: 0.06 seconds.\n",
            "-- Epoch 3\n",
            "Norm: 0.13, NNZs: 14718, Bias: -0.405166, T: 345, Avg. loss: 0.011960\n",
            "Total training time: 0.09 seconds.\n",
            "-- Epoch 4\n",
            "Norm: 0.12, NNZs: 14718, Bias: -0.405169, T: 460, Avg. loss: 0.022339\n",
            "Total training time: 0.12 seconds.\n",
            "-- Epoch 5\n",
            "Norm: 0.12, NNZs: 14718, Bias: -0.405076, T: 575, Avg. loss: 0.055086\n",
            "Total training time: 0.15 seconds.\n",
            "-- Epoch 6\n",
            "Norm: 0.12, NNZs: 14718, Bias: -0.405058, T: 690, Avg. loss: 0.040007\n",
            "Total training time: 0.18 seconds.\n",
            "-- Epoch 7\n",
            "Norm: 0.11, NNZs: 14718, Bias: -0.405035, T: 805, Avg. loss: 0.015830\n",
            "Total training time: 0.21 seconds.\n",
            "-- Epoch 8\n",
            "Norm: 0.11, NNZs: 14718, Bias: -0.405094, T: 920, Avg. loss: 0.023928\n",
            "Total training time: 0.24 seconds.\n",
            "-- Epoch 9\n",
            "Norm: 0.11, NNZs: 14718, Bias: -0.405111, T: 1035, Avg. loss: 0.021230\n",
            "Total training time: 0.27 seconds.\n",
            "Convergence after 9 epochs took 0.28 seconds\n",
            "[CV] ................................................. , total=   0.5s\n",
            "[CV]  ................................................................\n",
            "-- Epoch 1\n",
            "Norm: 0.33, NNZs: 14633, Bias: -0.399190, T: 115, Avg. loss: 8.379515\n",
            "Total training time: 0.02 seconds.\n",
            "-- Epoch 2\n",
            "Norm: 0.19, NNZs: 14712, Bias: -0.399639, T: 230, Avg. loss: 0.188719\n",
            "Total training time: 0.06 seconds.\n",
            "-- Epoch 3\n",
            "Norm: 0.14, NNZs: 14719, Bias: -0.398806, T: 345, Avg. loss: 0.041154\n",
            "Total training time: 0.08 seconds.\n",
            "-- Epoch 4\n",
            "Norm: 0.12, NNZs: 14719, Bias: -0.398926, T: 460, Avg. loss: 0.020546\n",
            "Total training time: 0.10 seconds.\n",
            "-- Epoch 5\n",
            "Norm: 0.12, NNZs: 14719, Bias: -0.398783, T: 575, Avg. loss: 0.065909\n",
            "Total training time: 0.12 seconds.\n",
            "-- Epoch 6\n",
            "Norm: 0.12, NNZs: 14719, Bias: -0.398706, T: 690, Avg. loss: 0.038827\n",
            "Total training time: 0.13 seconds.\n",
            "-- Epoch 7\n",
            "Norm: 0.11, NNZs: 14719, Bias: -0.398643, T: 805, Avg. loss: 0.024428\n",
            "Total training time: 0.15 seconds.\n",
            "Convergence after 7 epochs took 0.16 seconds\n",
            "[CV] ................................................. , total=   0.4s\n"
          ],
          "name": "stdout"
        },
        {
          "output_type": "stream",
          "text": [
            "[Parallel(n_jobs=1)]: Done   5 out of   5 | elapsed:    2.1s finished\n"
          ],
          "name": "stderr"
        },
        {
          "output_type": "stream",
          "text": [
            "-- Epoch 1\n",
            "Norm: 0.30, NNZs: 14719, Bias: 0.399045, T: 144, Avg. loss: 1.441160\n",
            "Total training time: 0.02 seconds.\n",
            "-- Epoch 2\n",
            "Norm: 0.18, NNZs: 14731, Bias: 0.398204, T: 288, Avg. loss: 0.185306\n",
            "Total training time: 0.04 seconds.\n",
            "-- Epoch 3\n",
            "Norm: 0.14, NNZs: 14731, Bias: 0.398240, T: 432, Avg. loss: 0.045801\n",
            "Total training time: 0.07 seconds.\n",
            "-- Epoch 4\n",
            "Norm: 0.13, NNZs: 14731, Bias: 0.397994, T: 576, Avg. loss: 0.069907\n",
            "Total training time: 0.11 seconds.\n",
            "-- Epoch 5\n",
            "Norm: 0.13, NNZs: 14731, Bias: 0.397723, T: 720, Avg. loss: 0.058817\n",
            "Total training time: 0.14 seconds.\n",
            "-- Epoch 6\n",
            "Norm: 0.12, NNZs: 14731, Bias: 0.397649, T: 864, Avg. loss: 0.039111\n",
            "Total training time: 0.17 seconds.\n",
            "Convergence after 6 epochs took 0.18 seconds\n"
          ],
          "name": "stdout"
        }
      ]
    },
    {
      "cell_type": "code",
      "metadata": {
        "id": "6jxd18N8yirj",
        "colab": {
          "base_uri": "https://localhost:8080/",
          "height": 974
        },
        "outputId": "f0dafb61-1323-45d7-fd77-21a8b918865c"
      },
      "source": [
        "evaluate_model_ngrammWord(clf_sgd, model_name=\"sgd\")"
      ],
      "execution_count": 136,
      "outputs": [
        {
          "output_type": "stream",
          "text": [
            "Training Set\n",
            "Accuracy: 0.98125\n",
            "\n",
            "              precision    recall  f1-score   support\n",
            "\n",
            "           0     0.9870    0.9744    0.9806        78\n",
            "           1     0.9759    0.9878    0.9818        82\n",
            "\n",
            "    accuracy                         0.9812       160\n",
            "   macro avg     0.9815    0.9811    0.9812       160\n",
            "weighted avg     0.9813    0.9812    0.9812       160\n",
            "\n"
          ],
          "name": "stdout"
        },
        {
          "output_type": "display_data",
          "data": {
            "image/png": "[encoded data removed]",
            "text/plain": [
              "<Figure size 432x288 with 2 Axes>"
            ]
          },
          "metadata": {
            "tags": [],
            "needs_background": "light"
          }
        },
        {
          "output_type": "stream",
          "text": [
            "\n",
            "Testing Set\n",
            "Accuracy: 0.6\n",
            "\n",
            "              precision    recall  f1-score   support\n",
            "\n",
            "           0     0.6071    0.7727    0.6800        22\n",
            "           1     0.5833    0.3889    0.4667        18\n",
            "\n",
            "    accuracy                         0.6000        40\n",
            "   macro avg     0.5952    0.5808    0.5733        40\n",
            "weighted avg     0.5964    0.6000    0.5840        40\n",
            "\n"
          ],
          "name": "stdout"
        },
        {
          "output_type": "display_data",
          "data": {
            "image/png": "[encoded data removed]",
            "text/plain": [
              "<Figure size 432x288 with 2 Axes>"
            ]
          },
          "metadata": {
            "tags": [],
            "needs_background": "light"
          }
        },
        {
          "output_type": "stream",
          "text": [
            "\n"
          ],
          "name": "stdout"
        }
      ]
    },
    {
      "cell_type": "code",
      "metadata": {
        "id": "be3iY9qxyi3f"
      },
      "source": [
        "knn = KNeighborsClassifier(n_neighbors= 18)\n",
        "grid_search_knn = GridSearchCV(knn, \n",
        "                           param_grid,\n",
        "                           cv=StratifiedKFold(n_splits=5, shuffle=True,\n",
        "                                              random_state=42).split(X_train_word, y_train_word), \n",
        "                           verbose=2)\n"
      ],
      "execution_count": 137,
      "outputs": []
    },
    {
      "cell_type": "code",
      "metadata": {
        "id": "C3oIdhjlyi9F",
        "colab": {
          "base_uri": "https://localhost:8080/"
        },
        "outputId": "62b74de4-7555-4c11-d9c5-a60a9e1b9342"
      },
      "source": [
        "\n",
        "knn = grid_search_knn.fit(X_train_word, y_train_word)"
      ],
      "execution_count": 138,
      "outputs": [
        {
          "output_type": "stream",
          "text": [
            "Fitting 5 folds for each of 1 candidates, totalling 5 fits\n"
          ],
          "name": "stdout"
        },
        {
          "output_type": "stream",
          "text": [
            "[Parallel(n_jobs=1)]: Using backend SequentialBackend with 1 concurrent workers.\n"
          ],
          "name": "stderr"
        },
        {
          "output_type": "stream",
          "text": [
            "[CV]  ................................................................\n",
            "[CV] ................................................. , total=   0.2s\n"
          ],
          "name": "stdout"
        },
        {
          "output_type": "stream",
          "text": [
            "[Parallel(n_jobs=1)]: Done   1 out of   1 | elapsed:    0.2s remaining:    0.0s\n"
          ],
          "name": "stderr"
        },
        {
          "output_type": "stream",
          "text": [
            "[CV]  ................................................................\n",
            "[CV] ................................................. , total=   0.2s\n",
            "[CV]  ................................................................\n",
            "[CV] ................................................. , total=   0.2s\n",
            "[CV]  ................................................................\n",
            "[CV] ................................................. , total=   0.2s\n",
            "[CV]  ................................................................\n",
            "[CV] ................................................. , total=   0.2s\n"
          ],
          "name": "stdout"
        },
        {
          "output_type": "stream",
          "text": [
            "[Parallel(n_jobs=1)]: Done   5 out of   5 | elapsed:    1.2s finished\n"
          ],
          "name": "stderr"
        }
      ]
    },
    {
      "cell_type": "code",
      "metadata": {
        "id": "_LOHJt9syjB-",
        "colab": {
          "base_uri": "https://localhost:8080/",
          "height": 978
        },
        "outputId": "4bf6d30f-a496-44a5-d828-d7257bdcbbf1"
      },
      "source": [
        "evaluate_model_ngrammWord(knn, model_name=\"knn\")"
      ],
      "execution_count": 139,
      "outputs": [
        {
          "output_type": "stream",
          "text": [
            "Training Set\n",
            "Accuracy: 0.58125\n",
            "\n",
            "              precision    recall  f1-score   support\n",
            "\n",
            "           0     0.8235    0.1795    0.2947        78\n",
            "           1     0.5524    0.9634    0.7022        82\n",
            "\n",
            "    accuracy                         0.5813       160\n",
            "   macro avg     0.6880    0.5715    0.4985       160\n",
            "weighted avg     0.6846    0.5813    0.5036       160\n",
            "\n"
          ],
          "name": "stdout"
        },
        {
          "output_type": "display_data",
          "data": {
            "image/png": "[encoded data removed]",
            "text/plain": [
              "<Figure size 432x288 with 2 Axes>"
            ]
          },
          "metadata": {
            "tags": [],
            "needs_background": "light"
          }
        },
        {
          "output_type": "stream",
          "text": [
            "\n",
            "Testing Set\n",
            "Accuracy: 0.525\n",
            "\n",
            "              precision    recall  f1-score   support\n",
            "\n",
            "           0     1.0000    0.1364    0.2400        22\n",
            "           1     0.4865    1.0000    0.6545        18\n",
            "\n",
            "    accuracy                         0.5250        40\n",
            "   macro avg     0.7432    0.5682    0.4473        40\n",
            "weighted avg     0.7689    0.5250    0.4265        40\n",
            "\n"
          ],
          "name": "stdout"
        },
        {
          "output_type": "display_data",
          "data": {
            "image/png": "[encoded data removed]",
            "text/plain": [
              "<Figure size 432x288 with 2 Axes>"
            ]
          },
          "metadata": {
            "tags": [],
            "needs_background": "light"
          }
        },
        {
          "output_type": "stream",
          "text": [
            "\n"
          ],
          "name": "stdout"
        }
      ]
    },
    {
      "cell_type": "code",
      "metadata": {
        "id": "CBFHY6XxRvq0"
      },
      "source": [
        ""
      ],
      "execution_count": 139,
      "outputs": []
    },
    {
      "cell_type": "code",
      "metadata": {
        "id": "kKatU94QRwhG"
      },
      "source": [
        ""
      ],
      "execution_count": 139,
      "outputs": []
    },
    {
      "cell_type": "code",
      "metadata": {
        "id": "np4Mc-LbRwmB"
      },
      "source": [
        ""
      ],
      "execution_count": 139,
      "outputs": []
    },
    {
      "cell_type": "code",
      "metadata": {
        "id": "te5e77M_Rw3o"
      },
      "source": [
        ""
      ],
      "execution_count": 139,
      "outputs": []
    }
  ]
}